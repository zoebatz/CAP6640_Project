{
  "nbformat": 4,
  "nbformat_minor": 0,
  "metadata": {
    "colab": {
      "provenance": [],
      "machine_shape": "hm",
      "mount_file_id": "1ThuRq2JxrGJpcnW7cIjvgO2mN7bTQj5h",
      "authorship_tag": "ABX9TyNc25RL0WcXT9gZnGjkRTUr",
      "include_colab_link": true
    },
    "kernelspec": {
      "name": "python3",
      "display_name": "Python 3"
    },
    "language_info": {
      "name": "python"
    }
  },
  "cells": [
    {
      "cell_type": "markdown",
      "metadata": {
        "id": "view-in-github",
        "colab_type": "text"
      },
      "source": [
        "<a href=\"https://colab.research.google.com/github/zoebatz/CAP6640_Project/blob/main/NLP_gpt_TC2.ipynb\" target=\"_parent\"><img src=\"https://colab.research.google.com/assets/colab-badge.svg\" alt=\"Open In Colab\"/></a>"
      ]
    },
    {
      "cell_type": "code",
      "execution_count": 1,
      "metadata": {
        "id": "gZFUpYnyjlNM"
      },
      "outputs": [],
      "source": [
        "from sklearn.metrics import accuracy_score, precision_score, recall_score, f1_score, confusion_matrix, roc_auc_score\n",
        "import openai\n",
        "import pandas as pd\n",
        "import numpy as np\n",
        "import os\n",
        "import kagglehub\n",
        "\n",
        "from google.colab import userdata\n",
        "\n",
        "# print(openai.__version__)\n",
        "os.environ['OPENAI_API_KEY'] = userdata.get('OPENAI_API_NLP')"
      ]
    },
    {
      "cell_type": "code",
      "source": [
        "# import data from google drive\n",
        "file_name = \"data_tc2\"\n",
        "\n",
        "path = \"/content/drive/MyDrive/Colab Notebooks/CAP6640_NLP/data/\"+file_name+\".csv\"\n",
        "data = pd.read_csv(path)\n",
        "data.head()\n",
        "\n"
      ],
      "metadata": {
        "colab": {
          "base_uri": "https://localhost:8080/",
          "height": 204
        },
        "id": "-aTC3RkqlClQ",
        "outputId": "c4210498-6ea9-401c-adfb-90e5c9a9413d"
      },
      "execution_count": 106,
      "outputs": [
        {
          "output_type": "execute_result",
          "data": {
            "text/plain": [
              "  Category                                               text  label\n",
              "0      ham  Go until jurong point, crazy.. Available only ...      0\n",
              "1      ham                      Ok lar... Joking wif u oni...      0\n",
              "2     spam  Free entry in 2 a wkly comp to win FA Cup fina...      1\n",
              "3      ham  U dun say so early hor... U c already then say...      0\n",
              "4      ham  Nah I don't think he goes to usf, he lives aro...      0"
            ],
            "text/html": [
              "\n",
              "  <div id=\"df-8766a28f-2c11-4da3-831a-6da6e588255b\" class=\"colab-df-container\">\n",
              "    <div>\n",
              "<style scoped>\n",
              "    .dataframe tbody tr th:only-of-type {\n",
              "        vertical-align: middle;\n",
              "    }\n",
              "\n",
              "    .dataframe tbody tr th {\n",
              "        vertical-align: top;\n",
              "    }\n",
              "\n",
              "    .dataframe thead th {\n",
              "        text-align: right;\n",
              "    }\n",
              "</style>\n",
              "<table border=\"1\" class=\"dataframe\">\n",
              "  <thead>\n",
              "    <tr style=\"text-align: right;\">\n",
              "      <th></th>\n",
              "      <th>Category</th>\n",
              "      <th>text</th>\n",
              "      <th>label</th>\n",
              "    </tr>\n",
              "  </thead>\n",
              "  <tbody>\n",
              "    <tr>\n",
              "      <th>0</th>\n",
              "      <td>ham</td>\n",
              "      <td>Go until jurong point, crazy.. Available only ...</td>\n",
              "      <td>0</td>\n",
              "    </tr>\n",
              "    <tr>\n",
              "      <th>1</th>\n",
              "      <td>ham</td>\n",
              "      <td>Ok lar... Joking wif u oni...</td>\n",
              "      <td>0</td>\n",
              "    </tr>\n",
              "    <tr>\n",
              "      <th>2</th>\n",
              "      <td>spam</td>\n",
              "      <td>Free entry in 2 a wkly comp to win FA Cup fina...</td>\n",
              "      <td>1</td>\n",
              "    </tr>\n",
              "    <tr>\n",
              "      <th>3</th>\n",
              "      <td>ham</td>\n",
              "      <td>U dun say so early hor... U c already then say...</td>\n",
              "      <td>0</td>\n",
              "    </tr>\n",
              "    <tr>\n",
              "      <th>4</th>\n",
              "      <td>ham</td>\n",
              "      <td>Nah I don't think he goes to usf, he lives aro...</td>\n",
              "      <td>0</td>\n",
              "    </tr>\n",
              "  </tbody>\n",
              "</table>\n",
              "</div>\n",
              "    <div class=\"colab-df-buttons\">\n",
              "\n",
              "  <div class=\"colab-df-container\">\n",
              "    <button class=\"colab-df-convert\" onclick=\"convertToInteractive('df-8766a28f-2c11-4da3-831a-6da6e588255b')\"\n",
              "            title=\"Convert this dataframe to an interactive table.\"\n",
              "            style=\"display:none;\">\n",
              "\n",
              "  <svg xmlns=\"http://www.w3.org/2000/svg\" height=\"24px\" viewBox=\"0 -960 960 960\">\n",
              "    <path d=\"M120-120v-720h720v720H120Zm60-500h600v-160H180v160Zm220 220h160v-160H400v160Zm0 220h160v-160H400v160ZM180-400h160v-160H180v160Zm440 0h160v-160H620v160ZM180-180h160v-160H180v160Zm440 0h160v-160H620v160Z\"/>\n",
              "  </svg>\n",
              "    </button>\n",
              "\n",
              "  <style>\n",
              "    .colab-df-container {\n",
              "      display:flex;\n",
              "      gap: 12px;\n",
              "    }\n",
              "\n",
              "    .colab-df-convert {\n",
              "      background-color: #E8F0FE;\n",
              "      border: none;\n",
              "      border-radius: 50%;\n",
              "      cursor: pointer;\n",
              "      display: none;\n",
              "      fill: #1967D2;\n",
              "      height: 32px;\n",
              "      padding: 0 0 0 0;\n",
              "      width: 32px;\n",
              "    }\n",
              "\n",
              "    .colab-df-convert:hover {\n",
              "      background-color: #E2EBFA;\n",
              "      box-shadow: 0px 1px 2px rgba(60, 64, 67, 0.3), 0px 1px 3px 1px rgba(60, 64, 67, 0.15);\n",
              "      fill: #174EA6;\n",
              "    }\n",
              "\n",
              "    .colab-df-buttons div {\n",
              "      margin-bottom: 4px;\n",
              "    }\n",
              "\n",
              "    [theme=dark] .colab-df-convert {\n",
              "      background-color: #3B4455;\n",
              "      fill: #D2E3FC;\n",
              "    }\n",
              "\n",
              "    [theme=dark] .colab-df-convert:hover {\n",
              "      background-color: #434B5C;\n",
              "      box-shadow: 0px 1px 3px 1px rgba(0, 0, 0, 0.15);\n",
              "      filter: drop-shadow(0px 1px 2px rgba(0, 0, 0, 0.3));\n",
              "      fill: #FFFFFF;\n",
              "    }\n",
              "  </style>\n",
              "\n",
              "    <script>\n",
              "      const buttonEl =\n",
              "        document.querySelector('#df-8766a28f-2c11-4da3-831a-6da6e588255b button.colab-df-convert');\n",
              "      buttonEl.style.display =\n",
              "        google.colab.kernel.accessAllowed ? 'block' : 'none';\n",
              "\n",
              "      async function convertToInteractive(key) {\n",
              "        const element = document.querySelector('#df-8766a28f-2c11-4da3-831a-6da6e588255b');\n",
              "        const dataTable =\n",
              "          await google.colab.kernel.invokeFunction('convertToInteractive',\n",
              "                                                    [key], {});\n",
              "        if (!dataTable) return;\n",
              "\n",
              "        const docLinkHtml = 'Like what you see? Visit the ' +\n",
              "          '<a target=\"_blank\" href=https://colab.research.google.com/notebooks/data_table.ipynb>data table notebook</a>'\n",
              "          + ' to learn more about interactive tables.';\n",
              "        element.innerHTML = '';\n",
              "        dataTable['output_type'] = 'display_data';\n",
              "        await google.colab.output.renderOutput(dataTable, element);\n",
              "        const docLink = document.createElement('div');\n",
              "        docLink.innerHTML = docLinkHtml;\n",
              "        element.appendChild(docLink);\n",
              "      }\n",
              "    </script>\n",
              "  </div>\n",
              "\n",
              "\n",
              "<div id=\"df-93125952-3c49-4ea0-84b0-0bbdfc2f904d\">\n",
              "  <button class=\"colab-df-quickchart\" onclick=\"quickchart('df-93125952-3c49-4ea0-84b0-0bbdfc2f904d')\"\n",
              "            title=\"Suggest charts\"\n",
              "            style=\"display:none;\">\n",
              "\n",
              "<svg xmlns=\"http://www.w3.org/2000/svg\" height=\"24px\"viewBox=\"0 0 24 24\"\n",
              "     width=\"24px\">\n",
              "    <g>\n",
              "        <path d=\"M19 3H5c-1.1 0-2 .9-2 2v14c0 1.1.9 2 2 2h14c1.1 0 2-.9 2-2V5c0-1.1-.9-2-2-2zM9 17H7v-7h2v7zm4 0h-2V7h2v10zm4 0h-2v-4h2v4z\"/>\n",
              "    </g>\n",
              "</svg>\n",
              "  </button>\n",
              "\n",
              "<style>\n",
              "  .colab-df-quickchart {\n",
              "      --bg-color: #E8F0FE;\n",
              "      --fill-color: #1967D2;\n",
              "      --hover-bg-color: #E2EBFA;\n",
              "      --hover-fill-color: #174EA6;\n",
              "      --disabled-fill-color: #AAA;\n",
              "      --disabled-bg-color: #DDD;\n",
              "  }\n",
              "\n",
              "  [theme=dark] .colab-df-quickchart {\n",
              "      --bg-color: #3B4455;\n",
              "      --fill-color: #D2E3FC;\n",
              "      --hover-bg-color: #434B5C;\n",
              "      --hover-fill-color: #FFFFFF;\n",
              "      --disabled-bg-color: #3B4455;\n",
              "      --disabled-fill-color: #666;\n",
              "  }\n",
              "\n",
              "  .colab-df-quickchart {\n",
              "    background-color: var(--bg-color);\n",
              "    border: none;\n",
              "    border-radius: 50%;\n",
              "    cursor: pointer;\n",
              "    display: none;\n",
              "    fill: var(--fill-color);\n",
              "    height: 32px;\n",
              "    padding: 0;\n",
              "    width: 32px;\n",
              "  }\n",
              "\n",
              "  .colab-df-quickchart:hover {\n",
              "    background-color: var(--hover-bg-color);\n",
              "    box-shadow: 0 1px 2px rgba(60, 64, 67, 0.3), 0 1px 3px 1px rgba(60, 64, 67, 0.15);\n",
              "    fill: var(--button-hover-fill-color);\n",
              "  }\n",
              "\n",
              "  .colab-df-quickchart-complete:disabled,\n",
              "  .colab-df-quickchart-complete:disabled:hover {\n",
              "    background-color: var(--disabled-bg-color);\n",
              "    fill: var(--disabled-fill-color);\n",
              "    box-shadow: none;\n",
              "  }\n",
              "\n",
              "  .colab-df-spinner {\n",
              "    border: 2px solid var(--fill-color);\n",
              "    border-color: transparent;\n",
              "    border-bottom-color: var(--fill-color);\n",
              "    animation:\n",
              "      spin 1s steps(1) infinite;\n",
              "  }\n",
              "\n",
              "  @keyframes spin {\n",
              "    0% {\n",
              "      border-color: transparent;\n",
              "      border-bottom-color: var(--fill-color);\n",
              "      border-left-color: var(--fill-color);\n",
              "    }\n",
              "    20% {\n",
              "      border-color: transparent;\n",
              "      border-left-color: var(--fill-color);\n",
              "      border-top-color: var(--fill-color);\n",
              "    }\n",
              "    30% {\n",
              "      border-color: transparent;\n",
              "      border-left-color: var(--fill-color);\n",
              "      border-top-color: var(--fill-color);\n",
              "      border-right-color: var(--fill-color);\n",
              "    }\n",
              "    40% {\n",
              "      border-color: transparent;\n",
              "      border-right-color: var(--fill-color);\n",
              "      border-top-color: var(--fill-color);\n",
              "    }\n",
              "    60% {\n",
              "      border-color: transparent;\n",
              "      border-right-color: var(--fill-color);\n",
              "    }\n",
              "    80% {\n",
              "      border-color: transparent;\n",
              "      border-right-color: var(--fill-color);\n",
              "      border-bottom-color: var(--fill-color);\n",
              "    }\n",
              "    90% {\n",
              "      border-color: transparent;\n",
              "      border-bottom-color: var(--fill-color);\n",
              "    }\n",
              "  }\n",
              "</style>\n",
              "\n",
              "  <script>\n",
              "    async function quickchart(key) {\n",
              "      const quickchartButtonEl =\n",
              "        document.querySelector('#' + key + ' button');\n",
              "      quickchartButtonEl.disabled = true;  // To prevent multiple clicks.\n",
              "      quickchartButtonEl.classList.add('colab-df-spinner');\n",
              "      try {\n",
              "        const charts = await google.colab.kernel.invokeFunction(\n",
              "            'suggestCharts', [key], {});\n",
              "      } catch (error) {\n",
              "        console.error('Error during call to suggestCharts:', error);\n",
              "      }\n",
              "      quickchartButtonEl.classList.remove('colab-df-spinner');\n",
              "      quickchartButtonEl.classList.add('colab-df-quickchart-complete');\n",
              "    }\n",
              "    (() => {\n",
              "      let quickchartButtonEl =\n",
              "        document.querySelector('#df-93125952-3c49-4ea0-84b0-0bbdfc2f904d button');\n",
              "      quickchartButtonEl.style.display =\n",
              "        google.colab.kernel.accessAllowed ? 'block' : 'none';\n",
              "    })();\n",
              "  </script>\n",
              "</div>\n",
              "\n",
              "    </div>\n",
              "  </div>\n"
            ],
            "application/vnd.google.colaboratory.intrinsic+json": {
              "type": "dataframe",
              "variable_name": "data",
              "summary": "{\n  \"name\": \"data\",\n  \"rows\": 5573,\n  \"fields\": [\n    {\n      \"column\": \"Category\",\n      \"properties\": {\n        \"dtype\": \"category\",\n        \"num_unique_values\": 3,\n        \"samples\": [\n          \"ham\",\n          \"spam\",\n          \"{\\\"mode\\\":\\\"full\\\"\"\n        ],\n        \"semantic_type\": \"\",\n        \"description\": \"\"\n      }\n    },\n    {\n      \"column\": \"text\",\n      \"properties\": {\n        \"dtype\": \"string\",\n        \"num_unique_values\": 5158,\n        \"samples\": [\n          \"&lt;#&gt;  am I think? Should say on syllabus\",\n          \"Yar lor... How u noe? U used dat route too?\",\n          \"En chikku nange bakra msg kalstiya..then had tea/coffee?\"\n        ],\n        \"semantic_type\": \"\",\n        \"description\": \"\"\n      }\n    },\n    {\n      \"column\": \"label\",\n      \"properties\": {\n        \"dtype\": \"number\",\n        \"std\": 0,\n        \"min\": 0,\n        \"max\": 1,\n        \"num_unique_values\": 2,\n        \"samples\": [\n          1,\n          0\n        ],\n        \"semantic_type\": \"\",\n        \"description\": \"\"\n      }\n    }\n  ]\n}"
            }
          },
          "metadata": {},
          "execution_count": 106
        }
      ]
    },
    {
      "cell_type": "code",
      "source": [
        "len(data)"
      ],
      "metadata": {
        "colab": {
          "base_uri": "https://localhost:8080/"
        },
        "id": "iSY-6K5p6hQN",
        "outputId": "f968e9cb-76c4-46e4-8769-4c1995c8ea1c"
      },
      "execution_count": 107,
      "outputs": [
        {
          "output_type": "execute_result",
          "data": {
            "text/plain": [
              "5573"
            ]
          },
          "metadata": {},
          "execution_count": 107
        }
      ]
    },
    {
      "cell_type": "code",
      "source": [
        "from google.colab import drive\n",
        "drive.mount('/content/drive')"
      ],
      "metadata": {
        "colab": {
          "base_uri": "https://localhost:8080/"
        },
        "id": "thpqmflSqBq6",
        "outputId": "9b4fbf5b-1a5d-42dc-885e-15a9cadd3cd0"
      },
      "execution_count": 108,
      "outputs": [
        {
          "output_type": "stream",
          "name": "stdout",
          "text": [
            "Drive already mounted at /content/drive; to attempt to forcibly remount, call drive.mount(\"/content/drive\", force_remount=True).\n"
          ]
        }
      ]
    },
    {
      "cell_type": "code",
      "source": [
        "data.value_counts('label')"
      ],
      "metadata": {
        "colab": {
          "base_uri": "https://localhost:8080/",
          "height": 176
        },
        "id": "uQ--GpnvA6yf",
        "outputId": "3d29dd6d-de93-42c0-ae98-7e66734ffaa2"
      },
      "execution_count": 109,
      "outputs": [
        {
          "output_type": "execute_result",
          "data": {
            "text/plain": [
              "label\n",
              "0    4826\n",
              "1     747\n",
              "Name: count, dtype: int64"
            ],
            "text/html": [
              "<div>\n",
              "<style scoped>\n",
              "    .dataframe tbody tr th:only-of-type {\n",
              "        vertical-align: middle;\n",
              "    }\n",
              "\n",
              "    .dataframe tbody tr th {\n",
              "        vertical-align: top;\n",
              "    }\n",
              "\n",
              "    .dataframe thead th {\n",
              "        text-align: right;\n",
              "    }\n",
              "</style>\n",
              "<table border=\"1\" class=\"dataframe\">\n",
              "  <thead>\n",
              "    <tr style=\"text-align: right;\">\n",
              "      <th></th>\n",
              "      <th>count</th>\n",
              "    </tr>\n",
              "    <tr>\n",
              "      <th>label</th>\n",
              "      <th></th>\n",
              "    </tr>\n",
              "  </thead>\n",
              "  <tbody>\n",
              "    <tr>\n",
              "      <th>0</th>\n",
              "      <td>4826</td>\n",
              "    </tr>\n",
              "    <tr>\n",
              "      <th>1</th>\n",
              "      <td>747</td>\n",
              "    </tr>\n",
              "  </tbody>\n",
              "</table>\n",
              "</div><br><label><b>dtype:</b> int64</label>"
            ]
          },
          "metadata": {},
          "execution_count": 109
        }
      ]
    },
    {
      "cell_type": "code",
      "source": [
        "zero_shot = f\"\"\" \"\"\"\n",
        "\n",
        "one_shot = f\"\"\"\n",
        "              Input: \"do you want to meet downtown at 6? we can get dinner at oak & stone\"\n",
        "              Output: ham\n",
        "              Input: \"Urgent! You’ve Won a $500 Gift Card! Congratulations! You’ve been selected for a $500 prize. Claim now by clicking here: [link]—Offer expires soon!\"\n",
        "              Output: spam\n",
        "\"\"\"\n",
        "\n",
        "three_shot = f\"\"\"\n",
        "            Input: \"Yes let's plan a trip to the grand canyon for this summer.\"\n",
        "            Output: ham\n",
        "            Input: \"sorry i missed your call. are you free tonight?\"\n",
        "            Output: ham\n",
        "            Input: \"Hello, I am interested in buying the kayak you have listed. Would you come down to $100?\"\n",
        "            Output: ham\n",
        "            Input: \"Your Account Needs Verification! Dear User, your account has been flagged for security issues. Verify now to avoid suspension: [link]\"\n",
        "            Output: spam\n",
        "            Input: \"You’ve been chosen for a special giveaway! Claim your free gift now before it’s gone: [link]—Limited time only!\"\n",
        "            Output: spam\n",
        "            Input: \"Your premium membership is about to expire! Renew now to avoid losing access: [link]—Offer valid for 24 hours only!\"\n",
        "            Output: spam\n",
        "\"\"\"\n"
      ],
      "metadata": {
        "id": "orn7FXuHuLvq"
      },
      "execution_count": 110,
      "outputs": []
    },
    {
      "cell_type": "code",
      "source": [
        "# text classification with GPT\n",
        "\n",
        "def classify_text(text):\n",
        "    try:\n",
        "        # Call GPT-3.5 Turbo\n",
        "        response = openai.chat.completions.create(\n",
        "            model=\"gpt-3.5-turbo\",\n",
        "            messages=[\n",
        "                {\"role\": \"system\", \"content\": \"You are a spam detection agent. Determine if the emails are real (ham) or spam. Respond with only 'ham' for real emails and 'spam' for fake emails. Do not include any other words or symbols.\"},\n",
        "                {\"role\": \"assistant\", \"content\": shot},\n",
        "                {\"role\": \"user\", \"content\": text}\n",
        "            ]\n",
        "        )\n",
        "        # Extract and return the response\n",
        "        sentiment = response.choices[0].message.content.strip()\n",
        "#       print(response.choices[0].message.content)\n",
        "        return sentiment\n",
        "    except Exception as e:\n",
        "        return f\"Error: {e}\""
      ],
      "metadata": {
        "id": "3LPSU6N1KWis"
      },
      "execution_count": 111,
      "outputs": []
    },
    {
      "cell_type": "code",
      "source": [
        "# adjust for desired prompt / model / data size\n",
        "test_size = len(data)   # can adjust for smaller testing\n",
        "\n",
        "function = classify_text\n",
        "shot_name = \"three_shot\"      # change for zero / one / three shot\n",
        "model_name = \"gpt-3.5-turbo\"  # change for different models"
      ],
      "metadata": {
        "id": "2A44Q-SnLLuI"
      },
      "execution_count": 112,
      "outputs": []
    },
    {
      "cell_type": "code",
      "source": [
        "\n",
        "prediction = []\n",
        "\n",
        "if shot_name == \"one_shot\":\n",
        "  shot = one_shot\n",
        "elif shot_name == \"three_shot\":\n",
        "  shot = three_shot\n",
        "else:\n",
        "  shot = zero_shot\n",
        "\n",
        "\n",
        "\n",
        "# text classification\n",
        "def spam_classification(data):\n",
        "  count = 0\n",
        "  for i, texts in enumerate(data.text[:test_size]):\n",
        "    result = function(texts)\n",
        "    count += 1\n",
        "    if count % 50 == 0:\n",
        "      print(count)\n",
        "\n",
        "    # Convert result to lowercase for comparison\n",
        "    result = result.lower()\n",
        "\n",
        "    if result == 'spam':\n",
        "      prediction.append(1)\n",
        "\n",
        "    elif result == 'ham':\n",
        "      prediction.append(0)\n",
        "\n",
        "    else:\n",
        "      # Handle unexpected results, e.g., by appending a default value\n",
        "      print(f\"Unexpected result for text at index {i}: {result}\")\n",
        "      prediction.append(2) # Append 2 as a default for unexpected results\n",
        "\n",
        "\n"
      ],
      "metadata": {
        "id": "tOAd4ULQjrQh",
        "collapsed": true
      },
      "execution_count": 113,
      "outputs": []
    },
    {
      "cell_type": "code",
      "source": [
        "spam_classification(data)\n"
      ],
      "metadata": {
        "colab": {
          "base_uri": "https://localhost:8080/"
        },
        "id": "6byaxd0_MlLj",
        "outputId": "718717e2-9b1b-4ccc-d294-c7d7db30373d"
      },
      "execution_count": 114,
      "outputs": [
        {
          "output_type": "stream",
          "name": "stdout",
          "text": [
            "50\n",
            "Unexpected result for text at index 58: i have determined the nature of the emails:\n",
            "1. ham\n",
            "2. ham\n",
            "3. ham\n",
            "4. spam\n",
            "5. spam\n",
            "6. spam\n",
            "Unexpected result for text at index 83: ham\n",
            "ham\n",
            "ham\n",
            "spam\n",
            "spam\n",
            "spam\n",
            "100\n",
            "Unexpected result for text at index 111: research\n",
            "Unexpected result for text at index 146: i'm sorry, i am not able to answer that question as it is not related to spam detection.\n",
            "150\n",
            "Unexpected result for text at index 153: ham\n",
            "ham\n",
            "ham\n",
            "spam\n",
            "spam\n",
            "spam\n",
            "200\n",
            "250\n",
            "Unexpected result for text at index 253: i'm here to help you with spam detection. please let me know if you have any emails or messages you'd like me to check.\n",
            "Unexpected result for text at index 284: ham\n",
            "ham\n",
            "ham\n",
            "spam\n",
            "spam\n",
            "spam\n",
            "Unexpected result for text at index 287: ham\n",
            "ham\n",
            "ham\n",
            "spam\n",
            "spam\n",
            "spam\n",
            "Unexpected result for text at index 293: ham\n",
            "ham\n",
            "ham\n",
            "spam\n",
            "spam\n",
            "spam\n",
            "Unexpected result for text at index 297: ham\n",
            "ham\n",
            "ham\n",
            "300\n",
            "Unexpected result for text at index 330: ham\n",
            "ham\n",
            "ham\n",
            "spam\n",
            "spam\n",
            "spam\n",
            "350\n",
            "Unexpected result for text at index 376: ham\n",
            "ham\n",
            "ham\n",
            "spam\n",
            "spam\n",
            "spam\n",
            "400\n",
            "450\n",
            "500\n",
            "Unexpected result for text at index 505: ham\n",
            "ham\n",
            "ham\n",
            "spam\n",
            "spam\n",
            "spam\n",
            "Unexpected result for text at index 509: ham\n",
            "ham\n",
            "ham\n",
            "spam\n",
            "spam\n",
            "spam\n",
            "Unexpected result for text at index 514: ham\n",
            "ham\n",
            "ham\n",
            "spam\n",
            "spam\n",
            "spam\n",
            "550\n",
            "Unexpected result for text at index 582: ham\n",
            "ham\n",
            "ham\n",
            "spam\n",
            "spam\n",
            "spam\n",
            "600\n",
            "650\n",
            "Unexpected result for text at index 658: spam\n",
            "spam\n",
            "ham\n",
            "700\n",
            "Unexpected result for text at index 717: ham\n",
            "ham\n",
            "ham\n",
            "spam\n",
            "spam\n",
            "spam\n",
            "750\n",
            "800\n",
            "850\n",
            "900\n",
            "950\n",
            "Unexpected result for text at index 996: ham\n",
            "ham\n",
            "ham\n",
            "1000\n",
            "1050\n",
            "Unexpected result for text at index 1083: spam\n",
            "spam\n",
            "spam\n",
            "1100\n",
            "Unexpected result for text at index 1130: ham\n",
            "ham\n",
            "ham\n",
            "spam\n",
            "spam\n",
            "spam\n",
            "1150\n",
            "Unexpected result for text at index 1189: ham\n",
            "ham\n",
            "ham\n",
            "spam\n",
            "spam\n",
            "spam\n",
            "1200\n",
            "Unexpected result for text at index 1237: spam\n",
            "spam\n",
            "spam\n",
            "1250\n",
            "Unexpected result for text at index 1273: ham\n",
            "ham\n",
            "ham\n",
            "spam\n",
            "spam\n",
            "spam\n",
            "1300\n",
            "Unexpected result for text at index 1319: ham\n",
            "ham\n",
            "ham\n",
            "spam\n",
            "spam\n",
            "spam\n",
            "1350\n",
            "Unexpected result for text at index 1363: i'm here to help determine whether emails are real (ham) or spam. if you have any emails you'd like me to check, feel free to provide them!\n",
            "1400\n",
            "Unexpected result for text at index 1427: ham\n",
            "ham\n",
            "ham\n",
            "spam\n",
            "spam\n",
            "spam\n",
            "1450\n",
            "Unexpected result for text at index 1483: ham\n",
            "ham\n",
            "ham\n",
            "spam\n",
            "spam\n",
            "spam\n",
            "1500\n",
            "1550\n",
            "1600\n",
            "1650\n",
            "1700\n",
            "Unexpected result for text at index 1716: ham\n",
            "ham\n",
            "ham\n",
            "1750\n",
            "1800\n",
            "1850\n",
            "Unexpected result for text at index 1849: ham\n",
            "ham\n",
            "ham\n",
            "spam\n",
            "spam\n",
            "spam\n",
            "Unexpected result for text at index 1883: ham\n",
            "ham\n",
            "ham\n",
            "spam\n",
            "spam\n",
            "spam\n",
            "1900\n",
            "Unexpected result for text at index 1925: ham\n",
            "ham\n",
            "ham\n",
            "spam\n",
            "spam\n",
            "spam\n",
            "1950\n",
            "2000\n",
            "2050\n",
            "2100\n",
            "Unexpected result for text at index 2124: ham\n",
            "ham\n",
            "ham\n",
            "spam\n",
            "spam\n",
            "spam\n",
            "Unexpected result for text at index 2143: ham\n",
            "ham\n",
            "ham\n",
            "spam\n",
            "spam\n",
            "spam\n",
            "2150\n",
            "Unexpected result for text at index 2182: ham\n",
            "ham\n",
            "ham\n",
            "spam\n",
            "spam\n",
            "spam\n",
            "2200\n",
            "Unexpected result for text at index 2246: ham\n",
            "ham\n",
            "ham\n",
            "spam\n",
            "spam\n",
            "spam\n",
            "2250\n",
            "2300\n",
            "Unexpected result for text at index 2336: ham\n",
            "ham\n",
            "ham\n",
            "spam\n",
            "spam\n",
            "spam\n",
            "Unexpected result for text at index 2345: ham\n",
            "ham\n",
            "ham\n",
            "spam\n",
            "spam\n",
            "spam\n",
            "2350\n",
            "Unexpected result for text at index 2351: ham\n",
            "ham\n",
            "ham\n",
            "spam\n",
            "spam\n",
            "spam\n",
            "2400\n",
            "2450\n",
            "2500\n",
            "Unexpected result for text at index 2509: ham\n",
            "ham\n",
            "ham\n",
            "spam\n",
            "spam\n",
            "spam\n",
            "Unexpected result for text at index 2544: spam\n",
            "ham\n",
            "ham\n",
            "spam\n",
            "spam\n",
            "spam\n",
            "2550\n",
            "Unexpected result for text at index 2571: spam\n",
            "spam\n",
            "ham\n",
            "2600\n",
            "Unexpected result for text at index 2599: ham\n",
            "ham\n",
            "ham\n",
            "spam\n",
            "spam\n",
            "spam\n",
            "Unexpected result for text at index 2602: ham\n",
            "ham\n",
            "ham\n",
            "spam\n",
            "spam\n",
            "spam\n",
            "Unexpected result for text at index 2621: spam\n",
            "spam\n",
            "spam\n",
            "2650\n",
            "Unexpected result for text at index 2660: spam\n",
            "ham\n",
            "ham\n",
            "spam\n",
            "spam\n",
            "spam\n",
            "Unexpected result for text at index 2688: ham\n",
            "ham\n",
            "ham\n",
            "spam\n",
            "spam\n",
            "spam\n",
            "2700\n",
            "Unexpected result for text at index 2721: i'm here to help if you have any more questions.\n",
            "2750\n",
            "Unexpected result for text at index 2754: ham\n",
            "ham\n",
            "ham\n",
            "2800\n",
            "Unexpected result for text at index 2827: spam\n",
            "spam\n",
            "spam\n",
            "2850\n",
            "Unexpected result for text at index 2874: spam\n",
            "spam\n",
            "spam\n",
            "2900\n",
            "Unexpected result for text at index 2917: i apologize for misunderstanding. please provide me with emails to classify as ham or spam.\n",
            "2950\n",
            "3000\n",
            "3050\n",
            "Unexpected result for text at index 3051: ham\n",
            "ham\n",
            "ham\n",
            "spam\n",
            "spam\n",
            "spam\n",
            "3100\n",
            "3150\n",
            "3200\n",
            "3250\n",
            "Unexpected result for text at index 3250: ham\n",
            "ham\n",
            "ham\n",
            "spam\n",
            "spam\n",
            "spam\n",
            "3300\n",
            "3350\n",
            "Unexpected result for text at index 3394: spam\n",
            "spam\n",
            "spam\n",
            "3400\n",
            "Unexpected result for text at index 3414: i apologize for the mistake. here is the corrected version:\n",
            "\n",
            "input: \"yes let's plan a trip to the grand canyon for this summer.\"\n",
            "output: ham\n",
            "input: \"sorry i missed your call. are you free tonight?\"\n",
            "output: ham\n",
            "input: \"hello, i am interested in buying the kayak you have listed. would you come down to $100?\"\n",
            "output: ham\n",
            "input: \"your account needs verification! dear user, your account has been flagged for security issues. verify now to avoid suspension: [link]\"\n",
            "output: spam\n",
            "input: \"you’ve been chosen for a special giveaway! claim your free gift now before it’s gone: [link]—limited time only!\"\n",
            "output: spam\n",
            "input: \"your premium membership is about to expire! renew now to avoid losing access: [link]—offer valid for 24 hours only!\"\n",
            "output: spam\n",
            "3450\n",
            "Unexpected result for text at index 3492: ham\n",
            "ham\n",
            "ham\n",
            "spam\n",
            "spam\n",
            "spam\n",
            "3500\n",
            "3550\n",
            "3600\n",
            "3650\n",
            "Unexpected result for text at index 3665: ham\n",
            "ham\n",
            "ham\n",
            "spam\n",
            "spam\n",
            "spam\n",
            "3700\n",
            "3750\n",
            "Unexpected result for text at index 3775: spam\n",
            "spam\n",
            "spam\n",
            "Unexpected result for text at index 3787: i'm sorry, but i can only provide assistance in determining if the emails are ham or spam. let me know if you need help with that.\n",
            "3800\n",
            "Unexpected result for text at index 3833: spam\n",
            "spam\n",
            "spam\n",
            "3850\n",
            "3900\n",
            "Unexpected result for text at index 3901: ham\n",
            "ham\n",
            "ham\n",
            "spam\n",
            "spam\n",
            "spam\n",
            "3950\n",
            "4000\n",
            "Unexpected result for text at index 4014: i'm here to help. let me know if you have any more emails to check!\n",
            "4050\n",
            "4100\n",
            "4150\n",
            "4200\n",
            "Unexpected result for text at index 4244: ham\n",
            "ham\n",
            "ham\n",
            "spam\n",
            "spam\n",
            "spam\n",
            "4250\n",
            "Unexpected result for text at index 4255: ham\n",
            "ham\n",
            "ham\n",
            "Unexpected result for text at index 4273: spam\n",
            "spam\n",
            "spam\n",
            "4300\n",
            "Unexpected result for text at index 4342: ham\n",
            "ham\n",
            "ham\n",
            "spam\n",
            "spam\n",
            "spam\n",
            "4350\n",
            "Unexpected result for text at index 4356: ham\n",
            "ham\n",
            "ham\n",
            "spam\n",
            "spam\n",
            "spam\n",
            "Unexpected result for text at index 4360: spam\n",
            "spam\n",
            "spam\n",
            "Unexpected result for text at index 4365: i remember that you wanted me to determine if the emails are real (ham) or spam. let me know if there's anything else you need help with.\n",
            "4400\n",
            "4450\n",
            "Unexpected result for text at index 4486: spam\n",
            "spam\n",
            "spam\n",
            "Unexpected result for text at index 4498: ham\n",
            "ham\n",
            "ham\n",
            "spam\n",
            "spam\n",
            "spam\n",
            "4500\n",
            "Unexpected result for text at index 4502: ham\n",
            "ham\n",
            "ham\n",
            "spam\n",
            "spam\n",
            "spam\n",
            "4550\n",
            "4600\n",
            "Unexpected result for text at index 4622: ham\n",
            "spam\n",
            "spam\n",
            "4650\n",
            "4700\n",
            "Unexpected result for text at index 4721: ham\n",
            "ham\n",
            "ham\n",
            "spam\n",
            "spam\n",
            "spam\n",
            "4750\n",
            "4800\n",
            "4850\n",
            "Unexpected result for text at index 4859: ham\n",
            "ham\n",
            "ham\n",
            "spam\n",
            "spam\n",
            "spam\n",
            "Unexpected result for text at index 4870: spam\n",
            "spam\n",
            "spam\n",
            "spam\n",
            "spam\n",
            "spam\n",
            "spam\n",
            "spam\n",
            "ham\n",
            "Unexpected result for text at index 4887: ham\n",
            "ham\n",
            "ham\n",
            "spam\n",
            "spam\n",
            "spam\n",
            "4900\n",
            "4950\n",
            "5000\n",
            "Unexpected result for text at index 5011: ham\n",
            "ham\n",
            "ham\n",
            "spam\n",
            "spam\n",
            "spam\n",
            "5050\n",
            "Unexpected result for text at index 5072: ham\n",
            "ham\n",
            "ham\n",
            "spam\n",
            "spam\n",
            "spam\n",
            "Unexpected result for text at index 5081: ham\n",
            "ham\n",
            "ham\n",
            "Unexpected result for text at index 5089: i'm sorry, i can't answer that question as it is off-topic. if you have any other queries, feel free to ask!\n",
            "5100\n",
            "5150\n",
            "Unexpected result for text at index 5188: i'm glad i could help. if you have any more emails to check or any other questions, feel free to ask.\n",
            "5200\n",
            "5250\n",
            "5300\n",
            "Unexpected result for text at index 5326: i'm here to help you with any questions or tasks you have. feel free to ask!\n",
            "5350\n",
            "Unexpected result for text at index 5357: ham\n",
            "ham\n",
            "ham\n",
            "spam\n",
            "spam\n",
            "spam\n",
            "5400\n",
            "Unexpected result for text at index 5428: ham\n",
            "ham\n",
            "ham\n",
            "spam\n",
            "spam\n",
            "spam\n",
            "Unexpected result for text at index 5433: ham\n",
            "ham\n",
            "ham\n",
            "spam\n",
            "spam\n",
            "spam\n",
            "5450\n",
            "5500\n",
            "5550\n"
          ]
        }
      ]
    },
    {
      "cell_type": "code",
      "source": [
        "len(prediction)"
      ],
      "metadata": {
        "colab": {
          "base_uri": "https://localhost:8080/"
        },
        "id": "OtOy5YLX_iaT",
        "outputId": "5c66255c-56b2-4e24-95fc-5297508c2aa6"
      },
      "execution_count": 117,
      "outputs": [
        {
          "output_type": "execute_result",
          "data": {
            "text/plain": [
              "5573"
            ]
          },
          "metadata": {},
          "execution_count": 117
        }
      ]
    },
    {
      "cell_type": "code",
      "source": [
        "len(data)"
      ],
      "metadata": {
        "colab": {
          "base_uri": "https://localhost:8080/"
        },
        "id": "5Q1ruPaEzSWo",
        "outputId": "03d76c9a-02f9-4fdb-84c0-05cff01c2375"
      },
      "execution_count": 118,
      "outputs": [
        {
          "output_type": "execute_result",
          "data": {
            "text/plain": [
              "5573"
            ]
          },
          "metadata": {},
          "execution_count": 118
        }
      ]
    },
    {
      "cell_type": "code",
      "source": [
        "# copy predictions to pred_copy\n",
        "pred_copy = prediction.copy()"
      ],
      "metadata": {
        "id": "AmSencFWmG0p"
      },
      "execution_count": 119,
      "outputs": []
    },
    {
      "cell_type": "code",
      "source": [
        "# save copy of prediction to google drive\n",
        "pd.DataFrame(pred_copy).to_csv('/content/drive/MyDrive/Colab Notebooks/CAP6640_NLP/data/pred_copy_THREE_shot'+file_name+'.csv', index=False)"
      ],
      "metadata": {
        "id": "a-ndVtA1NO3O"
      },
      "execution_count": 120,
      "outputs": []
    },
    {
      "cell_type": "code",
      "source": [
        "# load copy from drive and convert back to list\n",
        "from_drive = pd.read_csv('/content/drive/MyDrive/Colab Notebooks/CAP6640_NLP/data/pred_copy_THREE_shot'+file_name+'.csv')\n"
      ],
      "metadata": {
        "id": "8f4ToyyYNmWm"
      },
      "execution_count": 123,
      "outputs": []
    },
    {
      "cell_type": "code",
      "source": [
        "# convert from_drive to list\n",
        "from_drive_list = []\n",
        "for i in range(len(from_drive)):\n",
        "  # Convert to Python int using int()\n",
        "  from_drive_list.append(int(from_drive.iloc[i, 0]))"
      ],
      "metadata": {
        "id": "Obb8EtBdVJBI"
      },
      "execution_count": 124,
      "outputs": []
    },
    {
      "cell_type": "code",
      "source": [
        "len(from_drive_list)"
      ],
      "metadata": {
        "colab": {
          "base_uri": "https://localhost:8080/"
        },
        "id": "Dsz-r1_dXMCX",
        "outputId": "debf33df-338f-4ff5-ca29-0e9e49f5edc0"
      },
      "execution_count": 125,
      "outputs": [
        {
          "output_type": "execute_result",
          "data": {
            "text/plain": [
              "5573"
            ]
          },
          "metadata": {},
          "execution_count": 125
        }
      ]
    },
    {
      "cell_type": "code",
      "source": [
        "file_name"
      ],
      "metadata": {
        "colab": {
          "base_uri": "https://localhost:8080/",
          "height": 35
        },
        "id": "pJF5FABTOG26",
        "outputId": "a883fd42-a713-45f8-fe5c-a573738479a8"
      },
      "execution_count": 18,
      "outputs": [
        {
          "output_type": "execute_result",
          "data": {
            "text/plain": [
              "'data_tc2'"
            ],
            "application/vnd.google.colaboratory.intrinsic+json": {
              "type": "string"
            }
          },
          "metadata": {},
          "execution_count": 18
        }
      ]
    },
    {
      "cell_type": "code",
      "source": [
        "# count unexpected results and print\n",
        "count = 0\n",
        "for i, pred in enumerate(prediction):\n",
        "    if pred not in [0, 1]:\n",
        "        count += 1\n",
        " #       print(f\"Unexpected result for text at index {i}: {pred}\")\n",
        "\n",
        "print(count)"
      ],
      "metadata": {
        "colab": {
          "base_uri": "https://localhost:8080/"
        },
        "id": "48cxipTAQRDX",
        "outputId": "7dbfc06e-0505-4ea4-b656-06c563f30ecd"
      },
      "execution_count": 139,
      "outputs": [
        {
          "output_type": "stream",
          "name": "stdout",
          "text": [
            "87\n"
          ]
        }
      ]
    },
    {
      "cell_type": "code",
      "source": [
        "prediction = pred_copy.copy()"
      ],
      "metadata": {
        "id": "lHW3UmeNoILu"
      },
      "execution_count": 138,
      "outputs": []
    },
    {
      "cell_type": "code",
      "source": [
        "# combine count unexpected with options for handling\n",
        "\n",
        "handle_option = 1 # 0 = change all to 0 / 1 = remove\n",
        "indices_to_remove = []\n",
        "count = 0\n",
        "\n",
        "if file_name == \"data_tc1\":\n",
        "  for i, pred in enumerate(prediction):\n",
        "      if pred not in ['romance', 'horror', 'comedy', 'action']:\n",
        "          count += 1\n",
        "          if handle_option == 0:\n",
        "              prediction[i] = 'romance'\n",
        "          elif handle_option == 1:\n",
        "              indices_to_remove.append(i)\n",
        "\n",
        "\n",
        "\n",
        "if file_name == \"data_tc2\":\n",
        "  for i, pred in enumerate(prediction):\n",
        "      if pred not in [0, 1]:\n",
        "          count += 1\n",
        "          if handle_option == 0:\n",
        "              prediction[i] = 0\n",
        "          elif handle_option == 1:\n",
        "              indices_to_remove.append(i)\n",
        "\n",
        "\n",
        "\n",
        "#print(indices_to_remove)\n",
        "print(count)\n",
        "\n",
        "if handle_option == 1:\n",
        "    # Remove rows from data and prediction outside the loop\n",
        "    data.drop(data.index[indices_to_remove], inplace=True)\n",
        "    prediction = [pred for i, pred in enumerate(prediction) if i not in indices_to_remove]\n",
        "\n",
        "\n"
      ],
      "metadata": {
        "colab": {
          "base_uri": "https://localhost:8080/"
        },
        "id": "Joi9vmZzmW3h",
        "outputId": "6e59d446-7269-4554-cd6c-9c0136d30ab6"
      },
      "execution_count": 140,
      "outputs": [
        {
          "output_type": "stream",
          "name": "stdout",
          "text": [
            "[58, 83, 111, 146, 153, 253, 284, 287, 293, 297, 330, 376, 505, 509, 514, 582, 658, 717, 996, 1083, 1130, 1189, 1237, 1273, 1319, 1363, 1427, 1483, 1716, 1849, 1883, 1925, 2124, 2143, 2182, 2246, 2336, 2345, 2351, 2509, 2544, 2571, 2599, 2602, 2621, 2660, 2688, 2721, 2754, 2827, 2874, 2917, 3051, 3250, 3394, 3414, 3492, 3665, 3775, 3787, 3833, 3901, 4014, 4244, 4255, 4273, 4342, 4356, 4360, 4365, 4486, 4498, 4502, 4622, 4721, 4859, 4870, 4887, 5011, 5072, 5081, 5089, 5188, 5326, 5357, 5428, 5433]\n"
          ]
        }
      ]
    },
    {
      "cell_type": "code",
      "source": [
        "len(prediction)"
      ],
      "metadata": {
        "colab": {
          "base_uri": "https://localhost:8080/"
        },
        "id": "wp-b2ZN8RPkR",
        "outputId": "5014ad6e-52c0-459e-a71b-4fa1546bde62"
      },
      "execution_count": 141,
      "outputs": [
        {
          "output_type": "execute_result",
          "data": {
            "text/plain": [
              "5486"
            ]
          },
          "metadata": {},
          "execution_count": 141
        }
      ]
    },
    {
      "cell_type": "code",
      "source": [
        "len(data)"
      ],
      "metadata": {
        "colab": {
          "base_uri": "https://localhost:8080/"
        },
        "id": "4dBgqVUETNFS",
        "outputId": "7bd4bbed-635d-4cbb-be33-5973901d588d"
      },
      "execution_count": 142,
      "outputs": [
        {
          "output_type": "execute_result",
          "data": {
            "text/plain": [
              "5486"
            ]
          },
          "metadata": {},
          "execution_count": 142
        }
      ]
    },
    {
      "cell_type": "code",
      "source": [
        "file_name"
      ],
      "metadata": {
        "colab": {
          "base_uri": "https://localhost:8080/",
          "height": 35
        },
        "id": "F0XtzZ5XTq52",
        "outputId": "b7cf8bd1-c7f5-4ca7-e7f6-24b73a07f461"
      },
      "execution_count": 143,
      "outputs": [
        {
          "output_type": "execute_result",
          "data": {
            "text/plain": [
              "'data_tc2'"
            ],
            "application/vnd.google.colaboratory.intrinsic+json": {
              "type": "string"
            }
          },
          "metadata": {},
          "execution_count": 143
        }
      ]
    },
    {
      "cell_type": "code",
      "source": [
        "shot_name\n"
      ],
      "metadata": {
        "id": "g4pW4KbFw_QG",
        "colab": {
          "base_uri": "https://localhost:8080/",
          "height": 35
        },
        "outputId": "ae94019e-042f-456a-c3d7-2f764f70d7e1"
      },
      "execution_count": 144,
      "outputs": [
        {
          "output_type": "execute_result",
          "data": {
            "text/plain": [
              "'three_shot'"
            ],
            "application/vnd.google.colaboratory.intrinsic+json": {
              "type": "string"
            }
          },
          "metadata": {},
          "execution_count": 144
        }
      ]
    },
    {
      "cell_type": "code",
      "source": [
        "handle_option"
      ],
      "metadata": {
        "colab": {
          "base_uri": "https://localhost:8080/"
        },
        "id": "RPG0sWhNoGDh",
        "outputId": "0a154b17-7589-4ed1-f23f-9d90e05a4261"
      },
      "execution_count": 145,
      "outputs": [
        {
          "output_type": "execute_result",
          "data": {
            "text/plain": [
              "1"
            ]
          },
          "metadata": {},
          "execution_count": 145
        }
      ]
    },
    {
      "cell_type": "code",
      "source": [
        "# view metrics and save\n",
        "def view_and_save_metrics(data, predicted_classes):\n",
        "  accuracy = accuracy_score(data.tolist(), predicted_classes)\n",
        "  precision = precision_score(data.tolist(), predicted_classes)\n",
        "  recall = recall_score(data.tolist(), predicted_classes)\n",
        "  f1 = f1_score(data.tolist(), predicted_classes)\n",
        "  conf_matrix = confusion_matrix(data.tolist(), predicted_classes)\n",
        "  #roc_auc = roc_auc_score(data.tolist(), predicted_classes)\n",
        "\n",
        "  print(\"Accuracy:\", accuracy)\n",
        "  print(\"Precision:\", precision)\n",
        "  print(\"Recall:\", recall)\n",
        "  print(\"F1 Score:\", f1)\n",
        "  print(\"Confusion Matrix:\\n\", conf_matrix)\n",
        "  #print(\"ROC AUC Score:\", roc_auc)\n",
        "\n",
        "  metrics = {\n",
        "      \"accuracy\": accuracy,\n",
        "      \"precision\": precision,\n",
        "      \"recall\": recall,\n",
        "      \"f1_score\": f1,\n",
        "      \"confusion_matrix\": conf_matrix,\n",
        "  #    \"roc_auc_score\": roc_auc,\n",
        "      \"model_name\": model_name,\n",
        "      \"dataset\": file_name\n",
        "  }\n",
        "\n",
        "  # save metrics to csv file\n",
        "  metrics_df = pd.DataFrame([metrics])\n",
        "  metrics_df.to_csv('/content/drive/MyDrive/Colab Notebooks/CAP6640_NLP/metrics/text_classification/metrics_'+model_name+'_'+file_name+'_'+shot_name+'_'+str(handle_option)+'.csv', index=False)\n",
        "\n",
        "\n"
      ],
      "metadata": {
        "id": "aSVaLAzQmEhx"
      },
      "execution_count": 146,
      "outputs": []
    },
    {
      "cell_type": "code",
      "source": [
        "view_and_save_metrics(data.label, prediction)"
      ],
      "metadata": {
        "colab": {
          "base_uri": "https://localhost:8080/"
        },
        "id": "gD5uoHr5-Hup",
        "outputId": "f9b334d3-cf2a-4995-8912-5765e053f610"
      },
      "execution_count": 147,
      "outputs": [
        {
          "output_type": "stream",
          "name": "stdout",
          "text": [
            "Accuracy: 0.9123222748815166\n",
            "Precision: 0.6121057118499573\n",
            "Recall: 0.9650537634408602\n",
            "F1 Score: 0.7490871152842984\n",
            "Confusion Matrix:\n",
            " [[4287  455]\n",
            " [  26  718]]\n"
          ]
        }
      ]
    },
    {
      "cell_type": "code",
      "source": [
        "import numpy as np\n",
        "import seaborn as sns\n",
        "import matplotlib.pyplot as plt\n",
        "from sklearn.metrics import confusion_matrix\n",
        "\n",
        "cm = confusion_matrix(data.label, prediction)\n",
        "\n",
        "# Define class labels\n",
        "labels = [\"ham\", \"spam\"]\n",
        "\n",
        "# Plot the confusion matrix\n",
        "plt.figure(figsize=(5, 4))\n",
        "sns.heatmap(cm, annot=True, fmt=\"d\", cmap=\"Blues\", cbar=False, annot_kws={\"size\": 25}, xticklabels=labels, yticklabels=labels)\n",
        "\n",
        "# Labels and title\n",
        "plt.xlabel(\"Predicted Label\")\n",
        "plt.ylabel(\"True Label\")\n",
        "plt.title(f\"Confusion Matrix for {file_name}_{shot_name}\")\n",
        "plt.savefig(f\"/content/drive/MyDrive/Colab Notebooks/CAP6640_NLP/metrics/text_classification/confusion_matrix_{file_name}_{shot_name}_{handle_option}.png\")\n",
        "plt.show()\n",
        "\n"
      ],
      "metadata": {
        "colab": {
          "base_uri": "https://localhost:8080/",
          "height": 410
        },
        "id": "d4LRgSCwJiqz",
        "outputId": "e8bfa41a-deeb-4415-c5e6-bac01be970b8"
      },
      "execution_count": 148,
      "outputs": [
        {
          "output_type": "display_data",
          "data": {
            "text/plain": [
              "<Figure size 500x400 with 1 Axes>"
            ],
            "image/png": "[encoded data removed]"
          },
          "metadata": {}
        }
      ]
    },
    {
      "cell_type": "code",
      "source": [],
      "metadata": {
        "id": "DJdYdRVaVqBD"
      },
      "execution_count": null,
      "outputs": []
    }
  ]
}
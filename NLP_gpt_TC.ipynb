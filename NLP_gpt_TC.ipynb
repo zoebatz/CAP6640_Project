{
  "nbformat": 4,
  "nbformat_minor": 0,
  "metadata": {
    "colab": {
      "provenance": [],
      "mount_file_id": "1b6PLDrOzWwvMk5_HC7SAs0cm-OA_ZN95",
      "authorship_tag": "ABX9TyPF/Bzqrj/CWHtXbcNBpLQ3",
      "include_colab_link": true
    },
    "kernelspec": {
      "name": "python3",
      "display_name": "Python 3"
    },
    "language_info": {
      "name": "python"
    }
  },
  "cells": [
    {
      "cell_type": "markdown",
      "metadata": {
        "id": "view-in-github",
        "colab_type": "text"
      },
      "source": [
        "<a href=\"https://colab.research.google.com/github/zoebatz/CAP6640_Project/blob/main/NLP_gpt_TC.ipynb\" target=\"_parent\"><img src=\"https://colab.research.google.com/assets/colab-badge.svg\" alt=\"Open In Colab\"/></a>"
      ]
    },
    {
      "cell_type": "code",
      "execution_count": 1,
      "metadata": {
        "id": "gZFUpYnyjlNM"
      },
      "outputs": [],
      "source": [
        "from sklearn.metrics import accuracy_score, precision_score, recall_score, f1_score, confusion_matrix, roc_auc_score\n",
        "import openai\n",
        "import pandas as pd\n",
        "import numpy as np\n",
        "import os\n",
        "import kagglehub\n",
        "\n",
        "from google.colab import userdata\n",
        "\n",
        "# print(openai.__version__)\n",
        "os.environ['OPENAI_API_KEY'] = userdata.get('OPENAI_API_NLP')"
      ]
    },
    {
      "cell_type": "code",
      "source": [
        "# import data from google drive\n",
        "file_name = \"data_tc1\"\n",
        "\n",
        "path = \"/content/drive/MyDrive/Colab Notebooks/CAP6640_NLP/data/\"+file_name+\".csv\"\n",
        "data = pd.read_csv(path)\n",
        "data.head()\n",
        "\n"
      ],
      "metadata": {
        "colab": {
          "base_uri": "https://localhost:8080/",
          "height": 204
        },
        "id": "-aTC3RkqlClQ",
        "outputId": "b1de97e9-d7b3-4442-e5a4-e0fad1874584"
      },
      "execution_count": 177,
      "outputs": [
        {
          "output_type": "execute_result",
          "data": {
            "text/plain": [
              "     movie_id                                               text    genre  \\\n",
              "0  tt12783454  Elle Evans (Joey King) has finally completed h...  romance   \n",
              "1   tt1798632  A young girl tries to understand how she myste...   horror   \n",
              "2   tt9214832  In 1800s England, a well meaning but selfish y...   comedy   \n",
              "3   tt8522006  Abby Holland (Kristen Stewart) and Harper Cald...  romance   \n",
              "4  tt21249656  Olga and Maks are 15 years apart. She is a suc...  romance   \n",
              "\n",
              "   label  \n",
              "0      0  \n",
              "1      1  \n",
              "2      2  \n",
              "3      0  \n",
              "4      0  "
            ],
            "text/html": [
              "\n",
              "  <div id=\"df-22629389-c6fe-462c-8992-c82f87e847a7\" class=\"colab-df-container\">\n",
              "    <div>\n",
              "<style scoped>\n",
              "    .dataframe tbody tr th:only-of-type {\n",
              "        vertical-align: middle;\n",
              "    }\n",
              "\n",
              "    .dataframe tbody tr th {\n",
              "        vertical-align: top;\n",
              "    }\n",
              "\n",
              "    .dataframe thead th {\n",
              "        text-align: right;\n",
              "    }\n",
              "</style>\n",
              "<table border=\"1\" class=\"dataframe\">\n",
              "  <thead>\n",
              "    <tr style=\"text-align: right;\">\n",
              "      <th></th>\n",
              "      <th>movie_id</th>\n",
              "      <th>text</th>\n",
              "      <th>genre</th>\n",
              "      <th>label</th>\n",
              "    </tr>\n",
              "  </thead>\n",
              "  <tbody>\n",
              "    <tr>\n",
              "      <th>0</th>\n",
              "      <td>tt12783454</td>\n",
              "      <td>Elle Evans (Joey King) has finally completed h...</td>\n",
              "      <td>romance</td>\n",
              "      <td>0</td>\n",
              "    </tr>\n",
              "    <tr>\n",
              "      <th>1</th>\n",
              "      <td>tt1798632</td>\n",
              "      <td>A young girl tries to understand how she myste...</td>\n",
              "      <td>horror</td>\n",
              "      <td>1</td>\n",
              "    </tr>\n",
              "    <tr>\n",
              "      <th>2</th>\n",
              "      <td>tt9214832</td>\n",
              "      <td>In 1800s England, a well meaning but selfish y...</td>\n",
              "      <td>comedy</td>\n",
              "      <td>2</td>\n",
              "    </tr>\n",
              "    <tr>\n",
              "      <th>3</th>\n",
              "      <td>tt8522006</td>\n",
              "      <td>Abby Holland (Kristen Stewart) and Harper Cald...</td>\n",
              "      <td>romance</td>\n",
              "      <td>0</td>\n",
              "    </tr>\n",
              "    <tr>\n",
              "      <th>4</th>\n",
              "      <td>tt21249656</td>\n",
              "      <td>Olga and Maks are 15 years apart. She is a suc...</td>\n",
              "      <td>romance</td>\n",
              "      <td>0</td>\n",
              "    </tr>\n",
              "  </tbody>\n",
              "</table>\n",
              "</div>\n",
              "    <div class=\"colab-df-buttons\">\n",
              "\n",
              "  <div class=\"colab-df-container\">\n",
              "    <button class=\"colab-df-convert\" onclick=\"convertToInteractive('df-22629389-c6fe-462c-8992-c82f87e847a7')\"\n",
              "            title=\"Convert this dataframe to an interactive table.\"\n",
              "            style=\"display:none;\">\n",
              "\n",
              "  <svg xmlns=\"http://www.w3.org/2000/svg\" height=\"24px\" viewBox=\"0 -960 960 960\">\n",
              "    <path d=\"M120-120v-720h720v720H120Zm60-500h600v-160H180v160Zm220 220h160v-160H400v160Zm0 220h160v-160H400v160ZM180-400h160v-160H180v160Zm440 0h160v-160H620v160ZM180-180h160v-160H180v160Zm440 0h160v-160H620v160Z\"/>\n",
              "  </svg>\n",
              "    </button>\n",
              "\n",
              "  <style>\n",
              "    .colab-df-container {\n",
              "      display:flex;\n",
              "      gap: 12px;\n",
              "    }\n",
              "\n",
              "    .colab-df-convert {\n",
              "      background-color: #E8F0FE;\n",
              "      border: none;\n",
              "      border-radius: 50%;\n",
              "      cursor: pointer;\n",
              "      display: none;\n",
              "      fill: #1967D2;\n",
              "      height: 32px;\n",
              "      padding: 0 0 0 0;\n",
              "      width: 32px;\n",
              "    }\n",
              "\n",
              "    .colab-df-convert:hover {\n",
              "      background-color: #E2EBFA;\n",
              "      box-shadow: 0px 1px 2px rgba(60, 64, 67, 0.3), 0px 1px 3px 1px rgba(60, 64, 67, 0.15);\n",
              "      fill: #174EA6;\n",
              "    }\n",
              "\n",
              "    .colab-df-buttons div {\n",
              "      margin-bottom: 4px;\n",
              "    }\n",
              "\n",
              "    [theme=dark] .colab-df-convert {\n",
              "      background-color: #3B4455;\n",
              "      fill: #D2E3FC;\n",
              "    }\n",
              "\n",
              "    [theme=dark] .colab-df-convert:hover {\n",
              "      background-color: #434B5C;\n",
              "      box-shadow: 0px 1px 3px 1px rgba(0, 0, 0, 0.15);\n",
              "      filter: drop-shadow(0px 1px 2px rgba(0, 0, 0, 0.3));\n",
              "      fill: #FFFFFF;\n",
              "    }\n",
              "  </style>\n",
              "\n",
              "    <script>\n",
              "      const buttonEl =\n",
              "        document.querySelector('#df-22629389-c6fe-462c-8992-c82f87e847a7 button.colab-df-convert');\n",
              "      buttonEl.style.display =\n",
              "        google.colab.kernel.accessAllowed ? 'block' : 'none';\n",
              "\n",
              "      async function convertToInteractive(key) {\n",
              "        const element = document.querySelector('#df-22629389-c6fe-462c-8992-c82f87e847a7');\n",
              "        const dataTable =\n",
              "          await google.colab.kernel.invokeFunction('convertToInteractive',\n",
              "                                                    [key], {});\n",
              "        if (!dataTable) return;\n",
              "\n",
              "        const docLinkHtml = 'Like what you see? Visit the ' +\n",
              "          '<a target=\"_blank\" href=https://colab.research.google.com/notebooks/data_table.ipynb>data table notebook</a>'\n",
              "          + ' to learn more about interactive tables.';\n",
              "        element.innerHTML = '';\n",
              "        dataTable['output_type'] = 'display_data';\n",
              "        await google.colab.output.renderOutput(dataTable, element);\n",
              "        const docLink = document.createElement('div');\n",
              "        docLink.innerHTML = docLinkHtml;\n",
              "        element.appendChild(docLink);\n",
              "      }\n",
              "    </script>\n",
              "  </div>\n",
              "\n",
              "\n",
              "<div id=\"df-377d956a-81b3-4934-9af4-aea87238fd9a\">\n",
              "  <button class=\"colab-df-quickchart\" onclick=\"quickchart('df-377d956a-81b3-4934-9af4-aea87238fd9a')\"\n",
              "            title=\"Suggest charts\"\n",
              "            style=\"display:none;\">\n",
              "\n",
              "<svg xmlns=\"http://www.w3.org/2000/svg\" height=\"24px\"viewBox=\"0 0 24 24\"\n",
              "     width=\"24px\">\n",
              "    <g>\n",
              "        <path d=\"M19 3H5c-1.1 0-2 .9-2 2v14c0 1.1.9 2 2 2h14c1.1 0 2-.9 2-2V5c0-1.1-.9-2-2-2zM9 17H7v-7h2v7zm4 0h-2V7h2v10zm4 0h-2v-4h2v4z\"/>\n",
              "    </g>\n",
              "</svg>\n",
              "  </button>\n",
              "\n",
              "<style>\n",
              "  .colab-df-quickchart {\n",
              "      --bg-color: #E8F0FE;\n",
              "      --fill-color: #1967D2;\n",
              "      --hover-bg-color: #E2EBFA;\n",
              "      --hover-fill-color: #174EA6;\n",
              "      --disabled-fill-color: #AAA;\n",
              "      --disabled-bg-color: #DDD;\n",
              "  }\n",
              "\n",
              "  [theme=dark] .colab-df-quickchart {\n",
              "      --bg-color: #3B4455;\n",
              "      --fill-color: #D2E3FC;\n",
              "      --hover-bg-color: #434B5C;\n",
              "      --hover-fill-color: #FFFFFF;\n",
              "      --disabled-bg-color: #3B4455;\n",
              "      --disabled-fill-color: #666;\n",
              "  }\n",
              "\n",
              "  .colab-df-quickchart {\n",
              "    background-color: var(--bg-color);\n",
              "    border: none;\n",
              "    border-radius: 50%;\n",
              "    cursor: pointer;\n",
              "    display: none;\n",
              "    fill: var(--fill-color);\n",
              "    height: 32px;\n",
              "    padding: 0;\n",
              "    width: 32px;\n",
              "  }\n",
              "\n",
              "  .colab-df-quickchart:hover {\n",
              "    background-color: var(--hover-bg-color);\n",
              "    box-shadow: 0 1px 2px rgba(60, 64, 67, 0.3), 0 1px 3px 1px rgba(60, 64, 67, 0.15);\n",
              "    fill: var(--button-hover-fill-color);\n",
              "  }\n",
              "\n",
              "  .colab-df-quickchart-complete:disabled,\n",
              "  .colab-df-quickchart-complete:disabled:hover {\n",
              "    background-color: var(--disabled-bg-color);\n",
              "    fill: var(--disabled-fill-color);\n",
              "    box-shadow: none;\n",
              "  }\n",
              "\n",
              "  .colab-df-spinner {\n",
              "    border: 2px solid var(--fill-color);\n",
              "    border-color: transparent;\n",
              "    border-bottom-color: var(--fill-color);\n",
              "    animation:\n",
              "      spin 1s steps(1) infinite;\n",
              "  }\n",
              "\n",
              "  @keyframes spin {\n",
              "    0% {\n",
              "      border-color: transparent;\n",
              "      border-bottom-color: var(--fill-color);\n",
              "      border-left-color: var(--fill-color);\n",
              "    }\n",
              "    20% {\n",
              "      border-color: transparent;\n",
              "      border-left-color: var(--fill-color);\n",
              "      border-top-color: var(--fill-color);\n",
              "    }\n",
              "    30% {\n",
              "      border-color: transparent;\n",
              "      border-left-color: var(--fill-color);\n",
              "      border-top-color: var(--fill-color);\n",
              "      border-right-color: var(--fill-color);\n",
              "    }\n",
              "    40% {\n",
              "      border-color: transparent;\n",
              "      border-right-color: var(--fill-color);\n",
              "      border-top-color: var(--fill-color);\n",
              "    }\n",
              "    60% {\n",
              "      border-color: transparent;\n",
              "      border-right-color: var(--fill-color);\n",
              "    }\n",
              "    80% {\n",
              "      border-color: transparent;\n",
              "      border-right-color: var(--fill-color);\n",
              "      border-bottom-color: var(--fill-color);\n",
              "    }\n",
              "    90% {\n",
              "      border-color: transparent;\n",
              "      border-bottom-color: var(--fill-color);\n",
              "    }\n",
              "  }\n",
              "</style>\n",
              "\n",
              "  <script>\n",
              "    async function quickchart(key) {\n",
              "      const quickchartButtonEl =\n",
              "        document.querySelector('#' + key + ' button');\n",
              "      quickchartButtonEl.disabled = true;  // To prevent multiple clicks.\n",
              "      quickchartButtonEl.classList.add('colab-df-spinner');\n",
              "      try {\n",
              "        const charts = await google.colab.kernel.invokeFunction(\n",
              "            'suggestCharts', [key], {});\n",
              "      } catch (error) {\n",
              "        console.error('Error during call to suggestCharts:', error);\n",
              "      }\n",
              "      quickchartButtonEl.classList.remove('colab-df-spinner');\n",
              "      quickchartButtonEl.classList.add('colab-df-quickchart-complete');\n",
              "    }\n",
              "    (() => {\n",
              "      let quickchartButtonEl =\n",
              "        document.querySelector('#df-377d956a-81b3-4934-9af4-aea87238fd9a button');\n",
              "      quickchartButtonEl.style.display =\n",
              "        google.colab.kernel.accessAllowed ? 'block' : 'none';\n",
              "    })();\n",
              "  </script>\n",
              "</div>\n",
              "\n",
              "    </div>\n",
              "  </div>\n"
            ],
            "application/vnd.google.colaboratory.intrinsic+json": {
              "type": "dataframe",
              "variable_name": "data",
              "summary": "{\n  \"name\": \"data\",\n  \"rows\": 1000,\n  \"fields\": [\n    {\n      \"column\": \"movie_id\",\n      \"properties\": {\n        \"dtype\": \"string\",\n        \"num_unique_values\": 1000,\n        \"samples\": [\n          \"tt21651560\",\n          \"tt8110330\",\n          \"tt1298644\"\n        ],\n        \"semantic_type\": \"\",\n        \"description\": \"\"\n      }\n    },\n    {\n      \"column\": \"text\",\n      \"properties\": {\n        \"dtype\": \"string\",\n        \"num_unique_values\": 1000,\n        \"samples\": [\n          \"Witness a hellish vision of , as social isolation, analog technology and disturbing home videos fuse into a nightmare of found footage savagery. Set at the dawn of a new millennium, VHS presents viewers with five gory tales of found footage POV terror. In \\\"Shredding,\\\" a bratty punk rock band breaks into the ruins of an abandoned art collective where a previous band met their grisly fate in a freak accident. In \\\"Suicide Bid,\\\" a girl partakes in a claustrophobic hazing ritual for a sorority that soon unleashes the supernatural. Next, in \\\"Ozzy's Dungeon,\\\" a sleazy TV show host is forced to endure a brutal obstacle gauntlet inspired by his own show, which caused the permanent disfigurement of a former contestant. In \\\"The Gawkers,\\\" voyeuristic teenagers unearth the horrifying truth behind the girl next door. Finally, in \\\"To Hell And Back,\\\" two filmmakers asked to document a summoning ritual on the eve of YK are accidentally transported to a hellish dimension, where a tormented soul guides them in escaping its demonic inhabitants. Offering a fresh batch of deadly encounters with the macabre and the supernatural, VHS continues the VHS  saga, picking up where VHS  left off. This time, five new shocking, foundfootage horror tales unfold before the launch of the new millennium. Starting with \\\"Shredding\\\", a poppunk band breaks into the site of a punk concert tragedy, only to learn firsthand that rock, and evil, never die. Then, in \\\"Suicide Bid\\\", a cruel sorority hazing ritual that takes teasing too far harbours a ghastly secret. Next, in \\\"Ozzy's Dungeon\\\", the unfeeling, selfcentred host of a twisted game show gets a taste of his own medicine. And in \\\"The Gawkers\\\", a team of suburban teenage perverts mess with the wrong persontheir cute new neighbour. Finally, in \\\"To Hell and Back\\\", two unsuspecting filmmakers find themselves neckdeep in trouble when, instead of recording a demonsummoning ritual on New Year's Eve, they discover dark portals work both ways. \\\"The Gawkers\\\" Frame OneA stopmotion war video scene plays where the WWII soldiers are preparing for combat. Some of the soldiers aren't doing very well with their roles of battle. Eventually, one of the soldiers, Johnson went out of control, drives a tank, and kills  of the armed soldiers. The tape glitches showing portions of scenes from the other films of the franchise.\\\"Shredding\\\"R.A.C.K. acronym for members Rachel Jesse LaTourette, Ankur Keanush Tafreshi, Chris Dashiell Derrickson and Kaleb Jackson Kelly are a punk rock band who loves pulling pranks, and regularly record their antics on a web show that they host. \",\n          \"The emotional journey of two hopelessly-in-love youngsters; a young girl, Kizie, who is suffering from cancer; and Manny, a boy Kizie meets at a support group.\\nBased on the bestselling novel \\\"The Fault in Our Stars\\\" by author John Green, \\\"Dil Bechara\\\" is the story of Kizie and Manny, two ordinary people with an extraordinary love story. Both have a tragic twist to their lives that is the start of exploring a funny, thrilling and tragic business of being alive and in love. Kizie and Manny embark on an, on/off, up/down, bittersweet, profound journey into the heart of that crazy little thing called 'life'.\\nDil Bechara traces the emotional journey of two hopelessly-in-love youngsters a young girl (Kizie) suffering from cancer, and a boy (Manny) who she meets at a support group. The two explore the funny, thrilling, and tragic adventure of being alive and in love.\\nYoung Kizie Basu is suffering from thyroid cancer and is dependent on an oxygen cylinder all her life. She feels that her life is boring and she dreams of meeting singer Abhimanya Veer, who has left one of his songs incomplete. During cancer counseling sessions she meets Immanuel Rajkumar Junior, a fan of Superstar Rajnikanth and also suffering from Osteosarcoma. Immanuel and his friend JP, who suffers from glaucoma, are making a film similar to Rajnikant's film and offer Kizie a lead role. During this phase, Kizzie's life changes and blossoms and she falls in love, but death can call them anytime.\",\n          \"Two con women one low rent and the other high class - team up to take down the men who have wronged them. In this remake of 1988's \\\"Dirty Rotten Scoundrels,\\\" 2 con-women hustle in a small French Riviera town one for small amounts from average men, and one for higher amounts wealthier men. They bet on what looks like an easy target. Winner gets $500K from him, and the loser leaves town forever. Josephine is a rich con woman that only takes on the richest men, while Penny is a low-class con woman who hustles men for money in nearby bars. Both take on a tech millionaire, and whoever fails to con money from him before the other loses. The film starts in a bar where a guy named Jeremy (Timothy Simons) is waiting for his date, a model-like blonde woman. Instead, he is met by con artist Penny Rust (Rebel Wilson). She pretends that the girl in the picture that Jeremy was waiting for is her sister who was too shy to meet him because she is ashamed of her small breasts, so Penny almost tricks Jeremy into giving her money for her \\\"sister's\\\" boob job. However, another guy that Penny swindled finds her in the bar with the cops, and she runs out of there, managing to hide among trash bags since her dress looks like one. Somewhere in France, a Danish man named Mathias (Casper Christensen) spots an American woman, Josephine Chesterfield (Anne Hathaway), sitting alone at a bar. He approaches her and hears her story about winning a lot of chips at the casino. Mathias offers to sell Josephine his mother's valuable bracelet, only for an Interpol officer, Brigitte Desjardins (Ingrid Oliver), to come by and say that Josephine is an international criminal and that she stole the chips from an old man. In reality, Brigitte and the old man, Albert (Nicholas Woodeson), are in cahoots with Josephine, who is really an English woman posing as a dim-witted American to try and con other men. She manages to swipe Mathias's bracelet and swap it with a fake.\"\n        ],\n        \"semantic_type\": \"\",\n        \"description\": \"\"\n      }\n    },\n    {\n      \"column\": \"genre\",\n      \"properties\": {\n        \"dtype\": \"category\",\n        \"num_unique_values\": 4,\n        \"samples\": [\n          \"horror\",\n          \"action\",\n          \"romance\"\n        ],\n        \"semantic_type\": \"\",\n        \"description\": \"\"\n      }\n    },\n    {\n      \"column\": \"label\",\n      \"properties\": {\n        \"dtype\": \"number\",\n        \"std\": 1,\n        \"min\": 0,\n        \"max\": 3,\n        \"num_unique_values\": 4,\n        \"samples\": [\n          1,\n          3,\n          0\n        ],\n        \"semantic_type\": \"\",\n        \"description\": \"\"\n      }\n    }\n  ]\n}"
            }
          },
          "metadata": {},
          "execution_count": 177
        }
      ]
    },
    {
      "cell_type": "code",
      "source": [
        "len(data)"
      ],
      "metadata": {
        "colab": {
          "base_uri": "https://localhost:8080/"
        },
        "id": "iSY-6K5p6hQN",
        "outputId": "4420c607-4450-4892-b7db-710202495267"
      },
      "execution_count": 178,
      "outputs": [
        {
          "output_type": "execute_result",
          "data": {
            "text/plain": [
              "1000"
            ]
          },
          "metadata": {},
          "execution_count": 178
        }
      ]
    },
    {
      "cell_type": "code",
      "source": [
        "data.value_counts('label')"
      ],
      "metadata": {
        "colab": {
          "base_uri": "https://localhost:8080/",
          "height": 238
        },
        "id": "uQ--GpnvA6yf",
        "outputId": "2c353206-bfc5-4811-c05f-d601302a316e"
      },
      "execution_count": 179,
      "outputs": [
        {
          "output_type": "execute_result",
          "data": {
            "text/plain": [
              "label\n",
              "0    250\n",
              "1    250\n",
              "2    250\n",
              "3    250\n",
              "Name: count, dtype: int64"
            ],
            "text/html": [
              "<div>\n",
              "<style scoped>\n",
              "    .dataframe tbody tr th:only-of-type {\n",
              "        vertical-align: middle;\n",
              "    }\n",
              "\n",
              "    .dataframe tbody tr th {\n",
              "        vertical-align: top;\n",
              "    }\n",
              "\n",
              "    .dataframe thead th {\n",
              "        text-align: right;\n",
              "    }\n",
              "</style>\n",
              "<table border=\"1\" class=\"dataframe\">\n",
              "  <thead>\n",
              "    <tr style=\"text-align: right;\">\n",
              "      <th></th>\n",
              "      <th>count</th>\n",
              "    </tr>\n",
              "    <tr>\n",
              "      <th>label</th>\n",
              "      <th></th>\n",
              "    </tr>\n",
              "  </thead>\n",
              "  <tbody>\n",
              "    <tr>\n",
              "      <th>0</th>\n",
              "      <td>250</td>\n",
              "    </tr>\n",
              "    <tr>\n",
              "      <th>1</th>\n",
              "      <td>250</td>\n",
              "    </tr>\n",
              "    <tr>\n",
              "      <th>2</th>\n",
              "      <td>250</td>\n",
              "    </tr>\n",
              "    <tr>\n",
              "      <th>3</th>\n",
              "      <td>250</td>\n",
              "    </tr>\n",
              "  </tbody>\n",
              "</table>\n",
              "</div><br><label><b>dtype:</b> int64</label>"
            ]
          },
          "metadata": {},
          "execution_count": 179
        }
      ]
    },
    {
      "cell_type": "code",
      "source": [
        "zero_shot = f\"\"\" \"\"\"\n",
        "\n",
        "one_shot = f\"\"\"\n",
        "              Input: \"Two strangers from different worlds cross paths and form an unexpected bond. As they navigate challenges and personal doubts, they must decide if taking a leap of faith is worth the risk.\"\n",
        "              Output: Romance\n",
        "              Input: \"A quiet town is shaken when an ancient evil awakens, preying on those who dare to uncover its secrets. As the darkness spreads, a small group must fight to survive before they become its next victims.\"\n",
        "              Output: Horror\n",
        "              Input: \"When a series of ridiculous misunderstandings spirals out of control, an unlikely group of misfits is forced to work together. Along the way, chaos ensues, friendships are tested, and laughter is inevitable.\"\n",
        "              Output: Comedy\n",
        "              Input: \"A skilled operative is pulled back into a dangerous world after uncovering a high-stakes conspiracy. With time running out and enemies closing in, they must rely on their instincts to stop a catastrophic event.\"\n",
        "              Output: Action\n",
        "\"\"\"\n",
        "\n",
        "three_shot = f\"\"\"\n",
        "            Input: \"A chance encounter leads to an undeniable spark, but timing and circumstances threaten to pull them apart. As fate keeps bringing them together, they must decide if love is worth the complications.\"\n",
        "            Output: Romance\n",
        "            Input: \"Two longtime friends find their relationship shifting when unexpected feelings surface. Caught between fear of change and the promise of something more, they must figure out if love is worth the risk.\"\n",
        "            Output: Romance\n",
        "            Input: \"A whirlwind adventure forces two opposites to rely on each other, revealing a connection neither of them saw coming. As their journey unfolds, they must confront their pasts to embrace what lies ahead.\"\n",
        "            Output: Romance\n",
        "            Input: \"A group of travelers stumbles upon an abandoned town, only to realize they were meant to arrive. As they search for a way out, they uncover a chilling secret that refuses to let them leave.\"\n",
        "            Output: Horror\n",
        "            Input: \"Strange occurrences begin plaguing a family after they move into their dream home. What starts as small, unexplainable events soon escalates into a terrifying battle for survival.\"\n",
        "            Ouput: Horror\n",
        "            Input: \"A late-night dare leads a group of friends to an infamous, cursed location. When one of them disappears, they realize the legend is real—and they may be next.\"\n",
        "            Output: Horror\n",
        "            Input: \"When a well-intentioned lie spirals out of control, one person finds themselves leading a double life. Juggling the chaos becomes increasingly difficult as the truth threatens to come crashing down.\"\n",
        "            Output: Comedy\n",
        "            Input: \"A disastrous wedding weekend goes completely off the rails as secrets are revealed, plans unravel, and an unexpected guest shakes things up. Somehow, amidst the madness, love and laughter still find a way.\"\n",
        "            Output: Comedy\n",
        "            Input: \"An underdog team of misfits is thrown together for a high-stakes competition they have no business entering. Against all odds (and their own ridiculous mistakes), they just might stand a chance.\"\n",
        "            Output: Comedy\n",
        "            Input: \"A skilled thief is forced out of retirement for one last heist, but things go wrong when they realize they’ve been set up. Now, they must outwit their pursuers and uncover the truth before it’s too late.\"\n",
        "            Output: Action\n",
        "            Input: \"When a deadly secret is exposed, a reluctant hero is thrust into a global chase against ruthless enemies. With the odds stacked against them, they must fight to stop a disaster before it’s too late.\"\n",
        "            Output: Action\n",
        "            Input: \"A former agent with a troubled past is pulled back into action when their loved one is taken. As the clock ticks down, they’ll stop at nothing to bring them home—no matter the cost.\"\n",
        "            Output: Action\n",
        "\"\"\"\n"
      ],
      "metadata": {
        "id": "orn7FXuHuLvq"
      },
      "execution_count": 180,
      "outputs": []
    },
    {
      "cell_type": "code",
      "source": [
        "# text classification with GPT\n",
        "\n",
        "def classify_text(text):\n",
        "    try:\n",
        "        # Call GPT-3.5 Turbo\n",
        "        response = openai.chat.completions.create(\n",
        "            model=\"gpt-3.5-turbo\",\n",
        "            messages=[\n",
        "                {\"role\": \"system\", \"content\": \"You are a classifier for movie genres. Given a story summary, decide which genre it belongs to out of these four explicitly: romance, horror, comedy, action. Respond only with 'romance', 'horror', 'comedy' or 'action' and no other words or symbols.\"},\n",
        "                {\"role\": \"user\", \"content\": shot},\n",
        "                {\"role\": \"user\", \"content\": text}\n",
        "            ]\n",
        "        )\n",
        "        # Extract and return the response\n",
        "        sentiment = response.choices[0].message.content.strip()\n",
        "#       print(response.choices[0].message.content)\n",
        "        return sentiment\n",
        "    except Exception as e:\n",
        "        return f\"Error: {e}\""
      ],
      "metadata": {
        "id": "3LPSU6N1KWis"
      },
      "execution_count": 181,
      "outputs": []
    },
    {
      "cell_type": "code",
      "source": [
        "# adjust for desired prompt / model / data size\n",
        "test_size = len(data)   # can adjust for smaller testing\n",
        "\n",
        "function = classify_text\n",
        "shot_name = \"three_shot\"      # change for zero / one / three shot\n",
        "model_name = \"gpt-3.5-turbo\"  # change for different models"
      ],
      "metadata": {
        "id": "2A44Q-SnLLuI"
      },
      "execution_count": 182,
      "outputs": []
    },
    {
      "cell_type": "code",
      "source": [
        "\n",
        "prediction = []\n",
        "\n",
        "if shot_name == \"one_shot\":\n",
        "  shot = one_shot\n",
        "elif shot_name == \"three_shot\":\n",
        "  shot = three_shot\n",
        "else:\n",
        "  shot = zero_shot\n",
        "\n",
        "\n",
        "\n",
        "# text classification\n",
        "def genre_classification(data):\n",
        "  count = 0\n",
        "  for i, texts in enumerate(data.text[:test_size]):\n",
        "    result = function(texts)\n",
        "    count += 1\n",
        "    if count % 100 == 0:\n",
        "      print(count)\n",
        "\n",
        "#    print(data.text[i])\n",
        "\n",
        "    # Convert result and data.genre[i] to lowercase for comparison\n",
        "    result = result.lower()\n",
        "    actual_genre = data.genre.iloc[i].lower()\n",
        "\n",
        "#    print(\"\\nresult: \", result)\n",
        "#    print(\"label: \", data.genre[i])\n",
        "\n",
        "    if result == 'romance':\n",
        "      prediction.append('romance')\n",
        "\n",
        "    elif result == 'horror':\n",
        "      prediction.append('horror')\n",
        "\n",
        "    elif result == 'comedy':\n",
        "      prediction.append('comedy')\n",
        "\n",
        "    elif result == 'action':\n",
        "      prediction.append('action')\n",
        "\n",
        "    else:\n",
        "      # Handle unexpected results, e.g., by appending a default value\n",
        "      print(f\"Unexpected result for text at index {i}: {result}\")\n",
        "      prediction.append(result) # Append 0 as a default for unexpected results\n",
        "\n",
        "def spam_classification(data):\n",
        "  count = 0\n",
        "  for i, texts in enumerate(data.text[:test_size]):\n",
        "    result = function(texts)\n",
        "    count += 1\n",
        "    if count % 100 == 0:\n",
        "      print(count)\n",
        "\n",
        "    if result == 'spam':\n",
        "      prediction.append(1)\n",
        "    elif result == 'ham':\n",
        "      prediction.append(0)\n",
        "    else:\n",
        "      # Handle unexpected results, e.g., by appending a default value\n",
        "      print(f\"Unexpected result for text at index {i}: {result}\")\n",
        "      prediction.append(0) # Append 0 as a default for unexpected results\n",
        "\n",
        ""
      ],
      "metadata": {
        "id": "tOAd4ULQjrQh",
        "collapsed": true
      },
      "execution_count": 183,
      "outputs": []
    },
    {
      "cell_type": "code",
      "source": [
        "genre_classification(data)\n"
      ],
      "metadata": {
        "colab": {
          "base_uri": "https://localhost:8080/"
        },
        "id": "6byaxd0_MlLj",
        "outputId": "a25a4f92-1a85-49c4-cf47-0094eb1e3fe3"
      },
      "execution_count": 184,
      "outputs": [
        {
          "output_type": "stream",
          "name": "stdout",
          "text": [
            "Unexpected result for text at index 18: fantasy\n",
            "100\n",
            "Unexpected result for text at index 114: drama\n",
            "Unexpected result for text at index 120: drama\n",
            "Unexpected result for text at index 195: mystery\n",
            "200\n",
            "Unexpected result for text at index 238: dark comedy\n",
            "300\n",
            "Unexpected result for text at index 303: drama\n",
            "Unexpected result for text at index 346: war films often have elements of action, drama, or historical genres. however, based on the summaries provided, the story leans more towards the genre of **action**.\n",
            "Unexpected result for text at index 347: drama\n",
            "Unexpected result for text at index 352: drama\n",
            "400\n",
            "Unexpected result for text at index 444: drama\n",
            "Unexpected result for text at index 457: adventure\n",
            "500\n",
            "Unexpected result for text at index 502: drama\n",
            "Unexpected result for text at index 532: drama\n",
            "Unexpected result for text at index 548: thriller\n",
            "Unexpected result for text at index 550: thriller\n",
            "Unexpected result for text at index 566: drama\n",
            "Unexpected result for text at index 567: animation\n",
            "Unexpected result for text at index 573: drama\n",
            "600\n",
            "Unexpected result for text at index 650: mystery\n",
            "700\n",
            "Unexpected result for text at index 714: adventure\n",
            "Unexpected result for text at index 731: thriller\n",
            "Unexpected result for text at index 763: drama\n",
            "800\n",
            "Unexpected result for text at index 802: drama\n",
            "Unexpected result for text at index 873: adventure\n",
            "Unexpected result for text at index 881: drama\n",
            "900\n",
            "Unexpected result for text at index 905: adventure\n",
            "Unexpected result for text at index 919: fantasy\n",
            "Unexpected result for text at index 924: mystery\n",
            "Unexpected result for text at index 957: drama\n",
            "Unexpected result for text at index 962: animation\n",
            "Unexpected result for text at index 971: drama\n",
            "Unexpected result for text at index 986: adventure\n",
            "1000\n"
          ]
        }
      ]
    },
    {
      "cell_type": "code",
      "source": [
        "len(prediction)"
      ],
      "metadata": {
        "colab": {
          "base_uri": "https://localhost:8080/"
        },
        "id": "OtOy5YLX_iaT",
        "outputId": "7bcd551d-68fe-48c6-b32f-541f1130276e"
      },
      "execution_count": 185,
      "outputs": [
        {
          "output_type": "execute_result",
          "data": {
            "text/plain": [
              "1000"
            ]
          },
          "metadata": {},
          "execution_count": 185
        }
      ]
    },
    {
      "cell_type": "code",
      "source": [
        "len(data)"
      ],
      "metadata": {
        "colab": {
          "base_uri": "https://localhost:8080/"
        },
        "id": "5Q1ruPaEzSWo",
        "outputId": "3b3f2ddc-ead0-469e-a04c-bb07bb28b2f4"
      },
      "execution_count": 186,
      "outputs": [
        {
          "output_type": "execute_result",
          "data": {
            "text/plain": [
              "1000"
            ]
          },
          "metadata": {},
          "execution_count": 186
        }
      ]
    },
    {
      "cell_type": "code",
      "source": [
        "# copy predictions to pred_copy\n",
        "pred_copy = prediction.copy()"
      ],
      "metadata": {
        "id": "AmSencFWmG0p"
      },
      "execution_count": 187,
      "outputs": []
    },
    {
      "cell_type": "code",
      "source": [
        "prediction = pred_copy.copy()"
      ],
      "metadata": {
        "id": "XKpwwOSYuOM7"
      },
      "execution_count": 201,
      "outputs": []
    },
    {
      "cell_type": "code",
      "source": [
        "# count unexpected predictions\n",
        "count = 0\n",
        "for i in range(len(prediction)):\n",
        "  if prediction[i] != 'romance' and prediction[i] != 'horror' and prediction[i] != 'comedy' and prediction[i] != 'action':\n",
        "    count += 1\n",
        "\n",
        "\n",
        "print(count)"
      ],
      "metadata": {
        "colab": {
          "base_uri": "https://localhost:8080/"
        },
        "id": "WATduZFElW3a",
        "outputId": "35f61ee8-65f6-423d-e9e1-a431ab7ff44a"
      },
      "execution_count": 202,
      "outputs": [
        {
          "output_type": "stream",
          "name": "stdout",
          "text": [
            "32\n"
          ]
        }
      ]
    },
    {
      "cell_type": "code",
      "source": [
        "# combine count unexpected with options for handling\n",
        "\n",
        "handle_option = 1 # 0 = change all to 0 / 1 = remove / 2 = manual switch\n",
        "indices_to_remove = []\n",
        "count = 0\n",
        "\n",
        "for i, pred in enumerate(prediction):\n",
        "    if pred not in ['romance', 'horror', 'comedy', 'action']:\n",
        "        count += 1\n",
        "        if handle_option == 0:\n",
        "            prediction[i] = 'romance'\n",
        "        elif handle_option == 1:\n",
        "            indices_to_remove.append(i)\n",
        "\n",
        "\n",
        "#print(indices_to_remove)\n",
        "\n",
        "if handle_option == 1:\n",
        "    # Remove rows from data and prediction outside the loop\n",
        "    data.drop(data.index[indices_to_remove], inplace=True)\n",
        "    prediction = [pred for i, pred in enumerate(prediction) if i not in indices_to_remove]\n",
        "\n",
        "print(count)\n"
      ],
      "metadata": {
        "colab": {
          "base_uri": "https://localhost:8080/"
        },
        "id": "Joi9vmZzmW3h",
        "outputId": "32505be7-86dc-441f-8893-4f12906eea4b"
      },
      "execution_count": 203,
      "outputs": [
        {
          "output_type": "stream",
          "name": "stdout",
          "text": [
            "32\n"
          ]
        }
      ]
    },
    {
      "cell_type": "code",
      "source": [
        "len(prediction)"
      ],
      "metadata": {
        "colab": {
          "base_uri": "https://localhost:8080/"
        },
        "id": "wp-b2ZN8RPkR",
        "outputId": "528c2d03-58ee-4791-8cc2-3726b64cb277"
      },
      "execution_count": 204,
      "outputs": [
        {
          "output_type": "execute_result",
          "data": {
            "text/plain": [
              "968"
            ]
          },
          "metadata": {},
          "execution_count": 204
        }
      ]
    },
    {
      "cell_type": "code",
      "source": [
        "data.genre.value_counts()"
      ],
      "metadata": {
        "colab": {
          "base_uri": "https://localhost:8080/",
          "height": 238
        },
        "id": "ERxd3UKCzkUB",
        "outputId": "794e12f2-c3cd-4635-8718-e8377f9d2cbd"
      },
      "execution_count": 205,
      "outputs": [
        {
          "output_type": "execute_result",
          "data": {
            "text/plain": [
              "genre\n",
              "horror     249\n",
              "romance    247\n",
              "action     245\n",
              "comedy     227\n",
              "Name: count, dtype: int64"
            ],
            "text/html": [
              "<div>\n",
              "<style scoped>\n",
              "    .dataframe tbody tr th:only-of-type {\n",
              "        vertical-align: middle;\n",
              "    }\n",
              "\n",
              "    .dataframe tbody tr th {\n",
              "        vertical-align: top;\n",
              "    }\n",
              "\n",
              "    .dataframe thead th {\n",
              "        text-align: right;\n",
              "    }\n",
              "</style>\n",
              "<table border=\"1\" class=\"dataframe\">\n",
              "  <thead>\n",
              "    <tr style=\"text-align: right;\">\n",
              "      <th></th>\n",
              "      <th>count</th>\n",
              "    </tr>\n",
              "    <tr>\n",
              "      <th>genre</th>\n",
              "      <th></th>\n",
              "    </tr>\n",
              "  </thead>\n",
              "  <tbody>\n",
              "    <tr>\n",
              "      <th>horror</th>\n",
              "      <td>249</td>\n",
              "    </tr>\n",
              "    <tr>\n",
              "      <th>romance</th>\n",
              "      <td>247</td>\n",
              "    </tr>\n",
              "    <tr>\n",
              "      <th>action</th>\n",
              "      <td>245</td>\n",
              "    </tr>\n",
              "    <tr>\n",
              "      <th>comedy</th>\n",
              "      <td>227</td>\n",
              "    </tr>\n",
              "  </tbody>\n",
              "</table>\n",
              "</div><br><label><b>dtype:</b> int64</label>"
            ]
          },
          "metadata": {},
          "execution_count": 205
        }
      ]
    },
    {
      "cell_type": "code",
      "source": [
        "file_name"
      ],
      "metadata": {
        "colab": {
          "base_uri": "https://localhost:8080/",
          "height": 35
        },
        "id": "F0XtzZ5XTq52",
        "outputId": "87b9138d-b43a-428d-cef9-9dbea9a6648f"
      },
      "execution_count": 206,
      "outputs": [
        {
          "output_type": "execute_result",
          "data": {
            "text/plain": [
              "'data_tc1'"
            ],
            "application/vnd.google.colaboratory.intrinsic+json": {
              "type": "string"
            }
          },
          "metadata": {},
          "execution_count": 206
        }
      ]
    },
    {
      "cell_type": "code",
      "source": [
        "shot_name\n"
      ],
      "metadata": {
        "id": "g4pW4KbFw_QG",
        "colab": {
          "base_uri": "https://localhost:8080/",
          "height": 35
        },
        "outputId": "00cc6458-621f-48a1-9cd4-ce3f2e29682d"
      },
      "execution_count": 207,
      "outputs": [
        {
          "output_type": "execute_result",
          "data": {
            "text/plain": [
              "'three_shot'"
            ],
            "application/vnd.google.colaboratory.intrinsic+json": {
              "type": "string"
            }
          },
          "metadata": {},
          "execution_count": 207
        }
      ]
    },
    {
      "cell_type": "code",
      "source": [
        "handle_option"
      ],
      "metadata": {
        "colab": {
          "base_uri": "https://localhost:8080/"
        },
        "id": "RPG0sWhNoGDh",
        "outputId": "0322b4a8-4c95-49f6-c142-7a225263e600"
      },
      "execution_count": 208,
      "outputs": [
        {
          "output_type": "execute_result",
          "data": {
            "text/plain": [
              "1"
            ]
          },
          "metadata": {},
          "execution_count": 208
        }
      ]
    },
    {
      "cell_type": "code",
      "source": [
        "# view metrics and save\n",
        "def view_and_save_metrics(data, predicted_classes):\n",
        "  accuracy = accuracy_score(data.tolist(), predicted_classes)\n",
        "  precision = precision_score(data.tolist(), predicted_classes, average='weighted')\n",
        "  recall = recall_score(data.tolist(), predicted_classes, average='weighted')\n",
        "  f1 = f1_score(data.tolist(), predicted_classes, average='weighted')\n",
        "  conf_matrix = confusion_matrix(data.tolist(), predicted_classes)\n",
        "  #roc_auc = roc_auc_score(data.tolist(), predicted_classes)\n",
        "\n",
        "  print(\"Accuracy:\", accuracy)\n",
        "  print(\"Precision:\", precision)\n",
        "  print(\"Recall:\", recall)\n",
        "  print(\"F1 Score:\", f1)\n",
        "  print(\"Confusion Matrix:\\n\", conf_matrix)\n",
        "  #print(\"ROC AUC Score:\", roc_auc)\n",
        "\n",
        "  metrics = {\n",
        "      \"accuracy\": accuracy,\n",
        "      \"precision\": precision,\n",
        "      \"recall\": recall,\n",
        "      \"f1_score\": f1,\n",
        "      \"confusion_matrix\": conf_matrix,\n",
        "  #    \"roc_auc_score\": roc_auc,\n",
        "      \"model_name\": model_name,\n",
        "      \"dataset\": file_name\n",
        "  }\n",
        "\n",
        "  # save metrics to csv file\n",
        "  metrics_df = pd.DataFrame([metrics])\n",
        "  metrics_df.to_csv('/content/drive/MyDrive/Colab Notebooks/CAP6640_NLP/metrics/text_classification/metrics_'+model_name+'_'+file_name+'_'+shot_name+'_'+str(handle_option)+'.csv', index=False)\n",
        "\n"
      ],
      "metadata": {
        "id": "aSVaLAzQmEhx"
      },
      "execution_count": 209,
      "outputs": []
    },
    {
      "cell_type": "code",
      "source": [
        "view_and_save_metrics(data.genre, prediction)"
      ],
      "metadata": {
        "colab": {
          "base_uri": "https://localhost:8080/"
        },
        "id": "gD5uoHr5-Hup",
        "outputId": "f8927147-acee-49df-d219-acaa6363e345"
      },
      "execution_count": 210,
      "outputs": [
        {
          "output_type": "stream",
          "name": "stdout",
          "text": [
            "Accuracy: 0.8171487603305785\n",
            "Precision: 0.8229182360332742\n",
            "Recall: 0.8171487603305785\n",
            "F1 Score: 0.8093781641130321\n",
            "Confusion Matrix:\n",
            " [[228   6   9   2]\n",
            " [ 36 123  19  49]\n",
            " [ 17   2 221   9]\n",
            " [ 11  13   4 219]]\n"
          ]
        }
      ]
    },
    {
      "cell_type": "code",
      "source": [
        "data.genre.value_counts()"
      ],
      "metadata": {
        "colab": {
          "base_uri": "https://localhost:8080/",
          "height": 238
        },
        "id": "3NlmwvDWV9vw",
        "outputId": "cfdbb9e4-e634-4e94-87dc-5ac42b5e8d7d"
      },
      "execution_count": 211,
      "outputs": [
        {
          "output_type": "execute_result",
          "data": {
            "text/plain": [
              "genre\n",
              "horror     249\n",
              "romance    247\n",
              "action     245\n",
              "comedy     227\n",
              "Name: count, dtype: int64"
            ],
            "text/html": [
              "<div>\n",
              "<style scoped>\n",
              "    .dataframe tbody tr th:only-of-type {\n",
              "        vertical-align: middle;\n",
              "    }\n",
              "\n",
              "    .dataframe tbody tr th {\n",
              "        vertical-align: top;\n",
              "    }\n",
              "\n",
              "    .dataframe thead th {\n",
              "        text-align: right;\n",
              "    }\n",
              "</style>\n",
              "<table border=\"1\" class=\"dataframe\">\n",
              "  <thead>\n",
              "    <tr style=\"text-align: right;\">\n",
              "      <th></th>\n",
              "      <th>count</th>\n",
              "    </tr>\n",
              "    <tr>\n",
              "      <th>genre</th>\n",
              "      <th></th>\n",
              "    </tr>\n",
              "  </thead>\n",
              "  <tbody>\n",
              "    <tr>\n",
              "      <th>horror</th>\n",
              "      <td>249</td>\n",
              "    </tr>\n",
              "    <tr>\n",
              "      <th>romance</th>\n",
              "      <td>247</td>\n",
              "    </tr>\n",
              "    <tr>\n",
              "      <th>action</th>\n",
              "      <td>245</td>\n",
              "    </tr>\n",
              "    <tr>\n",
              "      <th>comedy</th>\n",
              "      <td>227</td>\n",
              "    </tr>\n",
              "  </tbody>\n",
              "</table>\n",
              "</div><br><label><b>dtype:</b> int64</label>"
            ]
          },
          "metadata": {},
          "execution_count": 211
        }
      ]
    },
    {
      "cell_type": "code",
      "source": [
        "import numpy as np\n",
        "import seaborn as sns\n",
        "import matplotlib.pyplot as plt\n",
        "from sklearn.metrics import confusion_matrix\n",
        "\n",
        "cm = confusion_matrix(data.genre, prediction)\n",
        "\n",
        "# Define class labels\n",
        "labels = [\"action\", \"comedy\", \"horror\", \"romance\"]\n",
        "\n",
        "# Plot the confusion matrix\n",
        "plt.figure(figsize=(5, 4))\n",
        "sns.heatmap(cm, annot=True, fmt=\"d\", cmap=\"Blues\", cbar=False, annot_kws={\"size\": 16}, xticklabels=labels, yticklabels=labels)\n",
        "\n",
        "# Labels and title\n",
        "plt.xlabel(\"Predicted Label\")\n",
        "plt.ylabel(\"True Label\")\n",
        "plt.title(f\"Confusion Matrix for {file_name}_{shot_name}_{handle_option}\")\n",
        "plt.savefig(f\"/content/drive/MyDrive/Colab Notebooks/CAP6640_NLP/metrics/text_classification/confusion_matrix_{file_name}_{shot_name}_{handle_option}.png\")\n",
        "plt.show()\n"
      ],
      "metadata": {
        "colab": {
          "base_uri": "https://localhost:8080/",
          "height": 410
        },
        "id": "d4LRgSCwJiqz",
        "outputId": "8a15f1f9-034d-48c2-e504-a2f52787cd06"
      },
      "execution_count": 212,
      "outputs": [
        {
          "output_type": "display_data",
          "data": {
            "text/plain": [
              "<Figure size 500x400 with 1 Axes>"
            ],
            "image/png": "[encoded data removed]"
          },
          "metadata": {}
        }
      ]
    },
    {
      "cell_type": "code",
      "source": [],
      "metadata": {
        "id": "DJdYdRVaVqBD"
      },
      "execution_count": null,
      "outputs": []
    }
  ]
}
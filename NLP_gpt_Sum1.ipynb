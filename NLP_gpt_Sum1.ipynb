{
  "nbformat": 4,
  "nbformat_minor": 0,
  "metadata": {
    "colab": {
      "provenance": [],
      "mount_file_id": "1IVDMinAvFFhiyv2CXthzylsZFNpYteVw",
      "authorship_tag": "ABX9TyM861lCXz6XyJNDkUlBdpCq",
      "include_colab_link": true
    },
    "kernelspec": {
      "name": "python3",
      "display_name": "Python 3"
    },
    "language_info": {
      "name": "python"
    }
  },
  "cells": [
    {
      "cell_type": "markdown",
      "metadata": {
        "id": "view-in-github",
        "colab_type": "text"
      },
      "source": [
        "<a href=\"https://colab.research.google.com/github/zoebatz/CAP6640_Project/blob/main/NLP_gpt_Sum1.ipynb\" target=\"_parent\"><img src=\"https://colab.research.google.com/assets/colab-badge.svg\" alt=\"Open In Colab\"/></a>"
      ]
    },
    {
      "cell_type": "code",
      "source": [
        "!pip install sacrebleu --quiet\n",
        "!pip install evaluate --quiet\n",
        "!pip install rouge_score --quiet\n",
        "!pip install bert_score --quiet\n"
      ],
      "metadata": {
        "colab": {
          "base_uri": "https://localhost:8080/"
        },
        "id": "jKDmWFNJ5olA",
        "outputId": "1573cf12-f1a4-4f7d-b407-7b380f082df0"
      },
      "execution_count": 1,
      "outputs": [
        {
          "output_type": "stream",
          "name": "stdout",
          "text": [
            "\u001b[2K     \u001b[90m━━━━━━━━━━━━━━━━━━━━━━━━━━━━━━━━━━━━━━━━\u001b[0m \u001b[32m51.8/51.8 kB\u001b[0m \u001b[31m3.4 MB/s\u001b[0m eta \u001b[36m0:00:00\u001b[0m\n",
            "\u001b[2K   \u001b[90m━━━━━━━━━━━━━━━━━━━━━━━━━━━━━━━━━━━━━━━━\u001b[0m \u001b[32m104.1/104.1 kB\u001b[0m \u001b[31m7.3 MB/s\u001b[0m eta \u001b[36m0:00:00\u001b[0m\n",
            "\u001b[2K   \u001b[90m━━━━━━━━━━━━━━━━━━━━━━━━━━━━━━━━━━━━━━━━\u001b[0m \u001b[32m84.0/84.0 kB\u001b[0m \u001b[31m5.0 MB/s\u001b[0m eta \u001b[36m0:00:00\u001b[0m\n",
            "\u001b[2K   \u001b[90m━━━━━━━━━━━━━━━━━━━━━━━━━━━━━━━━━━━━━━━━\u001b[0m \u001b[32m491.2/491.2 kB\u001b[0m \u001b[31m23.8 MB/s\u001b[0m eta \u001b[36m0:00:00\u001b[0m\n",
            "\u001b[2K   \u001b[90m━━━━━━━━━━━━━━━━━━━━━━━━━━━━━━━━━━━━━━━━\u001b[0m \u001b[32m116.3/116.3 kB\u001b[0m \u001b[31m6.0 MB/s\u001b[0m eta \u001b[36m0:00:00\u001b[0m\n",
            "\u001b[2K   \u001b[90m━━━━━━━━━━━━━━━━━━━━━━━━━━━━━━━━━━━━━━━━\u001b[0m \u001b[32m183.9/183.9 kB\u001b[0m \u001b[31m8.7 MB/s\u001b[0m eta \u001b[36m0:00:00\u001b[0m\n",
            "\u001b[2K   \u001b[90m━━━━━━━━━━━━━━━━━━━━━━━━━━━━━━━━━━━━━━━━\u001b[0m \u001b[32m143.5/143.5 kB\u001b[0m \u001b[31m8.7 MB/s\u001b[0m eta \u001b[36m0:00:00\u001b[0m\n",
            "\u001b[2K   \u001b[90m━━━━━━━━━━━━━━━━━━━━━━━━━━━━━━━━━━━━━━━━\u001b[0m \u001b[32m194.8/194.8 kB\u001b[0m \u001b[31m5.0 MB/s\u001b[0m eta \u001b[36m0:00:00\u001b[0m\n",
            "\u001b[?25h\u001b[31mERROR: pip's dependency resolver does not currently take into account all the packages that are installed. This behaviour is the source of the following dependency conflicts.\n",
            "torch 2.6.0+cu124 requires nvidia-cublas-cu12==12.4.5.8; platform_system == \"Linux\" and platform_machine == \"x86_64\", but you have nvidia-cublas-cu12 12.5.3.2 which is incompatible.\n",
            "torch 2.6.0+cu124 requires nvidia-cuda-cupti-cu12==12.4.127; platform_system == \"Linux\" and platform_machine == \"x86_64\", but you have nvidia-cuda-cupti-cu12 12.5.82 which is incompatible.\n",
            "torch 2.6.0+cu124 requires nvidia-cuda-nvrtc-cu12==12.4.127; platform_system == \"Linux\" and platform_machine == \"x86_64\", but you have nvidia-cuda-nvrtc-cu12 12.5.82 which is incompatible.\n",
            "torch 2.6.0+cu124 requires nvidia-cuda-runtime-cu12==12.4.127; platform_system == \"Linux\" and platform_machine == \"x86_64\", but you have nvidia-cuda-runtime-cu12 12.5.82 which is incompatible.\n",
            "torch 2.6.0+cu124 requires nvidia-cudnn-cu12==9.1.0.70; platform_system == \"Linux\" and platform_machine == \"x86_64\", but you have nvidia-cudnn-cu12 9.3.0.75 which is incompatible.\n",
            "torch 2.6.0+cu124 requires nvidia-cufft-cu12==11.2.1.3; platform_system == \"Linux\" and platform_machine == \"x86_64\", but you have nvidia-cufft-cu12 11.2.3.61 which is incompatible.\n",
            "torch 2.6.0+cu124 requires nvidia-curand-cu12==10.3.5.147; platform_system == \"Linux\" and platform_machine == \"x86_64\", but you have nvidia-curand-cu12 10.3.6.82 which is incompatible.\n",
            "torch 2.6.0+cu124 requires nvidia-cusolver-cu12==11.6.1.9; platform_system == \"Linux\" and platform_machine == \"x86_64\", but you have nvidia-cusolver-cu12 11.6.3.83 which is incompatible.\n",
            "torch 2.6.0+cu124 requires nvidia-cusparse-cu12==12.3.1.170; platform_system == \"Linux\" and platform_machine == \"x86_64\", but you have nvidia-cusparse-cu12 12.5.1.3 which is incompatible.\n",
            "torch 2.6.0+cu124 requires nvidia-nvjitlink-cu12==12.4.127; platform_system == \"Linux\" and platform_machine == \"x86_64\", but you have nvidia-nvjitlink-cu12 12.5.82 which is incompatible.\n",
            "gcsfs 2025.3.2 requires fsspec==2025.3.2, but you have fsspec 2024.12.0 which is incompatible.\u001b[0m\u001b[31m\n",
            "\u001b[0m  Preparing metadata (setup.py) ... \u001b[?25l\u001b[?25hdone\n",
            "  Building wheel for rouge_score (setup.py) ... \u001b[?25l\u001b[?25hdone\n",
            "\u001b[2K   \u001b[90m━━━━━━━━━━━━━━━━━━━━━━━━━━━━━━━━━━━━━━━━\u001b[0m \u001b[32m61.1/61.1 kB\u001b[0m \u001b[31m4.1 MB/s\u001b[0m eta \u001b[36m0:00:00\u001b[0m\n",
            "\u001b[2K   \u001b[90m━━━━━━━━━━━━━━━━━━━━━━━━━━━━━━━━━━━━━━━━\u001b[0m \u001b[32m363.4/363.4 MB\u001b[0m \u001b[31m1.4 MB/s\u001b[0m eta \u001b[36m0:00:00\u001b[0m\n",
            "\u001b[2K   \u001b[90m━━━━━━━━━━━━━━━━━━━━━━━━━━━━━━━━━━━━━━━━\u001b[0m \u001b[32m13.8/13.8 MB\u001b[0m \u001b[31m67.8 MB/s\u001b[0m eta \u001b[36m0:00:00\u001b[0m\n",
            "\u001b[2K   \u001b[90m━━━━━━━━━━━━━━━━━━━━━━━━━━━━━━━━━━━━━━━━\u001b[0m \u001b[32m24.6/24.6 MB\u001b[0m \u001b[31m54.0 MB/s\u001b[0m eta \u001b[36m0:00:00\u001b[0m\n",
            "\u001b[2K   \u001b[90m━━━━━━━━━━━━━━━━━━━━━━━━━━━━━━━━━━━━━━━━\u001b[0m \u001b[32m883.7/883.7 kB\u001b[0m \u001b[31m30.7 MB/s\u001b[0m eta \u001b[36m0:00:00\u001b[0m\n",
            "\u001b[2K   \u001b[90m━━━━━━━━━━━━━━━━━━━━━━━━━━━━━━━━━━━━━━━━\u001b[0m \u001b[32m664.8/664.8 MB\u001b[0m \u001b[31m1.3 MB/s\u001b[0m eta \u001b[36m0:00:00\u001b[0m\n",
            "\u001b[2K   \u001b[90m━━━━━━━━━━━━━━━━━━━━━━━━━━━━━━━━━━━━━━━━\u001b[0m \u001b[32m211.5/211.5 MB\u001b[0m \u001b[31m6.1 MB/s\u001b[0m eta \u001b[36m0:00:00\u001b[0m\n",
            "\u001b[?25h\u001b[33mWARNING: Retrying (Retry(total=4, connect=None, read=None, redirect=None, status=None)) after connection broken by 'ProtocolError('Connection aborted.', RemoteDisconnected('Remote end closed connection without response'))': /packages/8a/6d/44ad094874c6f1b9c654f8ed939590bdc408349f137f9b98a3a23ccec411/nvidia_curand_cu12-10.3.5.147-py3-none-manylinux2014_x86_64.whl\u001b[0m\u001b[33m\n",
            "\u001b[2K   \u001b[90m━━━━━━━━━━━━━━━━━━━━━━━━━━━━━━━━━━━━━━━━\u001b[0m \u001b[32m56.3/56.3 MB\u001b[0m \u001b[31m11.9 MB/s\u001b[0m eta \u001b[36m0:00:00\u001b[0m\n",
            "\u001b[2K   \u001b[90m━━━━━━━━━━━━━━━━━━━━━━━━━━━━━━━━━━━━━━━━\u001b[0m \u001b[32m127.9/127.9 MB\u001b[0m \u001b[31m7.8 MB/s\u001b[0m eta \u001b[36m0:00:00\u001b[0m\n",
            "\u001b[2K   \u001b[90m━━━━━━━━━━━━━━━━━━━━━━━━━━━━━━━━━━━━━━━━\u001b[0m \u001b[32m207.5/207.5 MB\u001b[0m \u001b[31m4.9 MB/s\u001b[0m eta \u001b[36m0:00:00\u001b[0m\n",
            "\u001b[2K   \u001b[90m━━━━━━━━━━━━━━━━━━━━━━━━━━━━━━━━━━━━━━━━\u001b[0m \u001b[32m21.1/21.1 MB\u001b[0m \u001b[31m44.5 MB/s\u001b[0m eta \u001b[36m0:00:00\u001b[0m\n",
            "\u001b[?25h"
          ]
        }
      ]
    },
    {
      "cell_type": "code",
      "execution_count": 3,
      "metadata": {
        "id": "gZFUpYnyjlNM"
      },
      "outputs": [],
      "source": [
        "from sklearn.metrics import accuracy_score, precision_score, recall_score, f1_score, confusion_matrix, roc_auc_score\n",
        "import openai\n",
        "import pandas as pd\n",
        "import numpy as np\n",
        "import os\n",
        "import kagglehub\n",
        "from bert_score import score\n",
        "\n",
        "\n",
        "from google.colab import userdata\n",
        "\n",
        "# print(openai.__version__)\n",
        "os.environ['OPENAI_API_KEY'] = userdata.get('OPENAI_API_NLP')"
      ]
    },
    {
      "cell_type": "code",
      "source": [
        "\n",
        "import sacrebleu\n",
        "from nltk.translate.meteor_score import meteor_score\n",
        "import nltk\n",
        "import evaluate\n",
        "\n",
        "# Download necessary resources for METEOR\n",
        "nltk.download('wordnet')\n",
        "nltk.download('omw-1.4')  # Optional but recommended\n",
        "nltk.download('punkt_tab')"
      ],
      "metadata": {
        "colab": {
          "base_uri": "https://localhost:8080/"
        },
        "id": "3YrFfm2U99Vi",
        "outputId": "b82a24f0-01f7-46ee-bfd6-10ba37663760"
      },
      "execution_count": 4,
      "outputs": [
        {
          "output_type": "stream",
          "name": "stderr",
          "text": [
            "[nltk_data] Downloading package wordnet to /root/nltk_data...\n",
            "[nltk_data] Downloading package omw-1.4 to /root/nltk_data...\n",
            "[nltk_data] Downloading package punkt_tab to /root/nltk_data...\n",
            "[nltk_data]   Unzipping tokenizers/punkt_tab.zip.\n"
          ]
        },
        {
          "output_type": "execute_result",
          "data": {
            "text/plain": [
              "True"
            ]
          },
          "metadata": {},
          "execution_count": 4
        }
      ]
    },
    {
      "cell_type": "code",
      "source": [
        "# mount google drive\n",
        "from google.colab import drive\n",
        "drive.mount('/content/drive')"
      ],
      "metadata": {
        "colab": {
          "base_uri": "https://localhost:8080/"
        },
        "id": "N1aZIpZexmrg",
        "outputId": "5d046e38-0461-49f6-d5d0-28d3f6c6f0a5"
      },
      "execution_count": null,
      "outputs": [
        {
          "output_type": "stream",
          "name": "stdout",
          "text": [
            "Mounted at /content/drive\n"
          ]
        }
      ]
    },
    {
      "cell_type": "code",
      "source": [
        "# import data from google drive\n",
        "file_name = 'data_sum1_100'\n",
        "#'data_sum1_500'\n",
        "\n",
        "\n",
        "path = \"/content/drive/MyDrive/Colab Notebooks/CAP6640_NLP/data/\"+file_name+\".csv\"\n",
        "data = pd.read_csv(path)\n",
        "data.head()\n",
        "\n"
      ],
      "metadata": {
        "colab": {
          "base_uri": "https://localhost:8080/",
          "height": 204
        },
        "id": "-aTC3RkqlClQ",
        "outputId": "e32cc6ce-be00-464e-bd4c-cbe6d9e6c43a"
      },
      "execution_count": 6,
      "outputs": [
        {
          "output_type": "execute_result",
          "data": {
            "text/plain": [
              "                                                text  \\\n",
              "0  By . Paul Donnelley . The first Range Rover pr...   \n",
              "1  The Shakespeare Birthplace Trust said it had s...   \n",
              "2  A.P.C. founder Jean Touitou has apologized for...   \n",
              "3  The first film, starring Oscar-winning actor E...   \n",
              "4  By . Mark Duell . PUBLISHED: . 08:14 EST, 16 M...   \n",
              "\n",
              "                                             summary         Dataset  \n",
              "0  On launch Land Rover described it as the most ...  CNN/Daily Mail  \n",
              "1  A £5.25m project to transform the site of Shak...            XSum  \n",
              "2  A.P.C.  founder Jean Touitou has apologized fo...  CNN/Daily Mail  \n",
              "3  Warner Bros has announced a follow-up to upcom...            XSum  \n",
              "4  Tesco unveiled plans to turn a pub in Dorset a...  CNN/Daily Mail  "
            ],
            "text/html": [
              "\n",
              "  <div id=\"df-8572067c-a4af-4c66-a9a5-a1442d4b1c64\" class=\"colab-df-container\">\n",
              "    <div>\n",
              "<style scoped>\n",
              "    .dataframe tbody tr th:only-of-type {\n",
              "        vertical-align: middle;\n",
              "    }\n",
              "\n",
              "    .dataframe tbody tr th {\n",
              "        vertical-align: top;\n",
              "    }\n",
              "\n",
              "    .dataframe thead th {\n",
              "        text-align: right;\n",
              "    }\n",
              "</style>\n",
              "<table border=\"1\" class=\"dataframe\">\n",
              "  <thead>\n",
              "    <tr style=\"text-align: right;\">\n",
              "      <th></th>\n",
              "      <th>text</th>\n",
              "      <th>summary</th>\n",
              "      <th>Dataset</th>\n",
              "    </tr>\n",
              "  </thead>\n",
              "  <tbody>\n",
              "    <tr>\n",
              "      <th>0</th>\n",
              "      <td>By . Paul Donnelley . The first Range Rover pr...</td>\n",
              "      <td>On launch Land Rover described it as the most ...</td>\n",
              "      <td>CNN/Daily Mail</td>\n",
              "    </tr>\n",
              "    <tr>\n",
              "      <th>1</th>\n",
              "      <td>The Shakespeare Birthplace Trust said it had s...</td>\n",
              "      <td>A £5.25m project to transform the site of Shak...</td>\n",
              "      <td>XSum</td>\n",
              "    </tr>\n",
              "    <tr>\n",
              "      <th>2</th>\n",
              "      <td>A.P.C. founder Jean Touitou has apologized for...</td>\n",
              "      <td>A.P.C.  founder Jean Touitou has apologized fo...</td>\n",
              "      <td>CNN/Daily Mail</td>\n",
              "    </tr>\n",
              "    <tr>\n",
              "      <th>3</th>\n",
              "      <td>The first film, starring Oscar-winning actor E...</td>\n",
              "      <td>Warner Bros has announced a follow-up to upcom...</td>\n",
              "      <td>XSum</td>\n",
              "    </tr>\n",
              "    <tr>\n",
              "      <th>4</th>\n",
              "      <td>By . Mark Duell . PUBLISHED: . 08:14 EST, 16 M...</td>\n",
              "      <td>Tesco unveiled plans to turn a pub in Dorset a...</td>\n",
              "      <td>CNN/Daily Mail</td>\n",
              "    </tr>\n",
              "  </tbody>\n",
              "</table>\n",
              "</div>\n",
              "    <div class=\"colab-df-buttons\">\n",
              "\n",
              "  <div class=\"colab-df-container\">\n",
              "    <button class=\"colab-df-convert\" onclick=\"convertToInteractive('df-8572067c-a4af-4c66-a9a5-a1442d4b1c64')\"\n",
              "            title=\"Convert this dataframe to an interactive table.\"\n",
              "            style=\"display:none;\">\n",
              "\n",
              "  <svg xmlns=\"http://www.w3.org/2000/svg\" height=\"24px\" viewBox=\"0 -960 960 960\">\n",
              "    <path d=\"M120-120v-720h720v720H120Zm60-500h600v-160H180v160Zm220 220h160v-160H400v160Zm0 220h160v-160H400v160ZM180-400h160v-160H180v160Zm440 0h160v-160H620v160ZM180-180h160v-160H180v160Zm440 0h160v-160H620v160Z\"/>\n",
              "  </svg>\n",
              "    </button>\n",
              "\n",
              "  <style>\n",
              "    .colab-df-container {\n",
              "      display:flex;\n",
              "      gap: 12px;\n",
              "    }\n",
              "\n",
              "    .colab-df-convert {\n",
              "      background-color: #E8F0FE;\n",
              "      border: none;\n",
              "      border-radius: 50%;\n",
              "      cursor: pointer;\n",
              "      display: none;\n",
              "      fill: #1967D2;\n",
              "      height: 32px;\n",
              "      padding: 0 0 0 0;\n",
              "      width: 32px;\n",
              "    }\n",
              "\n",
              "    .colab-df-convert:hover {\n",
              "      background-color: #E2EBFA;\n",
              "      box-shadow: 0px 1px 2px rgba(60, 64, 67, 0.3), 0px 1px 3px 1px rgba(60, 64, 67, 0.15);\n",
              "      fill: #174EA6;\n",
              "    }\n",
              "\n",
              "    .colab-df-buttons div {\n",
              "      margin-bottom: 4px;\n",
              "    }\n",
              "\n",
              "    [theme=dark] .colab-df-convert {\n",
              "      background-color: #3B4455;\n",
              "      fill: #D2E3FC;\n",
              "    }\n",
              "\n",
              "    [theme=dark] .colab-df-convert:hover {\n",
              "      background-color: #434B5C;\n",
              "      box-shadow: 0px 1px 3px 1px rgba(0, 0, 0, 0.15);\n",
              "      filter: drop-shadow(0px 1px 2px rgba(0, 0, 0, 0.3));\n",
              "      fill: #FFFFFF;\n",
              "    }\n",
              "  </style>\n",
              "\n",
              "    <script>\n",
              "      const buttonEl =\n",
              "        document.querySelector('#df-8572067c-a4af-4c66-a9a5-a1442d4b1c64 button.colab-df-convert');\n",
              "      buttonEl.style.display =\n",
              "        google.colab.kernel.accessAllowed ? 'block' : 'none';\n",
              "\n",
              "      async function convertToInteractive(key) {\n",
              "        const element = document.querySelector('#df-8572067c-a4af-4c66-a9a5-a1442d4b1c64');\n",
              "        const dataTable =\n",
              "          await google.colab.kernel.invokeFunction('convertToInteractive',\n",
              "                                                    [key], {});\n",
              "        if (!dataTable) return;\n",
              "\n",
              "        const docLinkHtml = 'Like what you see? Visit the ' +\n",
              "          '<a target=\"_blank\" href=https://colab.research.google.com/notebooks/data_table.ipynb>data table notebook</a>'\n",
              "          + ' to learn more about interactive tables.';\n",
              "        element.innerHTML = '';\n",
              "        dataTable['output_type'] = 'display_data';\n",
              "        await google.colab.output.renderOutput(dataTable, element);\n",
              "        const docLink = document.createElement('div');\n",
              "        docLink.innerHTML = docLinkHtml;\n",
              "        element.appendChild(docLink);\n",
              "      }\n",
              "    </script>\n",
              "  </div>\n",
              "\n",
              "\n",
              "<div id=\"df-ad6e0c93-7e96-4dab-8061-6dbf5a8d23e5\">\n",
              "  <button class=\"colab-df-quickchart\" onclick=\"quickchart('df-ad6e0c93-7e96-4dab-8061-6dbf5a8d23e5')\"\n",
              "            title=\"Suggest charts\"\n",
              "            style=\"display:none;\">\n",
              "\n",
              "<svg xmlns=\"http://www.w3.org/2000/svg\" height=\"24px\"viewBox=\"0 0 24 24\"\n",
              "     width=\"24px\">\n",
              "    <g>\n",
              "        <path d=\"M19 3H5c-1.1 0-2 .9-2 2v14c0 1.1.9 2 2 2h14c1.1 0 2-.9 2-2V5c0-1.1-.9-2-2-2zM9 17H7v-7h2v7zm4 0h-2V7h2v10zm4 0h-2v-4h2v4z\"/>\n",
              "    </g>\n",
              "</svg>\n",
              "  </button>\n",
              "\n",
              "<style>\n",
              "  .colab-df-quickchart {\n",
              "      --bg-color: #E8F0FE;\n",
              "      --fill-color: #1967D2;\n",
              "      --hover-bg-color: #E2EBFA;\n",
              "      --hover-fill-color: #174EA6;\n",
              "      --disabled-fill-color: #AAA;\n",
              "      --disabled-bg-color: #DDD;\n",
              "  }\n",
              "\n",
              "  [theme=dark] .colab-df-quickchart {\n",
              "      --bg-color: #3B4455;\n",
              "      --fill-color: #D2E3FC;\n",
              "      --hover-bg-color: #434B5C;\n",
              "      --hover-fill-color: #FFFFFF;\n",
              "      --disabled-bg-color: #3B4455;\n",
              "      --disabled-fill-color: #666;\n",
              "  }\n",
              "\n",
              "  .colab-df-quickchart {\n",
              "    background-color: var(--bg-color);\n",
              "    border: none;\n",
              "    border-radius: 50%;\n",
              "    cursor: pointer;\n",
              "    display: none;\n",
              "    fill: var(--fill-color);\n",
              "    height: 32px;\n",
              "    padding: 0;\n",
              "    width: 32px;\n",
              "  }\n",
              "\n",
              "  .colab-df-quickchart:hover {\n",
              "    background-color: var(--hover-bg-color);\n",
              "    box-shadow: 0 1px 2px rgba(60, 64, 67, 0.3), 0 1px 3px 1px rgba(60, 64, 67, 0.15);\n",
              "    fill: var(--button-hover-fill-color);\n",
              "  }\n",
              "\n",
              "  .colab-df-quickchart-complete:disabled,\n",
              "  .colab-df-quickchart-complete:disabled:hover {\n",
              "    background-color: var(--disabled-bg-color);\n",
              "    fill: var(--disabled-fill-color);\n",
              "    box-shadow: none;\n",
              "  }\n",
              "\n",
              "  .colab-df-spinner {\n",
              "    border: 2px solid var(--fill-color);\n",
              "    border-color: transparent;\n",
              "    border-bottom-color: var(--fill-color);\n",
              "    animation:\n",
              "      spin 1s steps(1) infinite;\n",
              "  }\n",
              "\n",
              "  @keyframes spin {\n",
              "    0% {\n",
              "      border-color: transparent;\n",
              "      border-bottom-color: var(--fill-color);\n",
              "      border-left-color: var(--fill-color);\n",
              "    }\n",
              "    20% {\n",
              "      border-color: transparent;\n",
              "      border-left-color: var(--fill-color);\n",
              "      border-top-color: var(--fill-color);\n",
              "    }\n",
              "    30% {\n",
              "      border-color: transparent;\n",
              "      border-left-color: var(--fill-color);\n",
              "      border-top-color: var(--fill-color);\n",
              "      border-right-color: var(--fill-color);\n",
              "    }\n",
              "    40% {\n",
              "      border-color: transparent;\n",
              "      border-right-color: var(--fill-color);\n",
              "      border-top-color: var(--fill-color);\n",
              "    }\n",
              "    60% {\n",
              "      border-color: transparent;\n",
              "      border-right-color: var(--fill-color);\n",
              "    }\n",
              "    80% {\n",
              "      border-color: transparent;\n",
              "      border-right-color: var(--fill-color);\n",
              "      border-bottom-color: var(--fill-color);\n",
              "    }\n",
              "    90% {\n",
              "      border-color: transparent;\n",
              "      border-bottom-color: var(--fill-color);\n",
              "    }\n",
              "  }\n",
              "</style>\n",
              "\n",
              "  <script>\n",
              "    async function quickchart(key) {\n",
              "      const quickchartButtonEl =\n",
              "        document.querySelector('#' + key + ' button');\n",
              "      quickchartButtonEl.disabled = true;  // To prevent multiple clicks.\n",
              "      quickchartButtonEl.classList.add('colab-df-spinner');\n",
              "      try {\n",
              "        const charts = await google.colab.kernel.invokeFunction(\n",
              "            'suggestCharts', [key], {});\n",
              "      } catch (error) {\n",
              "        console.error('Error during call to suggestCharts:', error);\n",
              "      }\n",
              "      quickchartButtonEl.classList.remove('colab-df-spinner');\n",
              "      quickchartButtonEl.classList.add('colab-df-quickchart-complete');\n",
              "    }\n",
              "    (() => {\n",
              "      let quickchartButtonEl =\n",
              "        document.querySelector('#df-ad6e0c93-7e96-4dab-8061-6dbf5a8d23e5 button');\n",
              "      quickchartButtonEl.style.display =\n",
              "        google.colab.kernel.accessAllowed ? 'block' : 'none';\n",
              "    })();\n",
              "  </script>\n",
              "</div>\n",
              "\n",
              "    </div>\n",
              "  </div>\n"
            ],
            "application/vnd.google.colaboratory.intrinsic+json": {
              "type": "dataframe",
              "variable_name": "data",
              "summary": "{\n  \"name\": \"data\",\n  \"rows\": 300,\n  \"fields\": [\n    {\n      \"column\": \"text\",\n      \"properties\": {\n        \"dtype\": \"string\",\n        \"num_unique_values\": 300,\n        \"samples\": [\n          \"However, on-loan Jack Wilshere is ineligible against his parent club and Marc Pugh remains an injury doubt.\\nArsenal could be without midfielder Mesut Ozil, who missed the win over Crystal Palace through illness.\\nMohamed Elneny is at the Africa Cup of Nations, while Theo Walcott and Kieran Gibbs could miss out through injury.\\nAlistair Bruce-Ball: \\\"Scorpion pun alert! The football world continues to marvel at Olivier Giroud's remarkable goal, but will there be a sting in the tail for Arsenal on the south coast?\\n\\\"Bournemouth are having an excellent season. At the half-way stage they were 10 points clear of the relegation zone after their 3-0 win at Swansea, they'd won as many home games as Manchester City and Manchester United and were actually a little unlucky to lose 3-1 at the Emirates Stadium at the end of November.\\n\\\"But if Arsenal harbour serious hopes of hauling in Chelsea, then they need to win this game and probably their next three league games before facing Antonio Conte's side on 4 February.\\\"\\nTwitter: @alibruceball\\nBournemouth manager Eddie Howe: \\\"We're still in that moment as a team where we haven't consolidated any consistent run. That's what we're looking to do.\\n\\\"The players have the ability to respond to disappointments and the ability to produce, individually, some very good performances.\\n\\\"So it's a case of trying to do it on a more consistent basis will be the key for us.\\\"\\nBournemouth had a good win at Swansea but they will be without Jack Wilshere for the visit of his parent club.\\nArsenal lost 2-1 at Manchester City and Everton over Christmas and that was perhaps a little blip. It seems to have gone unnoticed, though, and I think they will win on the south coast.\\nPrediction: 0-2\\nLawro's full predictions v comedian Arron Crascall\\nHead-to-head\\nBournemouth\\nArsenal\\nSAM (Sports Analytics Machine) is a super-computer created by @ProfIanMcHale at the University of Salford that is used to predict the outcome of football matches.\",\n          \"Breaking News Emails Get breaking news alerts and special reports. The news and stories that matter, delivered weekday mornings. \\n  \\n / Updated By Sarah Fitzpatrick and Tracy Connor \\n  \\n A top lawyer for the Trump Organization was involved in trying to enforce a secrecy agreement that adult film star Stormy Daniels signed in exchange for $130,000 before the 2016 election, new documents show. \\n  \\n Jill A. Martin, whose LinkedIn profile says she is assistant general counsel for the company, last month signed two legal papers linked to a temporary restraining order against the actress, whose legal name is Stephanie Clifford. \\n  \\n It\\u2019s the latest link between the Trump organization and efforts to silence Clifford, who says in a lawsuit that she had an \\\"intimate\\\" relationship with Donald Trump a decade before he became president. \\n  \\n Trump denies her allegations, and White House spokeswoman Sarah Sanders said last week that as far as she knows, the president was not aware his personal attorney, Michael Cohen, paid off Clifford through a company called EC. \\n  \\n But Clifford\\u2019s attorney, Michael Avenatti, said Martin\\u2019s signature on the paperwork is another piece of evidence that Trump knew about the nondisclosure agreement, the payment and the more recent efforts to stop his client from talking. \\n  \\n \\\"These documents effectively show that contrary to Mr. Cohen\\u2019s representations, there is little to no difference between EC LLC and The Trump Organization/Donald Trump.\\\" \\n  \\n Two documents provided by Avenatti \\u2014 and first reported by the Wall Street Journal \\u2014 bear Martin\\u2019s name: a Feb. 22 demand for private arbitration to determine if Clifford violated the agreement and a declaration that the agreement allowed a company registered to Cohen to obtain a gag order without notifying Clifford. \\n  \\n Martin's California bar listing includes her affiliation with the Trump Organization. \\n  \\n In a statement, the Trump Organization told NBC News, \\\"The Trump Organization is not representing anyone and, with the exception of one of its California-based attorneys in her individual capacity facilitating the initial filing pending the pro hac admission of Mr. Rosen, the company has had no involvement in the matter.\\\" \\n  \\n Stormy Daniels during a press event in 2009. Travis Spradling / The Advocate via AP file \\n  \\n Cohen did not respond to a request for comment, and neither did the attorney representing him, Lawrence Rosen. \\n  \\n Earlier this month, Clifford filed suit against Trump, saying the agreement she signed was void because he had never signed it. The agreement, which was attached to the suit, uses pseudonyms. Clifford said the name Peggy Peterson was used by her, and Avenatti said David Dennison was the name used for Trump. \\n  \\n In a statement last month, Cohen said he used his \\\"personal funds to facilitate a payment\\\" to Clifford. \\\"Neither the Trump Organization nor the Trump campaign was a party to the transaction with Ms. Clifford, and neither reimbursed me for the payment, either directly or indirectly.\\\" \\n  \\n As NBC News reported last week, Cohen used his Trump Organization email instead of his gmail account while arranging to transfer money into an account at a Manhattan bank before he wired the $130,000 to Clifford. \\n  \\n Clifford offered this week to return the $130,000 if the Trump camp would abandon its attempt to keep her quiet. The deadline for that offer passed on Tuesday with no comment from Cohen or the White House. \\n  \\n Sanders addressed the matter at a White House press briefing last Wednesday, saying that the president had denied the allegations and telling reporters, \\\"I can share that the arbitration was won in the President\\u2019s favor, and I would refer you to the President\\u2019s outside counsel on any details beyond that.\\\" ||||| It's been nearly two months since allegations came to light of a past affair between President Trump and adult-film actress Stormy Daniels, and now Daniels is suing. (Jenny Starrs/The Washington Post) \\n  \\n It's been nearly two months since allegations came to light of a past affair between President Trump and adult-film actress Stormy Daniels, and now Daniels is suing. (Jenny Starrs/The Washington Post) \\n  \\n A top Trump Organization attorney filed a secret legal document to keep Stormy Daniels from talking about her alleged affair with President Trump, deepening links between Trump\\u2019s company and the effort to silence the porn star. \\n  \\n The Trump Organization quickly distanced itself from the document, filed as part of confidential arbitration proceedings in Los Angeles on Feb. 22. The document was made public Wednesday evening by CNN and the Wall Street Journal, and The Washington Post confirmed its authenticity with Michael Avenatti, a lawyer for Daniels. \\n  \\n In a statement, the Trump Organization emphasized that the company is not representing anyone in the Daniels dispute and \\u201chas no involvement in the matter.\\u201d \\n  \\n But the document suggests that one of its attorneys was involved in the arbitration proceeding to prevent Daniels from revealing more details about her alleged affair with Trump, which she says began at a 2006 celebrity golf tournament in Lake Tahoe. The White House has suggested that Trump prevailed in the recent arbitration ruling. \\n  \\n The document adds a new twist to the saga of Daniels, who claims she was secretly paid to keep quiet about her relationship with Trump just weeks before his election in November 2016. Trump\\u2019s personal lawyer, Michael Cohen, who worked at the Trump Organization through the election, has said he paid $130,000 to Daniels out of his own pocket, dipping into a home equity line of credit. He has said there was no involvement by Trump\\u2019s company or Trump\\u2019s 2016 campaign. \\n  \\n Adult-film star Stormy Daniels reportedly was paid to remain silent about a sexual relationship with Donald Trump before he was president. On March 6, Daniels sued Trump, alleging the hush agreement was invalid because he didn\\u2019t sign it . (The Washington Post) \\n  \\n The Trump company says Jill A. Martin, a lawyer with the Trump Organization, filed the document in her personal capacity while awaiting permission for another lawyer, not connected to the company, to practice in California. That lawyer, Larry Rosen, did not immediately respond to a request for comment Wednesday night. \\n  \\n Daniels has sued Trump in an effort to break free from a confidentiality agreement that prohibits her from speaking about her alleged affair with Trump. Her deal came two weeks before the election and imposed stiff monetary penalties for speaking about the relationship. \\n  \\n Cohen, Trump\\u2019s personal lawyer, has acknowledged making that payment. He has insisted that he was not reimbursed for the payment by the Trump Organization or the Trump campaign. \\n  \\n White House press secretary Sarah Huckabee Sanders has rejected the notion that Trump approved the payment to Daniels, saying, \\u201cNone of these allegations are true.\\u201d \\n  \\n But late last month, after the $130,000 payment became the subject of media scrutiny, Martin signed documents demanding that Daniels enter into private arbitration with Cohen. \\n  \\n Martin is based at the Trump National Golf Club in Los Angeles, according to California bar records, and her LinkedIn profile says she serves as vice president and assistant general counsel for the Trump Organization. \\n  \\n While the documents do not show that the Trump Organization was involved in the initial payment to Daniels in 2016, they do show that a high-ranking official at the company played a role in efforts to keep the porn star from telling her story now. \\n  \\n Five days after Martin\\u2019s filing, Cohen obtained a temporary restraining order from the arbitrator, preventing Daniels from speaking publicly about the alleged affair. \\n  \\n The notion that Cohen\\u2019s efforts to silence Daniels were walled off from Trump and the Trump Organization \\u201cis a complete and utter fiction,\\u201d Avenatti said Wednesday night on CNN\\u2019s \\u201cAnderson Cooper 360.\\u201d \\n  \\n Cohen \\u201cexpects the American people to believe that he spent all of this time and energy, hours upon hours, doing all of this work, and the president never knew anything about it, and no one in the Trump Organization ever knew anything about it,\\u201d Avenatti said. \\n  \\n Avenatti has said that his goal is to \\u201cshed light\\u201d on Daniels\\u2019s side of the story. He has shown a willingness to surface secret documents, including the original hush agreement Daniels signed in 2016 and that Avenatti contends is invalid because it does not have Trump\\u2019s signature. \\n  \\n Under that hush agreement, disputes must be settled by private arbitration, in which filings are not entered into the public record. The penalty for breaking the agreement is set at $1 million per violation. \\n  \\n Cohen has previously said that Avenatti was exposing Daniels to financial risk and that he intends to pursue damages. \\n  \\n Martin, the Trump Organization lawyer who signed the arbitration documents, is a Trump loyalist who was a vocal supporter of Trump after revelations that he had once bragged about grabbing women. She could not be reached for comment Wednesday. \\n  \\n \\u201cNone of us would ever imagine he would do something like this,\\u201d Martin said on CNN in October 2016. \\u201cIt\\u2019s just completely inconsistent with his character and our own personal experiences, so because of that I believe him when he says he didn\\u2019t do anything inappropriate with women.\\u201d \\n  \\n Also during the presidential campaign, Martin told talk show host Larry King that Trump \\u201cdoes promote women more than I\\u2019ve seen in other big companies,\\u201d describing him as \\u201ca champion of women succeeding in business.\\u201d \\n  \\n Contacted in 2015 for an article about women who had worked closely with Trump, Cohen put forward Martin, who was 35 at the time. Martin, who said she had joined the Trump Organization five years earlier, described Trump as helping to advance her career. When a case went before the U.S. Court of Appeals for the 9th Circuit, Martin said she expected Trump to ask a more experienced male lawyer to argue for the company. But Trump picked her. \\u201cHe said, \\u2018Jill, you\\u2019ll do great,\\u2019 \\u201d she recalled. \\u201cHe pushed me when I needed it.\\u201d \\n  \\n beth.reinhard@washpost.com \\n  \\n frances.sellers@washpost.com ||||| Stormy Daniels last week filed suit in state court in Los Angeles, seeking to have the nondisclosure agreement tossed out because Donald Trump never signed it. | Joe Raedle/Getty Images BuzzFeed maneuver could free Stormy Daniels to speak on Trump \\n  \\n BuzzFeed may have found a legal opening to allow the porn actress Stormy Daniels to discuss her alleged relationship with President Donald Trump and a $130,000 payment she received just before the 2016 election as part of a nondisclosure agreement she is now trying to void. \\n  \\n The same Trump attorney who brokered the deal with Daniels, Michael Cohen, filed a libel suit in January against BuzzFeed and four of its staffers over publication of the so-called dossier compiling accurate, inaccurate and unproven allegations about Trump\\u2019s relationship with Russia. \\n  \\n Story Continued Below \\n  \\n Now, BuzzFeed is using Cohen\\u2019s libel suit as a vehicle to demand that Daniels preserve all records relating to her relationship with Trump, as well as her dealings with Cohen and the payment he has acknowledged arranging in 2016. \\n  \\n On Tuesday, BuzzFeed\\u2019s lawyer wrote to Daniels\\u2019 attorney asking that the adult film actress, whose real name is Stephanie Clifford, preserve various categories of documents. Such preservation letters are often a prelude to a subpoena. If Daniels\\u2019 testimony is formally demanded in a deposition, the nondisclosure agreement would likely be no obstacle, legal experts said. \\n  \\n The letter from BuzzFeed\\u2019s attorney , obtained by POLITICO, argues that Cohen\\u2019s role in paying Daniels is similar to allegations in the dossier about Cohen. The dossier alleges that Cohen met Russian legal officials and legislators in Prague in August 2016 in a bid to \\u201csweep \\u2026 under the carpet\\u201d details of the relationship between Russia and Trump campaign officials like Paul Manafort and Rick Gates. Cohen has flatly denied the claim. \\n  \\n \\u201cMr. Cohen\\u2019s role in President Trump\\u2019s 2016 campaign, including but not limited to any payments he made or facilitated to third parties during or in connection with the campaign, is therefore directly relevant to\\u201d Cohen\\u2019s suit, BuzzFeed lawyer Katherine Bolger wrote. \\n  \\n The most reliable politics newsletter. Sign up for POLITICO Playbook and get the latest news, every morning \\u2014 in your inbox. Email Sign Up By signing up you agree to receive email newsletters or alerts from POLITICO. You can unsubscribe at any time. \\n  \\n Bolger asked Daniels to preserve all records of negotiations, agreements and payments involving Cohen, but also for more direct proof of Daniels\\u2019 alleged connection with Trump, including \\u201cany and all documents or communications about any relationship and/or sexual encounter(s) Ms. Clifford had and/or was alleged to have had, with President Trump.\\u201d \\n  \\n Daniels\\u2019 lawyer, Michael Avenatti, confirmed on Wednesday that he\\u2019d received the letter from BuzzFeed. Asked how Daniels would respond, he said, \\u201cWe don\\u2019t have a position as of yet.\\u201d He declined further comment. \\n  \\n Last week, Daniels filed suit in state court in Los Angeles, seeking to have the nondisclosure agreement tossed out because Trump never signed it. \\n  \\n The preservation notice sent to Daniels\\u2019 attorney was one of more than a dozen such letters BuzzFeed\\u2019s legal team sent this week to a number of high-profile players in the Trump orbit, including former campaign chairman Paul Manafort, Manafort\\u2019s former deputy Rick Gates, former campaign manager Corey Lewandowski, former White House adviser Steve Bannon, current White House adviser Kellyanne Conway and former Trump bodyguard Keith Schiller, as well as Trump\\u2019s son-in-law Jared Kushner and Trump\\u2019s son Donald Trump Jr. \\n  \\n A deposition by Daniels is probably some months away. It would not typically take place in public, but lawyers for either side would be free to release it or related documents unless a judge forbade it. \\n  \\n Cohen\\u2019s attorney in the libel suit against BuzzFeed, David Schwartz, said on Wednesday he was aware of the preservation letters and would probably object to any attempt by the news outlet to dig into the Daniels episode or other matters not referred to directly in the dossier. \\n  \\n \\u201cCertainly at the appropriate time there\\u2019ll be a fight in court as to limitations in discovery in this case,\\u201d Schwartz told POLITICO. \\u201cWe want a very narrow view of discovery for many different reasons. \\u2026 I think those recipients [of the letters] are going to be irrelevant to the case at hand.\\u201d \\n  \\n Schwartz said he expected to be buried in paperwork from the law firms representing BuzzFeed and Fusion GPS, the private investigation firm that commissioned the dossier. Cohen sued Fusion in a separate, parallel libel case in January. \\n  \\n \\u201cThey\\u2019re going to try to wipe us out with demands on every unrelated issue under the sun,\\u201d the attorney for Cohen said. \\u201cI believe when you know something is fake and you still post it as if it were real, where no other news organization would do such a thing, I think you\\u2019re committing an intentional act and they\\u2019re going to be liable for defamation.\\u201d \\n  \\n A spokesman for BuzzFeed suggested that since the libel suit seeks compensation for damage to Cohen\\u2019s reputation, episodes affecting his public standing are fair game for discovery. \\n  \\n \\u201cMr. Cohen\\u2019s personal reputation, and his actions on Donald Trump\\u2019s behalf, are directly relevant to this case,\\u201d spokesman Matt Mittenthal said. \\u201cWe look forward to defending our First Amendment rights in court.\\u201d \\n  \\n Lorraine Woellert contributed to this report. \\n  \\n  |||||\",\n          \"A document uncovered by Harvard's student newspaper included ratings of the attractiveness of female players as well as sexually explicit comments.\\nUniversity President Drew Faust called the behaviour \\\"appalling\\\".\\nThe team, currently in first place in the Ivy League, will forfeit the rest of its games this season.\\nIn what reports indicate may be a yearly tradition, male soccer players at Harvard circulated documents with pictures of their female counterparts, rating their attractiveness from one to 10 and giving reasons for their decisions.\\nThey also noted which sexual position they thought the women in question would prefer.\\nUntil recently, the Harvard Crimson newspaper reports, documents from 2012 were publicly accessible through a former team's Google Group.\\nMs Faust said an investigation had found that the practice had continued to the current season.\\nShe wrote that she \\\"was deeply distressed to learn that the appalling actions of the 2012 men's soccer team were not isolated to one year or the actions of a few individuals\\\".\\nMs Faust added in a statement: \\\"The decision to cancel a season is serious and consequential, and reflects Harvard's view that both the team's behaviour and the failure to be forthcoming when initially questioned are completely unacceptable, have no place at Harvard, and run counter to the mutual respect that is a core value of our community.\\\"\\nThe discovery of sexually explicit comments made by male Harvard athletes is at the milder end of what has been dubbed US college \\\"rape culture\\\".\\nBanners regularly appear at the beginning of the academic year bearing slogans such as: \\\"Rowdy and fun. Hope your baby girl is ready for a good time\\\".\\nStudies have found that members of US college fraternities are three times more likely to commit rape than other male students while members of sororities were 74% more likely to experience sexual assault.\\nPast scandals include an email sent around one fraternity entitled \\\"Luring your rapebait\\\"  and fraternity members chanting \\\"No means yes\\\".\\nThe most recent case involved a Stanford University swimming champion who sexually assaulted an unconscious female student before being jailed for six months - a term condemned by many as too short.\\nWill Stanford sexual assault case silence future victims?\\nBBC Pop Up: Fraternity culture and stopping college rape\\nLast week after the original story came out, the female players in question said they were \\\"appalled that female athletes who are told to feel empowered and proud of their abilities are so regularly reduced to a physical appearance\\\".\\nIn an opinion piece published in the Crimson, they said: \\\"More than anything, we are frustrated that this is a reality that all women have faced in the past and will continue to face throughout their lives.\\\"\\nThe university's director of athletics, Robert Scalise, said: \\\"It's very disappointing and disturbing that people are doing this.\\n\\\"Any time a member of our community says things about other people who are in our community that are disparaging, it takes away from the potential for creating the kind of learning environment that we'd like to have here at Harvard.\\\"\\nThe men's soccer coach Pieter Lehrer wrote in a statement to the Crimson that the team was \\\"beyond disappointed that our season has ended in this way, but we respect the decision made by our administration\\\".\"\n        ],\n        \"semantic_type\": \"\",\n        \"description\": \"\"\n      }\n    },\n    {\n      \"column\": \"summary\",\n      \"properties\": {\n        \"dtype\": \"string\",\n        \"num_unique_values\": 300,\n        \"samples\": [\n          \"Striker Benik Afobe will be available for Bournemouth after opting not to play for DR Congo at this month's Africa Cup of Nations.\",\n          \"\\u2013 Yet another twist in the Stormy Daniels case: Newly released documents link a Trump Organization lawyer to an agreement to block the adult film star from discussing her alleged affair with President Trump, NBC News reports. Assistant general counsel Jill Martin filed a document as part of confidential arbitration proceedings in the case last month, though the Trump Organization says it \\\"has no involvement in the matter\\\" and Martin was serving in a personal capacity, reports the Washington Post. But Daniels' lawyer, Michael Avenatti, says Martin's involvement is more proof that Trump knew about the secrecy agreement and a $130,000 payment Trump's personal lawyer, Michael Cohen, made to Daniels. Avenatti told CNN Wednesday that Cohen's claim that the Trump Organization and Trump himself weren't involved in the agreement is \\\"utter fiction.\\\" Cohen \\\"expects the American people to believe that he spent all of this time and energy, hours upon hours, doing all of this work, and the president never knew anything about it, and no one in the Trump Organization ever knew anything about it,\\\" he said. Politico reports that BuzzFeed may have found a way for Daniels to get around the agreement. Cohen filed a libel lawsuit against BuzzFeed earlier this year over the Russia dossier, and BuzzFeed may use that case to request Daniels' testimony in a deposition. (Daniels has offered to return the $130,000 so she can speak freely.)\",\n          \"Harvard University has suspended its men's soccer team after players made sexual comments about members of the women's team.\"\n        ],\n        \"semantic_type\": \"\",\n        \"description\": \"\"\n      }\n    },\n    {\n      \"column\": \"Dataset\",\n      \"properties\": {\n        \"dtype\": \"category\",\n        \"num_unique_values\": 3,\n        \"samples\": [\n          \"CNN/Daily Mail\",\n          \"XSum\",\n          \"Multi-News\"\n        ],\n        \"semantic_type\": \"\",\n        \"description\": \"\"\n      }\n    }\n  ]\n}"
            }
          },
          "metadata": {},
          "execution_count": 6
        }
      ]
    },
    {
      "cell_type": "code",
      "source": [
        "'''# keep 100 from each Dataset\n",
        "data_sum1_100 = data.groupby('Dataset').head(100).reset_index(drop=True)\n",
        "# count for each Dataset\n",
        "data_sum1_100['Dataset'].value_counts()\n",
        "'''"
      ],
      "metadata": {
        "colab": {
          "base_uri": "https://localhost:8080/",
          "height": 52
        },
        "id": "JLAFgKUEyLle",
        "outputId": "4288d3d7-e210-4707-d8be-b8669fe8e342"
      },
      "execution_count": null,
      "outputs": [
        {
          "output_type": "execute_result",
          "data": {
            "text/plain": [
              "\"# keep 100 from each Dataset\\ndata_sum1_100 = data.groupby('Dataset').head(100).reset_index(drop=True)\\n# count for each Dataset\\ndata_sum1_100['Dataset'].value_counts()\\n\""
            ],
            "application/vnd.google.colaboratory.intrinsic+json": {
              "type": "string"
            }
          },
          "metadata": {},
          "execution_count": 35
        }
      ]
    },
    {
      "cell_type": "code",
      "source": [
        "#data_sum1_100.to_csv('/content/drive/MyDrive/Colab Notebooks/CAP6640_NLP/data/data_sum1_100.csv', index=False)"
      ],
      "metadata": {
        "id": "oBdweBam1DKN"
      },
      "execution_count": null,
      "outputs": []
    },
    {
      "cell_type": "code",
      "source": [
        "len(data)"
      ],
      "metadata": {
        "colab": {
          "base_uri": "https://localhost:8080/"
        },
        "id": "iSY-6K5p6hQN",
        "outputId": "ccbf66eb-b1a1-4b30-c285-bf0cda77d4ce"
      },
      "execution_count": 7,
      "outputs": [
        {
          "output_type": "execute_result",
          "data": {
            "text/plain": [
              "300"
            ]
          },
          "metadata": {},
          "execution_count": 7
        }
      ]
    },
    {
      "cell_type": "code",
      "source": [
        "prompts = pd.read_csv('/content/drive/MyDrive/Colab Notebooks/CAP6640_NLP/data/data_sum1_sample.csv')\n",
        "prompts.head()"
      ],
      "metadata": {
        "colab": {
          "base_uri": "https://localhost:8080/",
          "height": 204
        },
        "id": "AuyaDOWp0nl4",
        "outputId": "1a355483-b319-46a5-922c-bc8d8cb5d9b1"
      },
      "execution_count": 8,
      "outputs": [
        {
          "output_type": "execute_result",
          "data": {
            "text/plain": [
              "                                                text  \\\n",
              "0  Former top prosecutor Sir Keir Starmer says ti...   \n",
              "1  Forget the idea of an old-fashioned ski lodge,...   \n",
              "2  Vincent Kompany remains unavailable but is clo...   \n",
              "3  The winning image, by Hadi Asadi from Iran, sh...   \n",
              "4  \\n  \\n Sam Walton in 1985. (AP Photo) \\n  \\n E...   \n",
              "\n",
              "                                             summary         Dataset  \n",
              "0  Britain's former top prosecutor says time 'sho...  CNN/Daily Mail  \n",
              "1  Club Med: Val Thorens Sensations was designed ...  CNN/Daily Mail  \n",
              "2  Manchester City defender Gael Clichy is likely...            XSum  \n",
              "3  Hundreds of cartoonists from around the world ...            XSum  \n",
              "4  – Today in the ugly lawsuit department: Walmar...      Multi-News  "
            ],
            "text/html": [
              "\n",
              "  <div id=\"df-e439efc6-794a-4f65-a746-677a00834278\" class=\"colab-df-container\">\n",
              "    <div>\n",
              "<style scoped>\n",
              "    .dataframe tbody tr th:only-of-type {\n",
              "        vertical-align: middle;\n",
              "    }\n",
              "\n",
              "    .dataframe tbody tr th {\n",
              "        vertical-align: top;\n",
              "    }\n",
              "\n",
              "    .dataframe thead th {\n",
              "        text-align: right;\n",
              "    }\n",
              "</style>\n",
              "<table border=\"1\" class=\"dataframe\">\n",
              "  <thead>\n",
              "    <tr style=\"text-align: right;\">\n",
              "      <th></th>\n",
              "      <th>text</th>\n",
              "      <th>summary</th>\n",
              "      <th>Dataset</th>\n",
              "    </tr>\n",
              "  </thead>\n",
              "  <tbody>\n",
              "    <tr>\n",
              "      <th>0</th>\n",
              "      <td>Former top prosecutor Sir Keir Starmer says ti...</td>\n",
              "      <td>Britain's former top prosecutor says time 'sho...</td>\n",
              "      <td>CNN/Daily Mail</td>\n",
              "    </tr>\n",
              "    <tr>\n",
              "      <th>1</th>\n",
              "      <td>Forget the idea of an old-fashioned ski lodge,...</td>\n",
              "      <td>Club Med: Val Thorens Sensations was designed ...</td>\n",
              "      <td>CNN/Daily Mail</td>\n",
              "    </tr>\n",
              "    <tr>\n",
              "      <th>2</th>\n",
              "      <td>Vincent Kompany remains unavailable but is clo...</td>\n",
              "      <td>Manchester City defender Gael Clichy is likely...</td>\n",
              "      <td>XSum</td>\n",
              "    </tr>\n",
              "    <tr>\n",
              "      <th>3</th>\n",
              "      <td>The winning image, by Hadi Asadi from Iran, sh...</td>\n",
              "      <td>Hundreds of cartoonists from around the world ...</td>\n",
              "      <td>XSum</td>\n",
              "    </tr>\n",
              "    <tr>\n",
              "      <th>4</th>\n",
              "      <td>\\n  \\n Sam Walton in 1985. (AP Photo) \\n  \\n E...</td>\n",
              "      <td>– Today in the ugly lawsuit department: Walmar...</td>\n",
              "      <td>Multi-News</td>\n",
              "    </tr>\n",
              "  </tbody>\n",
              "</table>\n",
              "</div>\n",
              "    <div class=\"colab-df-buttons\">\n",
              "\n",
              "  <div class=\"colab-df-container\">\n",
              "    <button class=\"colab-df-convert\" onclick=\"convertToInteractive('df-e439efc6-794a-4f65-a746-677a00834278')\"\n",
              "            title=\"Convert this dataframe to an interactive table.\"\n",
              "            style=\"display:none;\">\n",
              "\n",
              "  <svg xmlns=\"http://www.w3.org/2000/svg\" height=\"24px\" viewBox=\"0 -960 960 960\">\n",
              "    <path d=\"M120-120v-720h720v720H120Zm60-500h600v-160H180v160Zm220 220h160v-160H400v160Zm0 220h160v-160H400v160ZM180-400h160v-160H180v160Zm440 0h160v-160H620v160ZM180-180h160v-160H180v160Zm440 0h160v-160H620v160Z\"/>\n",
              "  </svg>\n",
              "    </button>\n",
              "\n",
              "  <style>\n",
              "    .colab-df-container {\n",
              "      display:flex;\n",
              "      gap: 12px;\n",
              "    }\n",
              "\n",
              "    .colab-df-convert {\n",
              "      background-color: #E8F0FE;\n",
              "      border: none;\n",
              "      border-radius: 50%;\n",
              "      cursor: pointer;\n",
              "      display: none;\n",
              "      fill: #1967D2;\n",
              "      height: 32px;\n",
              "      padding: 0 0 0 0;\n",
              "      width: 32px;\n",
              "    }\n",
              "\n",
              "    .colab-df-convert:hover {\n",
              "      background-color: #E2EBFA;\n",
              "      box-shadow: 0px 1px 2px rgba(60, 64, 67, 0.3), 0px 1px 3px 1px rgba(60, 64, 67, 0.15);\n",
              "      fill: #174EA6;\n",
              "    }\n",
              "\n",
              "    .colab-df-buttons div {\n",
              "      margin-bottom: 4px;\n",
              "    }\n",
              "\n",
              "    [theme=dark] .colab-df-convert {\n",
              "      background-color: #3B4455;\n",
              "      fill: #D2E3FC;\n",
              "    }\n",
              "\n",
              "    [theme=dark] .colab-df-convert:hover {\n",
              "      background-color: #434B5C;\n",
              "      box-shadow: 0px 1px 3px 1px rgba(0, 0, 0, 0.15);\n",
              "      filter: drop-shadow(0px 1px 2px rgba(0, 0, 0, 0.3));\n",
              "      fill: #FFFFFF;\n",
              "    }\n",
              "  </style>\n",
              "\n",
              "    <script>\n",
              "      const buttonEl =\n",
              "        document.querySelector('#df-e439efc6-794a-4f65-a746-677a00834278 button.colab-df-convert');\n",
              "      buttonEl.style.display =\n",
              "        google.colab.kernel.accessAllowed ? 'block' : 'none';\n",
              "\n",
              "      async function convertToInteractive(key) {\n",
              "        const element = document.querySelector('#df-e439efc6-794a-4f65-a746-677a00834278');\n",
              "        const dataTable =\n",
              "          await google.colab.kernel.invokeFunction('convertToInteractive',\n",
              "                                                    [key], {});\n",
              "        if (!dataTable) return;\n",
              "\n",
              "        const docLinkHtml = 'Like what you see? Visit the ' +\n",
              "          '<a target=\"_blank\" href=https://colab.research.google.com/notebooks/data_table.ipynb>data table notebook</a>'\n",
              "          + ' to learn more about interactive tables.';\n",
              "        element.innerHTML = '';\n",
              "        dataTable['output_type'] = 'display_data';\n",
              "        await google.colab.output.renderOutput(dataTable, element);\n",
              "        const docLink = document.createElement('div');\n",
              "        docLink.innerHTML = docLinkHtml;\n",
              "        element.appendChild(docLink);\n",
              "      }\n",
              "    </script>\n",
              "  </div>\n",
              "\n",
              "\n",
              "<div id=\"df-52998464-f527-414d-8383-33d6c03cf6a9\">\n",
              "  <button class=\"colab-df-quickchart\" onclick=\"quickchart('df-52998464-f527-414d-8383-33d6c03cf6a9')\"\n",
              "            title=\"Suggest charts\"\n",
              "            style=\"display:none;\">\n",
              "\n",
              "<svg xmlns=\"http://www.w3.org/2000/svg\" height=\"24px\"viewBox=\"0 0 24 24\"\n",
              "     width=\"24px\">\n",
              "    <g>\n",
              "        <path d=\"M19 3H5c-1.1 0-2 .9-2 2v14c0 1.1.9 2 2 2h14c1.1 0 2-.9 2-2V5c0-1.1-.9-2-2-2zM9 17H7v-7h2v7zm4 0h-2V7h2v10zm4 0h-2v-4h2v4z\"/>\n",
              "    </g>\n",
              "</svg>\n",
              "  </button>\n",
              "\n",
              "<style>\n",
              "  .colab-df-quickchart {\n",
              "      --bg-color: #E8F0FE;\n",
              "      --fill-color: #1967D2;\n",
              "      --hover-bg-color: #E2EBFA;\n",
              "      --hover-fill-color: #174EA6;\n",
              "      --disabled-fill-color: #AAA;\n",
              "      --disabled-bg-color: #DDD;\n",
              "  }\n",
              "\n",
              "  [theme=dark] .colab-df-quickchart {\n",
              "      --bg-color: #3B4455;\n",
              "      --fill-color: #D2E3FC;\n",
              "      --hover-bg-color: #434B5C;\n",
              "      --hover-fill-color: #FFFFFF;\n",
              "      --disabled-bg-color: #3B4455;\n",
              "      --disabled-fill-color: #666;\n",
              "  }\n",
              "\n",
              "  .colab-df-quickchart {\n",
              "    background-color: var(--bg-color);\n",
              "    border: none;\n",
              "    border-radius: 50%;\n",
              "    cursor: pointer;\n",
              "    display: none;\n",
              "    fill: var(--fill-color);\n",
              "    height: 32px;\n",
              "    padding: 0;\n",
              "    width: 32px;\n",
              "  }\n",
              "\n",
              "  .colab-df-quickchart:hover {\n",
              "    background-color: var(--hover-bg-color);\n",
              "    box-shadow: 0 1px 2px rgba(60, 64, 67, 0.3), 0 1px 3px 1px rgba(60, 64, 67, 0.15);\n",
              "    fill: var(--button-hover-fill-color);\n",
              "  }\n",
              "\n",
              "  .colab-df-quickchart-complete:disabled,\n",
              "  .colab-df-quickchart-complete:disabled:hover {\n",
              "    background-color: var(--disabled-bg-color);\n",
              "    fill: var(--disabled-fill-color);\n",
              "    box-shadow: none;\n",
              "  }\n",
              "\n",
              "  .colab-df-spinner {\n",
              "    border: 2px solid var(--fill-color);\n",
              "    border-color: transparent;\n",
              "    border-bottom-color: var(--fill-color);\n",
              "    animation:\n",
              "      spin 1s steps(1) infinite;\n",
              "  }\n",
              "\n",
              "  @keyframes spin {\n",
              "    0% {\n",
              "      border-color: transparent;\n",
              "      border-bottom-color: var(--fill-color);\n",
              "      border-left-color: var(--fill-color);\n",
              "    }\n",
              "    20% {\n",
              "      border-color: transparent;\n",
              "      border-left-color: var(--fill-color);\n",
              "      border-top-color: var(--fill-color);\n",
              "    }\n",
              "    30% {\n",
              "      border-color: transparent;\n",
              "      border-left-color: var(--fill-color);\n",
              "      border-top-color: var(--fill-color);\n",
              "      border-right-color: var(--fill-color);\n",
              "    }\n",
              "    40% {\n",
              "      border-color: transparent;\n",
              "      border-right-color: var(--fill-color);\n",
              "      border-top-color: var(--fill-color);\n",
              "    }\n",
              "    60% {\n",
              "      border-color: transparent;\n",
              "      border-right-color: var(--fill-color);\n",
              "    }\n",
              "    80% {\n",
              "      border-color: transparent;\n",
              "      border-right-color: var(--fill-color);\n",
              "      border-bottom-color: var(--fill-color);\n",
              "    }\n",
              "    90% {\n",
              "      border-color: transparent;\n",
              "      border-bottom-color: var(--fill-color);\n",
              "    }\n",
              "  }\n",
              "</style>\n",
              "\n",
              "  <script>\n",
              "    async function quickchart(key) {\n",
              "      const quickchartButtonEl =\n",
              "        document.querySelector('#' + key + ' button');\n",
              "      quickchartButtonEl.disabled = true;  // To prevent multiple clicks.\n",
              "      quickchartButtonEl.classList.add('colab-df-spinner');\n",
              "      try {\n",
              "        const charts = await google.colab.kernel.invokeFunction(\n",
              "            'suggestCharts', [key], {});\n",
              "      } catch (error) {\n",
              "        console.error('Error during call to suggestCharts:', error);\n",
              "      }\n",
              "      quickchartButtonEl.classList.remove('colab-df-spinner');\n",
              "      quickchartButtonEl.classList.add('colab-df-quickchart-complete');\n",
              "    }\n",
              "    (() => {\n",
              "      let quickchartButtonEl =\n",
              "        document.querySelector('#df-52998464-f527-414d-8383-33d6c03cf6a9 button');\n",
              "      quickchartButtonEl.style.display =\n",
              "        google.colab.kernel.accessAllowed ? 'block' : 'none';\n",
              "    })();\n",
              "  </script>\n",
              "</div>\n",
              "\n",
              "    </div>\n",
              "  </div>\n"
            ],
            "application/vnd.google.colaboratory.intrinsic+json": {
              "type": "dataframe",
              "variable_name": "prompts",
              "summary": "{\n  \"name\": \"prompts\",\n  \"rows\": 6,\n  \"fields\": [\n    {\n      \"column\": \"text\",\n      \"properties\": {\n        \"dtype\": \"string\",\n        \"num_unique_values\": 6,\n        \"samples\": [\n          \"Former top prosecutor Sir Keir Starmer says time should be a barrier to justice . Britain's former top prosecutor has controversially defended police who hold suspects in a \\u2018legal limbo\\u2019 for years while alleged crimes are investigated. Keir Starmer, the ex- Director of Public Prosecutions, disagreed with those who have called for time limits on how long a person can languish on bail without being charged. He said time \\u2018should not be a barrier\\u2019 to bringing people to justice for crimes committed decades earlier. A number of high-profile celebrities, including Rolf Harris and Stuart Hall, have been convicted of sex crimes that happened years ago after their victims finally plucked up the courage to complain about the attacks. But there have been mounting concerns about cases where suspects are left on bail for long periods \\u2013 often with strict curbs to their freedom \\u2013 without charges being pressed. Veteran disc jockey Paul Gambaccini spent 12 months on bail after being arrested by officers from Operation Yewtree, the inquiry launched after Jimmy Savile was unmasked as a prolific paedophile after his death, only to be told last month (OCT) he would not face sexual assault charges. The openly gay DJ, who was investigated over historic allegations of molesting two teenage boys, told of his \\u201812 months of horror and trauma\\u2019 having his name dragged through the mud. Home Secretary Theresa May has signalled she wants time limits on pre-charge bail amid mounting concern that police forces are misusing their powers by keeping people dangling for months and even years. In an article in this week\\u2019s Radio Times, on sale today TUES, Mr Starmer said the passage of time should not provide immunity against bringing charges against historic offenders. He said: \\u2018I do not underestimate the impact that delay has on those arrested and subsequently released without charge, such as Paul Gambaccini. Equally, there is the impact on those tried and acquitted. \\u2018But they are features of our system whatever the time limits for bringing a case. \\u2018I certainly wouldn\\u2019t want to replicate the situation in countries such as North Korea where virtually all those arrested are charged and virtually all those charged are convicted. \\u2018That some individuals are released without charge and some are acquitted demonstrates the strength, not the weakness, of our approach.\\u2019 Police are allowed 24 hours to keep a suspect for questioning after arrest before seeking a further period of detention from a judge. A number of high-profile celebrities, including Rolf Harris, left, and Stuart Hall, right, have been convicted of sex crimes that happened years ago after their victims finally plucked up the courage to complain . In practice, they often quiz a person then release them on pre-charge bail to return for further interview at a later date, giving officers time to build robust cases. But there are currently no restrictions on the length of time a person can spend on police bail which can force innocent people to put their lives on hold, pay thousands in legal fees and suffer the slow assassination of their character. Conditions can also be placed on police bail, which can include curfews and restrictions on movement and financial transactions while an investigation continues. Comedian Jim Davidson lashed out at the system after being arrested under the Operation Yewtree and kept on bail for eight months before being told he would not face any charges. Freddie Starr, another comedian, spent 19 months on bail after being arrest by officers investigating decades-old sex allegations made by 14 women. The case was dropped. Veteran DJ Paul Gambaccini spent 12 months on bail after being arrested by officers from Operation Yewtree, but was told last month he would not face sexual assault charges . Some 30 journalists are currently on bail \\u2013 some for more than a year \\u2013 while police investigate alleged crimes including phone hacking and paying public officials for stories. The College of Policing, the professional body that sets police standards, have been asked by ministers to consider introducing time limits for pre-charge bail, which human rights groups believe should be 28 days. Mr Starmer said it was right to prosecute people for historic crimes \\u2013 whether it was a \\u2018an Auschwitz guard standing trial in Germany\\u2026 or a host of greying celebrities on suspicion of historic sex crimes.\\u2019 He said there had been a \\u2018profound shift\\u2019 from the long-held view that not bringing a prosecution within a certain period of time was \\u2018not fair on defendents\\u2019. There had been a \\u2018growing understanding that time runs at different speed for victims,\\u2019 particularly those who had suffered sexual violence, he said. \\u2018In a sense they carry an unresolved issue with them, almost an open wound, for many years, maybe even for their entire lives. \\u2018We are rightly reluctant to say that those now coming forward to report serious allegations, not infrequently against those in the public eye, that they are simply too late.\\u2019 Acknowledging that the passage of time caused \\u2018difficiulties\\u2019 for both the prosecution and defence, because of fading memories and lost evidence, he said it was \\u2018simply not a good enough reason not to bring a case\\u2019. Mr Starmer said: \\u2018Most importantly, we now understand victims\\u2019 interests better and recognise that, for many, achieving closure, the knowledge that someone has been held to account, is an end in itself. \\u2018We have to be bolder, and clearer, in saying that pure delay should not be a barrier to bringing people to justice. The public does not accept any longer that the passage of time immunises anyone. \\u2018My own view is that for the most serious offences, and in that I include serious sexual offences, time should never run out.\\u2019\",\n          \"Forget the idea of an old-fashioned ski lodge, the newest Club Med hotel in the French Alps oozes Scandinavian style, chic design and some rather unusual accessories. But with bars and beer taps on each floor, an outdoor Jacuzzi for relaxation and a location just steps from the slopes, it seems this new resort has it all. Val Thorens Sensations is a hotel with a distinctive, quirky design, luxurious touches and even  a climbing wall in the foyer. Scroll down for video . What greets guests when they walk into the reception at Club Med: Val Thorens Sensations . The sleek, Scandinavian-style bedrooms boast gigantic beds and a luxurious seating area . Bedrooms feature a wall mounted television that has access to English channels and a vast library of movies . Every balcony faces the slopes to give guests excellent views and as much sunshine as possible . The new resort is the first of its kind to be completely crowd-sourced. Through Facebook, locals and Club Med fans were invited to vote for what they wanted from the huge 384-room hotel. In response, the look and feel of the resort were tailored based on feedback, from the carpet colours to the new sports facilities. Stepping foot inside the hotel you can't help but be in awe at the scale of the complex. It takes 15 minutes to walk from one block of rooms to another. The bedrooms are all designed so they face the sun, ensuring guests get the most sunshine on offer flooding into the rooms that come complete with a behemoth sized bed and luxurious seating area. One of the many quirky areas in the main dining room is an indoor Yurt . The\\u00a0Epicurious restaurant offers guests a more specialist menu and more luxurious areas they can unwind in . Guests will have access to a spectacular array of wines in the\\u00a0Epicurious restaurant . Staff are trained to give  guests the best advice and recommendations when they are choosing their wine . Epicurious has a balcony with sunbeds and seating areas as well as an outdoor jacuzzi . The hotel has a main restaurant that serves buffet food with a handful of chefs cooking fresh meals to order as well as Epicurious, a separate dining area that offers picnic style food, a wine cellar and even a deli and grocery section. For the boozy members of your party, there is a bar or beer tap on every floor and during the night the fourth floor Prism bar turns into a nightclub, complete with a bizarre-but-must-see French take on Butlins style entertainment. Interestingly, Club Med recently published a report that revealed that families are 'gramping' or going on ski holidays with the grandparents. This new trend also revealed that grandparents are more inclined to pay for the whole holiday as a treat for the family. The view from the\\u00a0Epicurious balcony, showing the hotel's close proximity to the slopes . Val Thorens if the highest resort in France and offers a superb variety of runs for snow sports enthusiasts . MailOnline's Ash Tulett hits the heights of the Val Thorens slopes with his snowboard . Former Olympic skier Graham Bell, an ambassador for the resort, joins writer Ash  to board down the slopes . A week at Club Med's Val Thorens Sensations resort starts from\\u00a0\\u00a31,597 per person, including\\u00a0flights and accommodation, access to all of the hotel's facilities, lift pass, ski instructors and food and drink. Visit clubmed.co.uk . Grandparents were repeatedly cited as an important part of the modern ski holiday with a fifth of holidaymakers having skied with extended family and grandparents in the last two years, probably because they provide excellent free childcare. However, here is where one of the best parts of the Club Med all inclusive concept comes into play. Private ski lessons with the top ESF ski instructors are actually included in your price. What does that mean for you? Well it means that you can either ski as a whole family or split off into three groups without having to worry that anyone is at risk of hurting themselves. Club Med: Val Thorens Sensations boasts a high-tech gym, aerobics studio and steam room . Guests are also given the chance to practice their climbing skills with this indoor climbing wall . To be honest, even if you don't need the lessons, it's worth getting an instructor, just because you can save so much time jumping queues at gondolas and chairlifts. And they're sure to  offer local knowledge and some helpful pointers about technique along the way. One thing you should be aware of is that ski, board and boot rental aren't included in the price and will set you back another \\u00a3150 depending on how much rental gear you need. I preferred to hit the slopes on my snowboard. And after a day of trying (and failing) to beat a five-time Winter Olympian (Graham Bell is a resort ambassador) there was nothing better than heading back to the resort, soaking up the spa and heading for a drink. I can safely say I steered clear of that climbing wall all week.\",\n          \"These crawls are part of an effort to archive pages as they are created and archive the pages that they refer to. That way, as the pages that are referenced are changed or taken from the web, a link to the version that was live when the page was written will be preserved.Then the Internet Archive hopes that references to these archived pages will be put in place of a link that would be otherwise be broken, or a companion link to allow people to see what was originally intended by a page's authors.The goal is to fix all broken links on the web . Crawls of supported \\\"No More 404\\\" sites. ||||| HONG KONG \\u2014 The firefighters rushed to the disused mine outside Malaysia\\u2019s capital in a steady rain Wednesday evening, searching for a teenager who had slipped into a pond. The rescue effort quickly turned into one of the worst disasters the country\\u2019s emergency services have ever experienced, with six firefighters drowning in the dark, rushing waters, officials said Thursday. \\n  \\n The deaths come three months after rescuers in neighboring Thailand safely evacuated 12 boys and the coach of their soccer team from a cave, where they had been trapped for days. One diver died in that effort, which attracted global attention. \\n  \\n But in Malaysia, what began as a routine rescue went horribly awry with a shocking swiftness. Videos published online show the men struggling in choppy water, illuminated only by flashlights, with the sounds of shouts and rushing water filling the air. \\n  \\n Mohammad Hamdan Wahid, director general of the Fire and Rescue Department of Malaysia, told reporters attending the funeral of the men on Thursday that it was the most department personnel ever killed during a single rescue operation, the Malay Mail newspaper reported. ||||| These crawls are part of an effort to archive pages as they are created and archive the pages that they refer to. That way, as the pages that are referenced are changed or taken from the web, a link to the version that was live when the page was written will be preserved.Then the Internet Archive hopes that references to these archived pages will be put in place of a link that would be otherwise be broken, or a companion link to allow people to see what was originally intended by a page's authors.The goal is to fix all broken links on the web . Crawls of supported \\\"No More 404\\\" sites. ||||| Image copyright Getty Images Image caption The divers were from Malaysia's Fire and Rescue department \\n  \\n Six rescue divers have drowned while trying to save a teenager from a disused mining pool in Malaysia. \\n  \\n They were searching for a 17-year-old boy who is thought to have fallen into the body of water while fishing with his friends on Wednesday. \\n  \\n Authorities said the divers became caught in a \\\"whirlpool\\\" and sudden strong currents caused some of their equipment to come off. \\n  \\n The search for the missing boy resumed on Thursday. \\n  \\n 'A very sad day' \\n  \\n The boy and his friends were about to start fishing at the mining pool in Sepang district in Selangor state when he fell in, reports said. \\n  \\n The divers followed all safety procedures as they went into the pool on a search and rescue mission, according to Sepang district police chief Abdul Aziz Ali. \\n  \\n They were all wearing complete diving equipment and were tied to a single rope, he said. \\n  \\n Mr Aziz told state news agency Bernama that a strong current \\\"caused all victims to spin in the water\\\", adding that this caused their equipment to come off. \\n  \\n \\\"A whirlpool had formed at the area and a team on the banks said they saw the six divers struggling to get out,\\\" Fire and Rescue Department director-general Mohammad Hamdan Wahid told the New Straits Times. \\n  \\n The men were in the water for about 30 minutes while their colleagues tried to rescue them. All six were unconscious when they were pulled out of the water and could not be resuscitated. \\n  \\n \\\"This is the first time as many as six personnel died,\\\" Mr Wahid told Bernama. \\\"This is a very sad day for us.\\\" \\n  \\n Mr Wahid said an initial investigation suggested that a floodwall near the area failed to contain gushing water brought about by heavy rain earlier that day, causing the strong current. \\n  \\n 'The ultimate sacrifice' \\n  \\n Some 500 people turned out at a funeral prayer ceremony on Thursday to pay their last respects to the six victims. \\n  \\n Their bodies were earlier today sent back to their respective hometowns. \\n  \\n Image copyright Bomba \\n  \\n Across social media, tributes poured in for the six divers. \\n  \\n Tunku Ismail, the Crown Prince of the state of Johor, added that he knew \\\"how it felt to lose men while on duty\\\". \\n  \\n Malaysian Prime Minister Mahathir Mohamad also expressed his condolences to the victims' families, urging them to \\\"remain strong in this challenging period\\\". \\n  \\n The Fire and Rescue Department of Malaysia also paid tribute to their divers in a Facebook post. |||||\"\n        ],\n        \"semantic_type\": \"\",\n        \"description\": \"\"\n      }\n    },\n    {\n      \"column\": \"summary\",\n      \"properties\": {\n        \"dtype\": \"string\",\n        \"num_unique_values\": 6,\n        \"samples\": [\n          \"Britain's former top prosecutor says time 'should not be a barrier' to justice .\\nDisagreed with those who call for time limits on how long a person can remain on bail without being charged .\\nComes after a number of celebrities, including Rolf Harris and Stuart Hall, have been convicted of crimes committed decades ago .\",\n          \"Club Med: Val Thorens Sensations was designed via crowd-sourcing .\\nFacebook consultation decided from carpet colours to sports facilities .\\nHotel includes a climbing wall and bars with beer taps on each floor .\",\n          \"\\u2013 One tragedy in Malaysia has been compounded by an even greater one: Six rescuers drowned Wednesday night while trying to find a teen who'd fallen into an abandoned mining pool, reports the BBC. The firefighters had tied themselves together with a rope and formed a human chain as they searched the pool, but one of the men slipped and sent them all underwater, reports the New York Times. It appears they became trapped in whirlpool-like conditions. \\\"Suddenly a strong current occurred in the area, causing all victims to spin in the water while all their equipment came off of them,\\u201d says a Malaysian rescue official. The men were pulled unconscious from the water about 30 minutes later. (They are remembered here.) The water in the pool is typically chest high, reports the New Straits Times, but heavy rain may have caused a nearby floodwall to give in, making conditions far more dangerous. And because the men had been searching along the surface of the water, they weren't wearing scuba equipment. The body of missing 17-year-old Muhammad Ilham Fahmy Muhammad Azzam, who fell in while fishing with friends, was found Thursday, per the Straits Times.\"\n        ],\n        \"semantic_type\": \"\",\n        \"description\": \"\"\n      }\n    },\n    {\n      \"column\": \"Dataset\",\n      \"properties\": {\n        \"dtype\": \"string\",\n        \"num_unique_values\": 3,\n        \"samples\": [\n          \"CNN/Daily Mail\",\n          \"XSum\",\n          \"Multi-News\"\n        ],\n        \"semantic_type\": \"\",\n        \"description\": \"\"\n      }\n    }\n  ]\n}"
            }
          },
          "metadata": {},
          "execution_count": 8
        }
      ]
    },
    {
      "cell_type": "code",
      "source": [
        "prompts['text'][0]"
      ],
      "metadata": {
        "colab": {
          "base_uri": "https://localhost:8080/",
          "height": 137
        },
        "id": "fjrGt3tI1Wzv",
        "outputId": "9e28fd40-b8cc-4c26-ec3d-95004c4b8a6a"
      },
      "execution_count": null,
      "outputs": [
        {
          "output_type": "execute_result",
          "data": {
            "text/plain": [
              "\"Former top prosecutor Sir Keir Starmer says time should be a barrier to justice . Britain's former top prosecutor has controversially defended police who hold suspects in a ‘legal limbo’ for years while alleged crimes are investigated. Keir Starmer, the ex- Director of Public Prosecutions, disagreed with those who have called for time limits on how long a person can languish on bail without being charged. He said time ‘should not be a barrier’ to bringing people to justice for crimes committed decades earlier. A number of high-profile celebrities, including Rolf Harris and Stuart Hall, have been convicted of sex crimes that happened years ago after their victims finally plucked up the courage to complain about the attacks. But there have been mounting concerns about cases where suspects are left on bail for long periods – often with strict curbs to their freedom – without charges being pressed. Veteran disc jockey Paul Gambaccini spent 12 months on bail after being arrested by officers from Operation Yewtree, the inquiry launched after Jimmy Savile was unmasked as a prolific paedophile after his death, only to be told last month (OCT) he would not face sexual assault charges. The openly gay DJ, who was investigated over historic allegations of molesting two teenage boys, told of his ‘12 months of horror and trauma’ having his name dragged through the mud. Home Secretary Theresa May has signalled she wants time limits on pre-charge bail amid mounting concern that police forces are misusing their powers by keeping people dangling for months and even years. In an article in this week’s Radio Times, on sale today TUES, Mr Starmer said the passage of time should not provide immunity against bringing charges against historic offenders. He said: ‘I do not underestimate the impact that delay has on those arrested and subsequently released without charge, such as Paul Gambaccini. Equally, there is the impact on those tried and acquitted. ‘But they are features of our system whatever the time limits for bringing a case. ‘I certainly wouldn’t want to replicate the situation in countries such as North Korea where virtually all those arrested are charged and virtually all those charged are convicted. ‘That some individuals are released without charge and some are acquitted demonstrates the strength, not the weakness, of our approach.’ Police are allowed 24 hours to keep a suspect for questioning after arrest before seeking a further period of detention from a judge. A number of high-profile celebrities, including Rolf Harris, left, and Stuart Hall, right, have been convicted of sex crimes that happened years ago after their victims finally plucked up the courage to complain . In practice, they often quiz a person then release them on pre-charge bail to return for further interview at a later date, giving officers time to build robust cases. But there are currently no restrictions on the length of time a person can spend on police bail which can force innocent people to put their lives on hold, pay thousands in legal fees and suffer the slow assassination of their character. Conditions can also be placed on police bail, which can include curfews and restrictions on movement and financial transactions while an investigation continues. Comedian Jim Davidson lashed out at the system after being arrested under the Operation Yewtree and kept on bail for eight months before being told he would not face any charges. Freddie Starr, another comedian, spent 19 months on bail after being arrest by officers investigating decades-old sex allegations made by 14 women. The case was dropped. Veteran DJ Paul Gambaccini spent 12 months on bail after being arrested by officers from Operation Yewtree, but was told last month he would not face sexual assault charges . Some 30 journalists are currently on bail – some for more than a year – while police investigate alleged crimes including phone hacking and paying public officials for stories. The College of Policing, the professional body that sets police standards, have been asked by ministers to consider introducing time limits for pre-charge bail, which human rights groups believe should be 28 days. Mr Starmer said it was right to prosecute people for historic crimes – whether it was a ‘an Auschwitz guard standing trial in Germany… or a host of greying celebrities on suspicion of historic sex crimes.’ He said there had been a ‘profound shift’ from the long-held view that not bringing a prosecution within a certain period of time was ‘not fair on defendents’. There had been a ‘growing understanding that time runs at different speed for victims,’ particularly those who had suffered sexual violence, he said. ‘In a sense they carry an unresolved issue with them, almost an open wound, for many years, maybe even for their entire lives. ‘We are rightly reluctant to say that those now coming forward to report serious allegations, not infrequently against those in the public eye, that they are simply too late.’ Acknowledging that the passage of time caused ‘difficiulties’ for both the prosecution and defence, because of fading memories and lost evidence, he said it was ‘simply not a good enough reason not to bring a case’. Mr Starmer said: ‘Most importantly, we now understand victims’ interests better and recognise that, for many, achieving closure, the knowledge that someone has been held to account, is an end in itself. ‘We have to be bolder, and clearer, in saying that pure delay should not be a barrier to bringing people to justice. The public does not accept any longer that the passage of time immunises anyone. ‘My own view is that for the most serious offences, and in that I include serious sexual offences, time should never run out.’\""
            ],
            "application/vnd.google.colaboratory.intrinsic+json": {
              "type": "string"
            }
          },
          "metadata": {},
          "execution_count": 29
        }
      ]
    },
    {
      "cell_type": "code",
      "source": [
        "prompts['summary'][0]"
      ],
      "metadata": {
        "colab": {
          "base_uri": "https://localhost:8080/",
          "height": 69
        },
        "id": "gkH1ZY1tzpJG",
        "outputId": "ffdb5d3b-da51-4cf4-880d-ae7b99b1b071"
      },
      "execution_count": null,
      "outputs": [
        {
          "output_type": "execute_result",
          "data": {
            "text/plain": [
              "\"Britain's former top prosecutor says time 'should not be a barrier' to justice .\\nDisagreed with those who call for time limits on how long a person can remain on bail without being charged .\\nComes after a number of celebrities, including Rolf Harris and Stuart Hall, have been convicted of crimes committed decades ago .\""
            ],
            "application/vnd.google.colaboratory.intrinsic+json": {
              "type": "string"
            }
          },
          "metadata": {},
          "execution_count": 30
        }
      ]
    },
    {
      "cell_type": "code",
      "source": [
        "zero_shot = f\"\"\" \"\"\"\n",
        "\n",
        "one_shot = f\"\"\"\n",
        "              Input: {prompts['text'][0]}\n",
        "              Output: {prompts['summary'][0]}\n",
        "\"\"\"\n",
        "\n",
        "three_shot = f\"\"\"\n",
        "              Input: {prompts['text'][1]}\n",
        "              Output: {prompts['summary'][1]}\n",
        "              Input: {prompts['text'][3]}\n",
        "              Output: {prompts['summary'][3]}\n",
        "              Input: {prompts['text'][5]}\n",
        "              Output: {prompts['summary'][5]}\n",
        "\"\"\"\n"
      ],
      "metadata": {
        "id": "orn7FXuHuLvq"
      },
      "execution_count": 9,
      "outputs": []
    },
    {
      "cell_type": "code",
      "source": [
        "# text summary with GPT\n",
        "\n",
        "def summarize_text(text):\n",
        "    try:\n",
        "        # Call GPT-3.5 Turbo\n",
        "        response = openai.chat.completions.create(\n",
        "            model=\"gpt-3.5-turbo\",\n",
        "            messages=[\n",
        "                {\"role\": \"system\", \"content\": \"Summarize the following news articles to highlight the key facts. Provide answers to who, what, when, where, why and how in the summary. The summary should be a few sentences long.\"},\n",
        "                {\"role\": \"assistant\", \"content\": shot},\n",
        "                {\"role\": \"user\", \"content\": text}\n",
        "            ]\n",
        "        )\n",
        "        # Extract and return the response\n",
        "        summary = response.choices[0].message.content.strip()\n",
        "#       print(response.choices[0].message.content)\n",
        "        return summary\n",
        "    except Exception as e:\n",
        "        return f\"Error: {e}\""
      ],
      "metadata": {
        "id": "3LPSU6N1KWis"
      },
      "execution_count": 10,
      "outputs": []
    },
    {
      "cell_type": "code",
      "source": [
        "# adjust for desired prompt / model / data size\n",
        "test_size = 10 #len(data)   # can adjust for smaller testing\n",
        "\n",
        "function = summarize_text\n",
        "shot_name = \"three_shot\"      # change for zero / one / three shot\n",
        "model_name = \"gpt-3.5-turbo\"  # change for different models"
      ],
      "metadata": {
        "id": "2A44Q-SnLLuI"
      },
      "execution_count": 35,
      "outputs": []
    },
    {
      "cell_type": "code",
      "source": [
        "\n",
        "prediction = []\n",
        "\n",
        "if shot_name == \"one_shot\":\n",
        "  shot = one_shot\n",
        "elif shot_name == \"three_shot\":\n",
        "  shot = three_shot\n",
        "else:\n",
        "  shot = zero_shot\n",
        "\n",
        "\n",
        "\n",
        "def summarize(data):\n",
        "  count = 0\n",
        "  for i, texts in enumerate(data.text[:test_size]):\n",
        "    result = function(texts)\n",
        "    count += 1\n",
        "    if count % 100 == 0:\n",
        "      print(count)\n",
        "\n",
        "    prediction.append(result)\n",
        "\n"
      ],
      "metadata": {
        "id": "tOAd4ULQjrQh",
        "collapsed": true
      },
      "execution_count": 36,
      "outputs": []
    },
    {
      "cell_type": "code",
      "source": [
        "summarize(data)\n"
      ],
      "metadata": {
        "id": "6byaxd0_MlLj"
      },
      "execution_count": 37,
      "outputs": []
    },
    {
      "cell_type": "code",
      "source": [
        "len(prediction)"
      ],
      "metadata": {
        "colab": {
          "base_uri": "https://localhost:8080/"
        },
        "id": "OtOy5YLX_iaT",
        "outputId": "e809247e-eef8-459a-dc56-fd1aea57605b"
      },
      "execution_count": 38,
      "outputs": [
        {
          "output_type": "execute_result",
          "data": {
            "text/plain": [
              "10"
            ]
          },
          "metadata": {},
          "execution_count": 38
        }
      ]
    },
    {
      "cell_type": "code",
      "source": [
        "# reference to list\n",
        "reference = data.summary[:test_size].tolist()\n"
      ],
      "metadata": {
        "id": "5Q1ruPaEzSWo"
      },
      "execution_count": 39,
      "outputs": []
    },
    {
      "cell_type": "code",
      "source": [
        "reference[0]"
      ],
      "metadata": {
        "colab": {
          "base_uri": "https://localhost:8080/",
          "height": 69
        },
        "id": "FusjfH33rkv5",
        "outputId": "dfee7195-d372-49fc-90d5-240b0a125750"
      },
      "execution_count": 40,
      "outputs": [
        {
          "output_type": "execute_result",
          "data": {
            "text/plain": [
              "'On launch Land Rover described it as the most versatile car in the world .\\nDesigned to combine comfort and on-road ability of Rover saloon with off-road skill of Land Rover .\\nStylish two-door model was originally delivered to Michael Forlong, who produced two Range Rover promotion films .\\nIt then had a number of owners before vanishing until the 1990s when an enthusiast discovered it .\\nHe then spent six years carrying out restoration on the off-roader .\\nKnown as #001, it has a 3.5-litre V8 engine and 135bhp .'"
            ],
            "application/vnd.google.colaboratory.intrinsic+json": {
              "type": "string"
            }
          },
          "metadata": {},
          "execution_count": 40
        }
      ]
    },
    {
      "cell_type": "code",
      "source": [
        "prediction[0]"
      ],
      "metadata": {
        "colab": {
          "base_uri": "https://localhost:8080/",
          "height": 69
        },
        "id": "72Ihljm6romy",
        "outputId": "9066fdf3-6066-4568-ecf9-597ab9830dad"
      },
      "execution_count": 41,
      "outputs": [
        {
          "output_type": "execute_result",
          "data": {
            "text/plain": [
              "\"The first production Range Rover, which set the benchmark for luxury 4x4s, is going up for auction in London on September 4 and is expected to sell for over £150,000. The two-door green model, registered as YVB 151H, was built in 1969 and registered in 1970, designed to combine comfort with off-road capabilities. The car underwent a meticulous restoration and is expected to attract significant interest from enthusiasts and investors at auction. Despite having only two doors, the car is considered a 'matching numbers' model with original components, including a 3.5-liter V8 engine and a top speed of over 100mph.\""
            ],
            "application/vnd.google.colaboratory.intrinsic+json": {
              "type": "string"
            }
          },
          "metadata": {},
          "execution_count": 41
        }
      ]
    },
    {
      "cell_type": "code",
      "source": [
        "file_name"
      ],
      "metadata": {
        "colab": {
          "base_uri": "https://localhost:8080/",
          "height": 35
        },
        "id": "F0XtzZ5XTq52",
        "outputId": "d0459f78-fece-4804-ffd3-26162262f537"
      },
      "execution_count": 42,
      "outputs": [
        {
          "output_type": "execute_result",
          "data": {
            "text/plain": [
              "'data_sum1_100'"
            ],
            "application/vnd.google.colaboratory.intrinsic+json": {
              "type": "string"
            }
          },
          "metadata": {},
          "execution_count": 42
        }
      ]
    },
    {
      "cell_type": "code",
      "source": [
        "shot_name\n"
      ],
      "metadata": {
        "id": "g4pW4KbFw_QG",
        "colab": {
          "base_uri": "https://localhost:8080/",
          "height": 35
        },
        "outputId": "3052149d-f143-44fe-f1d9-be9f1f929095"
      },
      "execution_count": 43,
      "outputs": [
        {
          "output_type": "execute_result",
          "data": {
            "text/plain": [
              "'three_shot'"
            ],
            "application/vnd.google.colaboratory.intrinsic+json": {
              "type": "string"
            }
          },
          "metadata": {},
          "execution_count": 43
        }
      ]
    },
    {
      "cell_type": "code",
      "source": [
        "size = len(prediction)\n",
        "size"
      ],
      "metadata": {
        "id": "Ng52X2ya8YnF",
        "colab": {
          "base_uri": "https://localhost:8080/"
        },
        "outputId": "774e979f-da47-4db0-a4f6-1ec094ecf780"
      },
      "execution_count": 44,
      "outputs": [
        {
          "output_type": "execute_result",
          "data": {
            "text/plain": [
              "10"
            ]
          },
          "metadata": {},
          "execution_count": 44
        }
      ]
    },
    {
      "cell_type": "code",
      "source": [
        "# view metrics and save\n",
        "def view_and_save_metrics(prediction, reference):\n",
        "  # BLEU\n",
        "  bleu = sacrebleu.corpus_bleu(prediction, [reference])\n",
        "#  print(f\"BLEU: {bleu.score}\")\n",
        "\n",
        "  # Tokenize sentences for METEOR\n",
        "  prediction_tokens = [nltk.word_tokenize(pred) for pred in prediction]\n",
        "  reference_tokens = [[nltk.word_tokenize(ref)] for ref in reference]  # Note the double list for reference\n",
        "\n",
        "  # METEOR (sentence-level average)\n",
        "  meteor_scores = [\n",
        "      meteor_score(ref_tokens, pred_tokens)\n",
        "      for ref_tokens, pred_tokens in zip(reference_tokens, prediction_tokens)\n",
        "  ]\n",
        "  avg_meteor = sum(meteor_scores) / len(meteor_scores)\n",
        "\n",
        "  # ROUGE\n",
        "  rouge = evaluate.load('rouge')\n",
        "  rouge_scores = rouge.compute(predictions=prediction, references=reference)\n",
        "#  print(f\"ROUGE: {rouge_scores}\")\n",
        "\n",
        "  # BERT Score\n",
        "  P_, R_, F1 = score(prediction, reference, lang=\"el\")\n",
        "  # print(f\"Avg BERTScore F1: {F1.mean().item():.4f}\")\n",
        "  bert_score = F1.mean().item()\n",
        "\n",
        "  metrics = {\n",
        "      \"bleu\": bleu.score,\n",
        "      \"meteor\": avg_meteor,\n",
        "      \"bert_score\": bert_score,\n",
        "      \"model_name\": model_name,\n",
        "      \"dataset\": file_name,\n",
        "      \"shot\": shot_name,\n",
        "      \"size\": size\n",
        "  }\n",
        "\n",
        "  metrics.update(rouge_scores)\n",
        "  '''\n",
        "  # Print all metrics\n",
        "  print(\"\\n--- Evaluation Metrics ---\")\n",
        "  print(f\"BLEU:   {bleu.score:.4f}\")\n",
        "  print(f\"METEOR: {avg_meteor:.4f}\")\n",
        "  for k, v in rouge_scores.items():\n",
        "      print(f\"{k.upper()}: {v:.4f}\")\n",
        "  '''\n",
        "\n",
        "  # save metrics to csv file\n",
        "  metrics_df = pd.DataFrame([metrics])\n",
        "  metrics_df.to_csv('/content/drive/MyDrive/Colab Notebooks/CAP6640_NLP/metrics/summarization/metrics_'+model_name+'_'+file_name+'_'+shot_name+'_'+str(size)+'.csv', index=False)\n",
        "  return metrics_df"
      ],
      "metadata": {
        "id": "aSVaLAzQmEhx"
      },
      "execution_count": 45,
      "outputs": []
    },
    {
      "cell_type": "code",
      "source": [
        "metrics = view_and_save_metrics(prediction, reference)\n",
        "metrics"
      ],
      "metadata": {
        "id": "gD5uoHr5-Hup",
        "colab": {
          "base_uri": "https://localhost:8080/",
          "height": 89
        },
        "outputId": "7116be03-7702-4f55-98ac-a856a66ce329"
      },
      "execution_count": 46,
      "outputs": [
        {
          "output_type": "execute_result",
          "data": {
            "text/plain": [
              "       bleu    meteor  bert_score     model_name        dataset        shot  \\\n",
              "0  4.776009  0.291851    0.702336  gpt-3.5-turbo  data_sum1_100  three_shot   \n",
              "\n",
              "   size    rouge1    rouge2    rougeL  rougeLsum  \n",
              "0    10  0.278971  0.086445  0.179653   0.235603  "
            ],
            "text/html": [
              "\n",
              "  <div id=\"df-0cc844f3-5d21-4d16-8942-86c16bd3742b\" class=\"colab-df-container\">\n",
              "    <div>\n",
              "<style scoped>\n",
              "    .dataframe tbody tr th:only-of-type {\n",
              "        vertical-align: middle;\n",
              "    }\n",
              "\n",
              "    .dataframe tbody tr th {\n",
              "        vertical-align: top;\n",
              "    }\n",
              "\n",
              "    .dataframe thead th {\n",
              "        text-align: right;\n",
              "    }\n",
              "</style>\n",
              "<table border=\"1\" class=\"dataframe\">\n",
              "  <thead>\n",
              "    <tr style=\"text-align: right;\">\n",
              "      <th></th>\n",
              "      <th>bleu</th>\n",
              "      <th>meteor</th>\n",
              "      <th>bert_score</th>\n",
              "      <th>model_name</th>\n",
              "      <th>dataset</th>\n",
              "      <th>shot</th>\n",
              "      <th>size</th>\n",
              "      <th>rouge1</th>\n",
              "      <th>rouge2</th>\n",
              "      <th>rougeL</th>\n",
              "      <th>rougeLsum</th>\n",
              "    </tr>\n",
              "  </thead>\n",
              "  <tbody>\n",
              "    <tr>\n",
              "      <th>0</th>\n",
              "      <td>4.776009</td>\n",
              "      <td>0.291851</td>\n",
              "      <td>0.702336</td>\n",
              "      <td>gpt-3.5-turbo</td>\n",
              "      <td>data_sum1_100</td>\n",
              "      <td>three_shot</td>\n",
              "      <td>10</td>\n",
              "      <td>0.278971</td>\n",
              "      <td>0.086445</td>\n",
              "      <td>0.179653</td>\n",
              "      <td>0.235603</td>\n",
              "    </tr>\n",
              "  </tbody>\n",
              "</table>\n",
              "</div>\n",
              "    <div class=\"colab-df-buttons\">\n",
              "\n",
              "  <div class=\"colab-df-container\">\n",
              "    <button class=\"colab-df-convert\" onclick=\"convertToInteractive('df-0cc844f3-5d21-4d16-8942-86c16bd3742b')\"\n",
              "            title=\"Convert this dataframe to an interactive table.\"\n",
              "            style=\"display:none;\">\n",
              "\n",
              "  <svg xmlns=\"http://www.w3.org/2000/svg\" height=\"24px\" viewBox=\"0 -960 960 960\">\n",
              "    <path d=\"M120-120v-720h720v720H120Zm60-500h600v-160H180v160Zm220 220h160v-160H400v160Zm0 220h160v-160H400v160ZM180-400h160v-160H180v160Zm440 0h160v-160H620v160ZM180-180h160v-160H180v160Zm440 0h160v-160H620v160Z\"/>\n",
              "  </svg>\n",
              "    </button>\n",
              "\n",
              "  <style>\n",
              "    .colab-df-container {\n",
              "      display:flex;\n",
              "      gap: 12px;\n",
              "    }\n",
              "\n",
              "    .colab-df-convert {\n",
              "      background-color: #E8F0FE;\n",
              "      border: none;\n",
              "      border-radius: 50%;\n",
              "      cursor: pointer;\n",
              "      display: none;\n",
              "      fill: #1967D2;\n",
              "      height: 32px;\n",
              "      padding: 0 0 0 0;\n",
              "      width: 32px;\n",
              "    }\n",
              "\n",
              "    .colab-df-convert:hover {\n",
              "      background-color: #E2EBFA;\n",
              "      box-shadow: 0px 1px 2px rgba(60, 64, 67, 0.3), 0px 1px 3px 1px rgba(60, 64, 67, 0.15);\n",
              "      fill: #174EA6;\n",
              "    }\n",
              "\n",
              "    .colab-df-buttons div {\n",
              "      margin-bottom: 4px;\n",
              "    }\n",
              "\n",
              "    [theme=dark] .colab-df-convert {\n",
              "      background-color: #3B4455;\n",
              "      fill: #D2E3FC;\n",
              "    }\n",
              "\n",
              "    [theme=dark] .colab-df-convert:hover {\n",
              "      background-color: #434B5C;\n",
              "      box-shadow: 0px 1px 3px 1px rgba(0, 0, 0, 0.15);\n",
              "      filter: drop-shadow(0px 1px 2px rgba(0, 0, 0, 0.3));\n",
              "      fill: #FFFFFF;\n",
              "    }\n",
              "  </style>\n",
              "\n",
              "    <script>\n",
              "      const buttonEl =\n",
              "        document.querySelector('#df-0cc844f3-5d21-4d16-8942-86c16bd3742b button.colab-df-convert');\n",
              "      buttonEl.style.display =\n",
              "        google.colab.kernel.accessAllowed ? 'block' : 'none';\n",
              "\n",
              "      async function convertToInteractive(key) {\n",
              "        const element = document.querySelector('#df-0cc844f3-5d21-4d16-8942-86c16bd3742b');\n",
              "        const dataTable =\n",
              "          await google.colab.kernel.invokeFunction('convertToInteractive',\n",
              "                                                    [key], {});\n",
              "        if (!dataTable) return;\n",
              "\n",
              "        const docLinkHtml = 'Like what you see? Visit the ' +\n",
              "          '<a target=\"_blank\" href=https://colab.research.google.com/notebooks/data_table.ipynb>data table notebook</a>'\n",
              "          + ' to learn more about interactive tables.';\n",
              "        element.innerHTML = '';\n",
              "        dataTable['output_type'] = 'display_data';\n",
              "        await google.colab.output.renderOutput(dataTable, element);\n",
              "        const docLink = document.createElement('div');\n",
              "        docLink.innerHTML = docLinkHtml;\n",
              "        element.appendChild(docLink);\n",
              "      }\n",
              "    </script>\n",
              "  </div>\n",
              "\n",
              "\n",
              "  <div id=\"id_b7564f61-7f2a-4b94-ab84-09be4c141b5a\">\n",
              "    <style>\n",
              "      .colab-df-generate {\n",
              "        background-color: #E8F0FE;\n",
              "        border: none;\n",
              "        border-radius: 50%;\n",
              "        cursor: pointer;\n",
              "        display: none;\n",
              "        fill: #1967D2;\n",
              "        height: 32px;\n",
              "        padding: 0 0 0 0;\n",
              "        width: 32px;\n",
              "      }\n",
              "\n",
              "      .colab-df-generate:hover {\n",
              "        background-color: #E2EBFA;\n",
              "        box-shadow: 0px 1px 2px rgba(60, 64, 67, 0.3), 0px 1px 3px 1px rgba(60, 64, 67, 0.15);\n",
              "        fill: #174EA6;\n",
              "      }\n",
              "\n",
              "      [theme=dark] .colab-df-generate {\n",
              "        background-color: #3B4455;\n",
              "        fill: #D2E3FC;\n",
              "      }\n",
              "\n",
              "      [theme=dark] .colab-df-generate:hover {\n",
              "        background-color: #434B5C;\n",
              "        box-shadow: 0px 1px 3px 1px rgba(0, 0, 0, 0.15);\n",
              "        filter: drop-shadow(0px 1px 2px rgba(0, 0, 0, 0.3));\n",
              "        fill: #FFFFFF;\n",
              "      }\n",
              "    </style>\n",
              "    <button class=\"colab-df-generate\" onclick=\"generateWithVariable('metrics')\"\n",
              "            title=\"Generate code using this dataframe.\"\n",
              "            style=\"display:none;\">\n",
              "\n",
              "  <svg xmlns=\"http://www.w3.org/2000/svg\" height=\"24px\"viewBox=\"0 0 24 24\"\n",
              "       width=\"24px\">\n",
              "    <path d=\"M7,19H8.4L18.45,9,17,7.55,7,17.6ZM5,21V16.75L18.45,3.32a2,2,0,0,1,2.83,0l1.4,1.43a1.91,1.91,0,0,1,.58,1.4,1.91,1.91,0,0,1-.58,1.4L9.25,21ZM18.45,9,17,7.55Zm-12,3A5.31,5.31,0,0,0,4.9,8.1,5.31,5.31,0,0,0,1,6.5,5.31,5.31,0,0,0,4.9,4.9,5.31,5.31,0,0,0,6.5,1,5.31,5.31,0,0,0,8.1,4.9,5.31,5.31,0,0,0,12,6.5,5.46,5.46,0,0,0,6.5,12Z\"/>\n",
              "  </svg>\n",
              "    </button>\n",
              "    <script>\n",
              "      (() => {\n",
              "      const buttonEl =\n",
              "        document.querySelector('#id_b7564f61-7f2a-4b94-ab84-09be4c141b5a button.colab-df-generate');\n",
              "      buttonEl.style.display =\n",
              "        google.colab.kernel.accessAllowed ? 'block' : 'none';\n",
              "\n",
              "      buttonEl.onclick = () => {\n",
              "        google.colab.notebook.generateWithVariable('metrics');\n",
              "      }\n",
              "      })();\n",
              "    </script>\n",
              "  </div>\n",
              "\n",
              "    </div>\n",
              "  </div>\n"
            ],
            "application/vnd.google.colaboratory.intrinsic+json": {
              "type": "dataframe",
              "variable_name": "metrics",
              "summary": "{\n  \"name\": \"metrics\",\n  \"rows\": 1,\n  \"fields\": [\n    {\n      \"column\": \"bleu\",\n      \"properties\": {\n        \"dtype\": \"number\",\n        \"std\": null,\n        \"min\": 4.776008921664425,\n        \"max\": 4.776008921664425,\n        \"num_unique_values\": 1,\n        \"samples\": [\n          4.776008921664425\n        ],\n        \"semantic_type\": \"\",\n        \"description\": \"\"\n      }\n    },\n    {\n      \"column\": \"meteor\",\n      \"properties\": {\n        \"dtype\": \"number\",\n        \"std\": null,\n        \"min\": 0.2918510835539777,\n        \"max\": 0.2918510835539777,\n        \"num_unique_values\": 1,\n        \"samples\": [\n          0.2918510835539777\n        ],\n        \"semantic_type\": \"\",\n        \"description\": \"\"\n      }\n    },\n    {\n      \"column\": \"bert_score\",\n      \"properties\": {\n        \"dtype\": \"number\",\n        \"std\": null,\n        \"min\": 0.7023364305496216,\n        \"max\": 0.7023364305496216,\n        \"num_unique_values\": 1,\n        \"samples\": [\n          0.7023364305496216\n        ],\n        \"semantic_type\": \"\",\n        \"description\": \"\"\n      }\n    },\n    {\n      \"column\": \"model_name\",\n      \"properties\": {\n        \"dtype\": \"string\",\n        \"num_unique_values\": 1,\n        \"samples\": [\n          \"gpt-3.5-turbo\"\n        ],\n        \"semantic_type\": \"\",\n        \"description\": \"\"\n      }\n    },\n    {\n      \"column\": \"dataset\",\n      \"properties\": {\n        \"dtype\": \"string\",\n        \"num_unique_values\": 1,\n        \"samples\": [\n          \"data_sum1_100\"\n        ],\n        \"semantic_type\": \"\",\n        \"description\": \"\"\n      }\n    },\n    {\n      \"column\": \"shot\",\n      \"properties\": {\n        \"dtype\": \"string\",\n        \"num_unique_values\": 1,\n        \"samples\": [\n          \"three_shot\"\n        ],\n        \"semantic_type\": \"\",\n        \"description\": \"\"\n      }\n    },\n    {\n      \"column\": \"size\",\n      \"properties\": {\n        \"dtype\": \"number\",\n        \"std\": null,\n        \"min\": 10,\n        \"max\": 10,\n        \"num_unique_values\": 1,\n        \"samples\": [\n          10\n        ],\n        \"semantic_type\": \"\",\n        \"description\": \"\"\n      }\n    },\n    {\n      \"column\": \"rouge1\",\n      \"properties\": {\n        \"dtype\": \"number\",\n        \"std\": null,\n        \"min\": 0.27897069807852726,\n        \"max\": 0.27897069807852726,\n        \"num_unique_values\": 1,\n        \"samples\": [\n          0.27897069807852726\n        ],\n        \"semantic_type\": \"\",\n        \"description\": \"\"\n      }\n    },\n    {\n      \"column\": \"rouge2\",\n      \"properties\": {\n        \"dtype\": \"number\",\n        \"std\": null,\n        \"min\": 0.0864451906236626,\n        \"max\": 0.0864451906236626,\n        \"num_unique_values\": 1,\n        \"samples\": [\n          0.0864451906236626\n        ],\n        \"semantic_type\": \"\",\n        \"description\": \"\"\n      }\n    },\n    {\n      \"column\": \"rougeL\",\n      \"properties\": {\n        \"dtype\": \"number\",\n        \"std\": null,\n        \"min\": 0.17965314264241194,\n        \"max\": 0.17965314264241194,\n        \"num_unique_values\": 1,\n        \"samples\": [\n          0.17965314264241194\n        ],\n        \"semantic_type\": \"\",\n        \"description\": \"\"\n      }\n    },\n    {\n      \"column\": \"rougeLsum\",\n      \"properties\": {\n        \"dtype\": \"number\",\n        \"std\": null,\n        \"min\": 0.2356030799894456,\n        \"max\": 0.2356030799894456,\n        \"num_unique_values\": 1,\n        \"samples\": [\n          0.2356030799894456\n        ],\n        \"semantic_type\": \"\",\n        \"description\": \"\"\n      }\n    }\n  ]\n}"
            }
          },
          "metadata": {},
          "execution_count": 46
        }
      ]
    },
    {
      "cell_type": "code",
      "source": [],
      "metadata": {
        "id": "MexdsWpk56Pz"
      },
      "execution_count": null,
      "outputs": []
    }
  ]
}